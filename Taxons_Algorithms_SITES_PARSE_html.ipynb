{
 "cells": [
  {
   "cell_type": "code",
   "execution_count": 1,
   "metadata": {},
   "outputs": [
    {
     "name": "stderr",
     "output_type": "stream",
     "text": [
      "C:\\Users\\mbabaeva\\AppData\\Local\\Continuum\\anaconda3\\lib\\site-packages\\ipykernel\\parentpoller.py:116: UserWarning: Parent poll failed.  If the frontend dies,\n",
      "                the kernel may be left running.  Please let us know\n",
      "                about your system (bitness, Python, etc.) at\n",
      "                ipython-dev@scipy.org\n",
      "  ipython-dev@scipy.org\"\"\")\n"
     ]
    }
   ],
   "source": [
    "import urllib.request,re\n",
    "import requests\n",
    "import numpy as np\n",
    "import pandas as pd\n",
    "import numpy as np\n",
    "import time\n",
    "import bs4"
   ]
  },
  {
   "cell_type": "code",
   "execution_count": 2,
   "metadata": {},
   "outputs": [
    {
     "data": {
      "text/plain": [
       "'03.ru - Медицинские консультации онлайн | Скорая помощь врачей | Работаем с 1998 года'"
      ]
     },
     "execution_count": 2,
     "metadata": {},
     "output_type": "execute_result"
    }
   ],
   "source": [
    "#Пример работы парсинга на одном сайте\n",
    "r = requests.get('http://03.ru')\n",
    "html=bs4.BeautifulSoup(r.text)\n",
    "y=html.title.text\n",
    "y"
   ]
  },
  {
   "cell_type": "code",
   "execution_count": 8,
   "metadata": {},
   "outputs": [
    {
     "data": {
      "text/plain": [
       "(351621, 1)"
      ]
     },
     "execution_count": 8,
     "metadata": {},
     "output_type": "execute_result"
    }
   ],
   "source": [
    "#Считываем файл\n",
    "df = pd.read_csv('C:/Users/mbabaeva/Documents/CLUSTERING/Cluster_of_16/mb_jan2019_only_sites.csv')\n",
    "#df_t=df['host']\n",
    "df.shape"
   ]
  },
  {
   "cell_type": "code",
   "execution_count": null,
   "metadata": {},
   "outputs": [
    {
     "name": "stdout",
     "output_type": "stream",
     "text": [
      "Wall time: 0 ns\n"
     ]
    }
   ],
   "source": [
    "%time\n",
    "start = time.time()\n",
    "\n",
    "sites_list = []\n",
    "for k in df_t[45001:60000]: #ВЫСТАВЛЯЕМ КАКИЕ САЙТЫ ОБРАБАТЫВАЕМ ex.  с нулевого по пятидесятый сайт\n",
    "    try:\n",
    "        f = requests.get('http://'+k) \n",
    "        html=bs4.BeautifulSoup(f.text)\n",
    "        y=html.title.text\n",
    "        sites_list.append(y)\n",
    "    except:\n",
    "        phones = []\n",
    "        sites_list.append(phones)\n",
    "\n",
    "end = time.time()\n",
    "print(end - start)"
   ]
  },
  {
   "cell_type": "code",
   "execution_count": null,
   "metadata": {},
   "outputs": [],
   "source": [
    "df_p = pd.DataFrame({'text':sites_list})\n",
    "df_p.head(2)"
   ]
  },
  {
   "cell_type": "code",
   "execution_count": null,
   "metadata": {},
   "outputs": [],
   "source": [
    "df_tt=df_t[45001:60000]\n",
    "df_ttt=df_tt.to_frame()\n",
    "df_ttt.reset_index(drop=True, inplace=True) \n",
    "df_ttt.head(2)"
   ]
  },
  {
   "cell_type": "code",
   "execution_count": null,
   "metadata": {},
   "outputs": [],
   "source": [
    "df0 = pd.merge(df_ttt, df_p, left_index=True, right_index=True)"
   ]
  },
  {
   "cell_type": "code",
   "execution_count": null,
   "metadata": {},
   "outputs": [],
   "source": [
    "df0.head(2)"
   ]
  },
  {
   "cell_type": "code",
   "execution_count": null,
   "metadata": {},
   "outputs": [],
   "source": [
    "df0 = df0.loc[pd.notnull(df0.host) & pd.notnull(df0.text)].reset_index(drop=True)\n",
    "df0 = df0.loc[(df0.text.apply(len) > 15) & (df0.text.apply(len) < 150)].reset_index(drop=True)\n",
    "df0=df0.loc[(df0['text'].str.contains(\"(?i)порно\") == False)\n",
    "             &(df0['text'].str.contains(\"(?i)секс\") == False)\n",
    "               &(df0['text'].str.contains(\"(?i)интим\") == False)\n",
    "                  &(df0['text'].str.contains(\"(?i)porno\") == False)\n",
    "              &(df0['text'].str.contains(\"(?i)sex\") == False)]\n",
    "df0.head(5)"
   ]
  },
  {
   "cell_type": "code",
   "execution_count": null,
   "metadata": {},
   "outputs": [],
   "source": [
    "df0.to_csv('Cleaned_sites_45001-60000.csv', index=False)"
   ]
  },
  {
   "cell_type": "code",
   "execution_count": 11,
   "metadata": {},
   "outputs": [
    {
     "data": {
      "text/plain": [
       "12038"
      ]
     },
     "execution_count": 11,
     "metadata": {},
     "output_type": "execute_result"
    }
   ],
   "source": [
    "len(df0)"
   ]
  },
  {
   "cell_type": "code",
   "execution_count": null,
   "metadata": {},
   "outputs": [],
   "source": []
  }
 ],
 "metadata": {
  "kernelspec": {
   "display_name": "Python 3",
   "language": "python",
   "name": "python3"
  },
  "language_info": {
   "codemirror_mode": {
    "name": "ipython",
    "version": 3
   },
   "file_extension": ".py",
   "mimetype": "text/x-python",
   "name": "python",
   "nbconvert_exporter": "python",
   "pygments_lexer": "ipython3",
   "version": "3.7.0"
  }
 },
 "nbformat": 4,
 "nbformat_minor": 2
}
