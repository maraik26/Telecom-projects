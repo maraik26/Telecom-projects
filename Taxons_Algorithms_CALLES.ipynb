{
 "cells": [
  {
   "cell_type": "code",
   "execution_count": 17,
   "metadata": {},
   "outputs": [],
   "source": [
    "import urllib.request,re\n",
    "import requests\n",
    "import numpy as np\n",
    "import pandas as pd\n",
    "import numpy as np\n",
    "import time\n",
    "import bs4"
   ]
  },
  {
   "cell_type": "markdown",
   "metadata": {},
   "source": [
    "# Delivery_food номера"
   ]
  },
  {
   "cell_type": "code",
   "execution_count": 7,
   "metadata": {},
   "outputs": [
    {
     "data": {
      "text/plain": [
       "1081"
      ]
     },
     "execution_count": 7,
     "metadata": {},
     "output_type": "execute_result"
    }
   ],
   "source": [
    "#Загружаем отсегментированые сайты\n",
    "df888 = pd.read_csv('C:/Users/mbabaeva/Documents/CLUSTERING/Cluster_of_16/sites_test/Delivery_food.csv')\n",
    "df4=df888['url']\n",
    "df6 = df888['text']\n",
    "df5 = df4[0]\n",
    "len(df4)"
   ]
  },
  {
   "cell_type": "code",
   "execution_count": 8,
   "metadata": {},
   "outputs": [
    {
     "data": {
      "text/html": [
       "<div>\n",
       "<style scoped>\n",
       "    .dataframe tbody tr th:only-of-type {\n",
       "        vertical-align: middle;\n",
       "    }\n",
       "\n",
       "    .dataframe tbody tr th {\n",
       "        vertical-align: top;\n",
       "    }\n",
       "\n",
       "    .dataframe thead th {\n",
       "        text-align: right;\n",
       "    }\n",
       "</style>\n",
       "<table border=\"1\" class=\"dataframe\">\n",
       "  <thead>\n",
       "    <tr style=\"text-align: right;\">\n",
       "      <th></th>\n",
       "      <th>url</th>\n",
       "      <th>count</th>\n",
       "      <th>text</th>\n",
       "    </tr>\n",
       "  </thead>\n",
       "  <tbody>\n",
       "    <tr>\n",
       "      <th>0</th>\n",
       "      <td>setsushi.ru</td>\n",
       "      <td>21631.0</td>\n",
       "      <td>Доставка суши в Москве бесплатно, заказать нед...</td>\n",
       "    </tr>\n",
       "    <tr>\n",
       "      <th>1</th>\n",
       "      <td>sushi-master.ru</td>\n",
       "      <td>15011.0</td>\n",
       "      <td>Суши Мастер - сеть ресторанов доставки блюд яп...</td>\n",
       "    </tr>\n",
       "    <tr>\n",
       "      <th>2</th>\n",
       "      <td>da-eda.ru</td>\n",
       "      <td>10479.0</td>\n",
       "      <td>Да-еда - Заказать еду домой и в офис в Ижевске...</td>\n",
       "    </tr>\n",
       "  </tbody>\n",
       "</table>\n",
       "</div>"
      ],
      "text/plain": [
       "               url    count                                               text\n",
       "0      setsushi.ru  21631.0  Доставка суши в Москве бесплатно, заказать нед...\n",
       "1  sushi-master.ru  15011.0  Суши Мастер - сеть ресторанов доставки блюд яп...\n",
       "2        da-eda.ru  10479.0  Да-еда - Заказать еду домой и в офис в Ижевске..."
      ]
     },
     "execution_count": 8,
     "metadata": {},
     "output_type": "execute_result"
    }
   ],
   "source": [
    "df888.head(3)"
   ]
  },
  {
   "cell_type": "code",
   "execution_count": 10,
   "metadata": {},
   "outputs": [
    {
     "name": "stdout",
     "output_type": "stream",
     "text": [
      "Wall time: 0 ns\n",
      "1792.4418737888336\n"
     ]
    }
   ],
   "source": [
    "%time\n",
    "start = time.time()\n",
    "\n",
    "sites_list = []\n",
    "for k in df4:\n",
    "    try:\n",
    "        f = urllib.request.urlopen('http://'+k) \n",
    "        s = f.read().decode('utf-8')\n",
    "        phones = re.findall(r\"\\+?[z7-8]+\\s?\\(?\\d{3}\\)?[-]?\\s?\\d{3}[-.\\s]?\\d{2}[-.\\s]?\\d{2}\",s)\n",
    "        df = pd.DataFrame({'col':phones})\n",
    "        df1=df.col.apply(lambda x: x.replace('+','').replace(' ','').replace('(','').replace(')','').replace('-',''))\n",
    "        df1 = df1.drop_duplicates(keep='first')\n",
    "        el_list = []\n",
    "        for el in df1:\n",
    "            if len(el)==11 and el not in el_list:\n",
    "                el = el[1:]\n",
    "                el_list.append(el)\n",
    "        sites_list.append(el_list)\n",
    "\n",
    "    except:\n",
    "        phones = []\n",
    "        sites_list.append(phones)\n",
    "#s=s.decode('latin-1')utf-8\n",
    "end = time.time()\n",
    "print(end - start)\n",
    "\n",
    "list_a=[]\n",
    "for i in range(0, len(df4)):\n",
    "    df_t = pd.DataFrame({'col':sites_list[i]})\n",
    "    df_t['url'] = df4[i]\n",
    "    df_t['text'] = df6[i]\n",
    "    list_a.append(df_t)\n",
    "df_ff5 = pd.concat(list_a, ignore_index=True)"
   ]
  },
  {
   "cell_type": "code",
   "execution_count": 42,
   "metadata": {},
   "outputs": [
    {
     "data": {
      "text/plain": [
       "4126"
      ]
     },
     "execution_count": 42,
     "metadata": {},
     "output_type": "execute_result"
    }
   ],
   "source": [
    "#df_ff5['col'].to_csv('test/deliveryfoodnumbers.csv', index=False)\n",
    "len(df_ff5)"
   ]
  },
  {
   "cell_type": "code",
   "execution_count": 11,
   "metadata": {},
   "outputs": [],
   "source": [
    "df_ff5.to_csv('test/deliveryfoodnumbersall.csv', index=False) #загружаем на кластер"
   ]
  },
  {
   "cell_type": "code",
   "execution_count": 14,
   "metadata": {},
   "outputs": [
    {
     "data": {
      "text/html": [
       "<div>\n",
       "<style scoped>\n",
       "    .dataframe tbody tr th:only-of-type {\n",
       "        vertical-align: middle;\n",
       "    }\n",
       "\n",
       "    .dataframe tbody tr th {\n",
       "        vertical-align: top;\n",
       "    }\n",
       "\n",
       "    .dataframe thead th {\n",
       "        text-align: right;\n",
       "    }\n",
       "</style>\n",
       "<table border=\"1\" class=\"dataframe\">\n",
       "  <thead>\n",
       "    <tr style=\"text-align: right;\">\n",
       "      <th></th>\n",
       "      <th>col</th>\n",
       "      <th>url</th>\n",
       "      <th>text</th>\n",
       "    </tr>\n",
       "  </thead>\n",
       "  <tbody>\n",
       "    <tr>\n",
       "      <th>0</th>\n",
       "      <td>8007075550</td>\n",
       "      <td>sushi-master.ru</td>\n",
       "      <td>Суши Мастер - сеть ресторанов доставки блюд яп...</td>\n",
       "    </tr>\n",
       "    <tr>\n",
       "      <th>1</th>\n",
       "      <td>3275820704</td>\n",
       "      <td>sushi-master.ru</td>\n",
       "      <td>Суши Мастер - сеть ресторанов доставки блюд яп...</td>\n",
       "    </tr>\n",
       "  </tbody>\n",
       "</table>\n",
       "</div>"
      ],
      "text/plain": [
       "          col              url  \\\n",
       "0  8007075550  sushi-master.ru   \n",
       "1  3275820704  sushi-master.ru   \n",
       "\n",
       "                                                text  \n",
       "0  Суши Мастер - сеть ресторанов доставки блюд яп...  \n",
       "1  Суши Мастер - сеть ресторанов доставки блюд яп...  "
      ]
     },
     "execution_count": 14,
     "metadata": {},
     "output_type": "execute_result"
    }
   ],
   "source": [
    "df_ff5.head(2)"
   ]
  },
  {
   "cell_type": "markdown",
   "metadata": {},
   "source": [
    "# Investicii "
   ]
  },
  {
   "cell_type": "code",
   "execution_count": 36,
   "metadata": {},
   "outputs": [
    {
     "data": {
      "text/plain": [
       "408"
      ]
     },
     "execution_count": 36,
     "metadata": {},
     "output_type": "execute_result"
    }
   ],
   "source": [
    "df111 = pd.read_csv('C:/Users/mbabaeva/Documents/CLUSTERING/Cluster_of_16/sites_test/Investicii.csv')\n",
    "df4=df111['url']\n",
    "df6 = df111['text']\n",
    "df5 = df4[0]\n",
    "len(df4)"
   ]
  },
  {
   "cell_type": "code",
   "execution_count": 37,
   "metadata": {},
   "outputs": [
    {
     "name": "stdout",
     "output_type": "stream",
     "text": [
      "Wall time: 3.91 ms\n",
      "1063.1541047096252\n"
     ]
    }
   ],
   "source": [
    "%time\n",
    "start = time.time()\n",
    "\n",
    "sites_list = []\n",
    "for k in df4:\n",
    "    try:\n",
    "        f = urllib.request.urlopen('http://'+k) \n",
    "        s = f.read().decode('utf-8')\n",
    "        phones = re.findall(r\"\\+?[z7-8]+\\s?\\(?\\d{3}\\)?[-]?\\s?\\d{3}[-.\\s]?\\d{2}[-.\\s]?\\d{2}\",s)\n",
    "        df = pd.DataFrame({'col':phones})\n",
    "        df1=df.col.apply(lambda x: x.replace('+','').replace(' ','').replace('(','').replace(')','').replace('-',''))\n",
    "        df1 = df1.drop_duplicates(keep='first')\n",
    "        el_list = []\n",
    "        for el in df1:\n",
    "            if len(el)==11 and el not in el_list:\n",
    "                el = el[1:]\n",
    "                el_list.append(el)\n",
    "        sites_list.append(el_list)\n",
    "\n",
    "    except:\n",
    "        phones = []\n",
    "        sites_list.append(phones)\n",
    "#s=s.decode('latin-1')utf-8\n",
    "end = time.time()\n",
    "print(end - start)\n",
    "\n",
    "list_a=[]\n",
    "for i in range(0, len(df4)):\n",
    "    df_t = pd.DataFrame({'col':sites_list[i]})\n",
    "    df_t['url'] = df4[i]\n",
    "    df_t['text'] = df6[i]\n",
    "    list_a.append(df_t)\n",
    "df_ff = pd.concat(list_a, ignore_index=True)\n",
    "\n",
    "#df_ff['col'].to_csv('test/Investiciinumbers.csv', index=False)"
   ]
  },
  {
   "cell_type": "code",
   "execution_count": 38,
   "metadata": {},
   "outputs": [
    {
     "data": {
      "text/plain": [
       "1447"
      ]
     },
     "execution_count": 38,
     "metadata": {},
     "output_type": "execute_result"
    }
   ],
   "source": [
    "len(df_ff)"
   ]
  },
  {
   "cell_type": "code",
   "execution_count": 39,
   "metadata": {},
   "outputs": [],
   "source": [
    "df_ff.to_csv('test/Investiciinumbersall.csv', index=False)# загружаем в таблицу на кластер"
   ]
  },
  {
   "cell_type": "markdown",
   "metadata": {},
   "source": [
    "# Ford_Interest"
   ]
  },
  {
   "cell_type": "code",
   "execution_count": 33,
   "metadata": {},
   "outputs": [
    {
     "data": {
      "text/plain": [
       "23"
      ]
     },
     "execution_count": 33,
     "metadata": {},
     "output_type": "execute_result"
    }
   ],
   "source": [
    "df999 = pd.read_csv('C:/Users/mbabaeva/Documents/CLUSTERING/Cluster_of_16/sites/Cars_models/Ford_interest_sites.csv')\n",
    "df4=df999['url']\n",
    "df6 = df999['text']\n",
    "df5 = df4[0]\n",
    "len(df4)"
   ]
  },
  {
   "cell_type": "code",
   "execution_count": 34,
   "metadata": {},
   "outputs": [
    {
     "name": "stdout",
     "output_type": "stream",
     "text": [
      "Wall time: 0 ns\n",
      "34.50327801704407\n"
     ]
    }
   ],
   "source": [
    "%time\n",
    "start = time.time()\n",
    "\n",
    "sites_list = []\n",
    "for k in df4:\n",
    "    try:\n",
    "        f = urllib.request.urlopen('http://'+k) \n",
    "        s = f.read().decode('utf-8')\n",
    "        phones = re.findall(r\"\\+?[z7-8]+\\s?\\(?\\d{3}\\)?[-]?\\s?\\d{3}[-.\\s]?\\d{2}[-.\\s]?\\d{2}\",s)\n",
    "        df = pd.DataFrame({'col':phones})\n",
    "        df1=df.col.apply(lambda x: x.replace('+','').replace(' ','').replace('(','').replace(')','').replace('-',''))\n",
    "        df1 = df1.drop_duplicates(keep='first')\n",
    "        el_list = []\n",
    "        for el in df1:\n",
    "            if len(el)==11 and el not in el_list:\n",
    "                el = el[1:]\n",
    "                el_list.append(el)\n",
    "        sites_list.append(el_list)\n",
    "\n",
    "    except:\n",
    "        phones = []\n",
    "        sites_list.append(phones)\n",
    "#s=s.decode('latin-1')utf-8\n",
    "end = time.time()\n",
    "print(end - start)\n",
    "\n",
    "list_a=[]\n",
    "for i in range(0, len(df4)):\n",
    "    df_t = pd.DataFrame({'col':sites_list[i]})\n",
    "    df_t['url'] = df4[i]\n",
    "    df_t['text'] = df6[i]\n",
    "    list_a.append(df_t)\n",
    "df_ff3 = pd.concat(list_a, ignore_index=True)\n",
    "\n",
    "df_ff3['col'].to_csv('test/fordinterestnumbers.csv', index=False)"
   ]
  },
  {
   "cell_type": "code",
   "execution_count": 35,
   "metadata": {},
   "outputs": [],
   "source": [
    "df_ff3.to_csv('test/fordinterestnumbersall.csv', index=False)"
   ]
  },
  {
   "cell_type": "markdown",
   "metadata": {},
   "source": [
    "# Rent_Property"
   ]
  },
  {
   "cell_type": "code",
   "execution_count": 2,
   "metadata": {},
   "outputs": [
    {
     "data": {
      "text/plain": [
       "634"
      ]
     },
     "execution_count": 2,
     "metadata": {},
     "output_type": "execute_result"
    }
   ],
   "source": [
    "df222 = pd.read_csv('C:/Users/mbabaeva/Documents/CLUSTERING/Cluster_of_16/sites_test/Rent_Property_1.csv')\n",
    "df4=df222['url']\n",
    "df6 = df222['text']\n",
    "df5 = df4[0]\n",
    "len(df4)"
   ]
  },
  {
   "cell_type": "code",
   "execution_count": 3,
   "metadata": {},
   "outputs": [
    {
     "name": "stdout",
     "output_type": "stream",
     "text": [
      "Wall time: 0 ns\n",
      "867.1094677448273\n"
     ]
    }
   ],
   "source": [
    "%time\n",
    "start = time.time()\n",
    "\n",
    "sites_list = []\n",
    "for k in df4:\n",
    "    try:\n",
    "        f = urllib.request.urlopen('http://'+k) \n",
    "        s = f.read().decode('utf-8')\n",
    "        phones = re.findall(r\"\\+?[z7-8]+\\s?\\(?\\d{3}\\)?[-]?\\s?\\d{3}[-.\\s]?\\d{2}[-.\\s]?\\d{2}\",s)\n",
    "        df = pd.DataFrame({'col':phones})\n",
    "        df1=df.col.apply(lambda x: x.replace('+','').replace(' ','').replace('(','').replace(')','').replace('-',''))\n",
    "        df1 = df1.drop_duplicates(keep='first')\n",
    "        el_list = []\n",
    "        for el in df1:\n",
    "            if len(el)==11 and el not in el_list:\n",
    "                el = el[1:]\n",
    "                el_list.append(el)\n",
    "        sites_list.append(el_list)\n",
    "\n",
    "    except:\n",
    "        phones = []\n",
    "        sites_list.append(phones)\n",
    "#s=s.decode('latin-1')utf-8\n",
    "end = time.time()\n",
    "print(end - start)\n",
    "\n",
    "list_a=[]\n",
    "for i in range(0, len(df4)):\n",
    "    df_t = pd.DataFrame({'col':sites_list[i]})\n",
    "    df_t['url'] = df4[i]\n",
    "    df_t['text'] = df6[i]\n",
    "    list_a.append(df_t)\n",
    "df_ff1 = pd.concat(list_a, ignore_index=True)\n",
    "\n",
    "df_ff1['col'].to_csv('test/rentpropertynumbers.csv', index=False)"
   ]
  },
  {
   "cell_type": "code",
   "execution_count": 4,
   "metadata": {},
   "outputs": [
    {
     "data": {
      "text/plain": [
       "3666"
      ]
     },
     "execution_count": 4,
     "metadata": {},
     "output_type": "execute_result"
    }
   ],
   "source": [
    "len(df_ff1)"
   ]
  },
  {
   "cell_type": "code",
   "execution_count": 5,
   "metadata": {},
   "outputs": [],
   "source": [
    "df_ff1.to_csv('test/rentpropertynumbersall.csv', index=False) #загружаем на кластер"
   ]
  },
  {
   "cell_type": "markdown",
   "metadata": {},
   "source": [
    "# Theatres"
   ]
  },
  {
   "cell_type": "code",
   "execution_count": 15,
   "metadata": {},
   "outputs": [
    {
     "data": {
      "text/plain": [
       "457"
      ]
     },
     "execution_count": 15,
     "metadata": {},
     "output_type": "execute_result"
    }
   ],
   "source": [
    "df333 = pd.read_csv('C:/Users/mbabaeva/Documents/CLUSTERING/Cluster_of_16/sites_test/Theater_for_call.csv')\n",
    "df4=df333['url']\n",
    "#df6 = df333['text']\n",
    "df5 = df4[0]\n",
    "len(df4)"
   ]
  },
  {
   "cell_type": "code",
   "execution_count": 8,
   "metadata": {},
   "outputs": [
    {
     "name": "stdout",
     "output_type": "stream",
     "text": [
      "Wall time: 0 ns\n",
      "352.77819442749023\n"
     ]
    }
   ],
   "source": [
    "%time\n",
    "start = time.time()\n",
    "\n",
    "sites_list = []\n",
    "for k in df4:\n",
    "    try:\n",
    "        f = urllib.request.urlopen('http://'+k) \n",
    "        s = f.read().decode('utf-8')\n",
    "        phones = re.findall(r\"\\+?[z7-8]+\\s?\\(?\\d{3}\\)?[-]?\\s?\\d{3}[-.\\s]?\\d{2}[-.\\s]?\\d{2}\",s)\n",
    "        df = pd.DataFrame({'col':phones})\n",
    "        df1=df.col.apply(lambda x: x.replace('+','').replace(' ','').replace('(','').replace(')','').replace('-',''))\n",
    "        df1 = df1.drop_duplicates(keep='first')\n",
    "        el_list = []\n",
    "        for el in df1:\n",
    "            if len(el)==11 and el not in el_list:\n",
    "                el = el[1:]\n",
    "                el_list.append(el)\n",
    "        sites_list.append(el_list)\n",
    "\n",
    "    except:\n",
    "        phones = []\n",
    "        sites_list.append(phones)\n",
    "#s=s.decode('latin-1')utf-8\n",
    "end = time.time()\n",
    "print(end - start)\n",
    "\n",
    "list_a=[]\n",
    "for i in range(0, len(df4)):\n",
    "    df_t = pd.DataFrame({'col':sites_list[i]})\n",
    "    df_t['url'] = df4[i]\n",
    "    #df_t['text'] = df6[i]\n",
    "    list_a.append(df_t)\n",
    "df_ff = pd.concat(list_a, ignore_index=True)\n",
    "\n",
    "#df_ff['col'].to_csv('test/Investiciinumbers.csv', index=False)"
   ]
  },
  {
   "cell_type": "code",
   "execution_count": 13,
   "metadata": {},
   "outputs": [],
   "source": [
    "df_ff.to_csv('test/theatres_numbers.csv', index=False)"
   ]
  },
  {
   "cell_type": "code",
   "execution_count": 12,
   "metadata": {
    "scrolled": true
   },
   "outputs": [
    {
     "data": {
      "text/html": [
       "<div>\n",
       "<style scoped>\n",
       "    .dataframe tbody tr th:only-of-type {\n",
       "        vertical-align: middle;\n",
       "    }\n",
       "\n",
       "    .dataframe tbody tr th {\n",
       "        vertical-align: top;\n",
       "    }\n",
       "\n",
       "    .dataframe thead th {\n",
       "        text-align: right;\n",
       "    }\n",
       "</style>\n",
       "<table border=\"1\" class=\"dataframe\">\n",
       "  <thead>\n",
       "    <tr style=\"text-align: right;\">\n",
       "      <th></th>\n",
       "      <th>col</th>\n",
       "      <th>url</th>\n",
       "    </tr>\n",
       "  </thead>\n",
       "  <tbody>\n",
       "    <tr>\n",
       "      <th>0</th>\n",
       "      <td>9624849797</td>\n",
       "      <td>teatr.orel.ru</td>\n",
       "    </tr>\n",
       "    <tr>\n",
       "      <th>1</th>\n",
       "      <td>4862430208</td>\n",
       "      <td>teatr.orel.ru</td>\n",
       "    </tr>\n",
       "    <tr>\n",
       "      <th>2</th>\n",
       "      <td>9607548999</td>\n",
       "      <td>teatr.orel.ru</td>\n",
       "    </tr>\n",
       "    <tr>\n",
       "      <th>3</th>\n",
       "      <td>3438760594</td>\n",
       "      <td>teatr.orel.ru</td>\n",
       "    </tr>\n",
       "    <tr>\n",
       "      <th>4</th>\n",
       "      <td>8129972042</td>\n",
       "      <td>detskyteatr.ru</td>\n",
       "    </tr>\n",
       "    <tr>\n",
       "      <th>5</th>\n",
       "      <td>1879781985</td>\n",
       "      <td>detskyteatr.ru</td>\n",
       "    </tr>\n",
       "    <tr>\n",
       "      <th>6</th>\n",
       "      <td>2899436951</td>\n",
       "      <td>teatrkukol-73.ru</td>\n",
       "    </tr>\n",
       "    <tr>\n",
       "      <th>7</th>\n",
       "      <td>1377920770</td>\n",
       "      <td>teatrkukol-73.ru</td>\n",
       "    </tr>\n",
       "    <tr>\n",
       "      <th>8</th>\n",
       "      <td>4997480038</td>\n",
       "      <td>teatr-zhar-ptitsa.ru</td>\n",
       "    </tr>\n",
       "    <tr>\n",
       "      <th>9</th>\n",
       "      <td>9149045124</td>\n",
       "      <td>teatr-zhar-ptitsa.ru</td>\n",
       "    </tr>\n",
       "    <tr>\n",
       "      <th>10</th>\n",
       "      <td>4997480040</td>\n",
       "      <td>teatr-zhar-ptitsa.ru</td>\n",
       "    </tr>\n",
       "    <tr>\n",
       "      <th>11</th>\n",
       "      <td>4997480040</td>\n",
       "      <td>teatr-zhar-ptitsa.ru</td>\n",
       "    </tr>\n",
       "    <tr>\n",
       "      <th>12</th>\n",
       "      <td>5508016438</td>\n",
       "      <td>teatr-zhar-ptitsa.ru</td>\n",
       "    </tr>\n",
       "    <tr>\n",
       "      <th>13</th>\n",
       "      <td>4997480038</td>\n",
       "      <td>teatr-zhar-ptitsa.ru</td>\n",
       "    </tr>\n",
       "    <tr>\n",
       "      <th>14</th>\n",
       "      <td>9536743582</td>\n",
       "      <td>teatrbudushego.ru</td>\n",
       "    </tr>\n",
       "    <tr>\n",
       "      <th>15</th>\n",
       "      <td>3133343732</td>\n",
       "      <td>teatrbudushego.ru</td>\n",
       "    </tr>\n",
       "    <tr>\n",
       "      <th>16</th>\n",
       "      <td>2442388889</td>\n",
       "      <td>teatrbudushego.ru</td>\n",
       "    </tr>\n",
       "    <tr>\n",
       "      <th>17</th>\n",
       "      <td>6465663663</td>\n",
       "      <td>teatrbudushego.ru</td>\n",
       "    </tr>\n",
       "    <tr>\n",
       "      <th>18</th>\n",
       "      <td>0209944682</td>\n",
       "      <td>teatrbudushego.ru</td>\n",
       "    </tr>\n",
       "    <tr>\n",
       "      <th>19</th>\n",
       "      <td>0210011265</td>\n",
       "      <td>teatrbudushego.ru</td>\n",
       "    </tr>\n",
       "    <tr>\n",
       "      <th>20</th>\n",
       "      <td>6662646265</td>\n",
       "      <td>teatrbudushego.ru</td>\n",
       "    </tr>\n",
       "    <tr>\n",
       "      <th>21</th>\n",
       "      <td>9015369309</td>\n",
       "      <td>teatrbudushego.ru</td>\n",
       "    </tr>\n",
       "    <tr>\n",
       "      <th>22</th>\n",
       "      <td>9015369311</td>\n",
       "      <td>teatrbudushego.ru</td>\n",
       "    </tr>\n",
       "    <tr>\n",
       "      <th>23</th>\n",
       "      <td>9015372784</td>\n",
       "      <td>teatrbudushego.ru</td>\n",
       "    </tr>\n",
       "    <tr>\n",
       "      <th>24</th>\n",
       "      <td>9015375269</td>\n",
       "      <td>teatrbudushego.ru</td>\n",
       "    </tr>\n",
       "    <tr>\n",
       "      <th>25</th>\n",
       "      <td>9015375270</td>\n",
       "      <td>teatrbudushego.ru</td>\n",
       "    </tr>\n",
       "    <tr>\n",
       "      <th>26</th>\n",
       "      <td>9015375275</td>\n",
       "      <td>teatrbudushego.ru</td>\n",
       "    </tr>\n",
       "    <tr>\n",
       "      <th>27</th>\n",
       "      <td>9015375306</td>\n",
       "      <td>teatrbudushego.ru</td>\n",
       "    </tr>\n",
       "    <tr>\n",
       "      <th>28</th>\n",
       "      <td>9015375321</td>\n",
       "      <td>teatrbudushego.ru</td>\n",
       "    </tr>\n",
       "    <tr>\n",
       "      <th>29</th>\n",
       "      <td>9015375323</td>\n",
       "      <td>teatrbudushego.ru</td>\n",
       "    </tr>\n",
       "    <tr>\n",
       "      <th>...</th>\n",
       "      <td>...</td>\n",
       "      <td>...</td>\n",
       "    </tr>\n",
       "    <tr>\n",
       "      <th>929</th>\n",
       "      <td>3525431008</td>\n",
       "      <td>ugolokdurova.ru</td>\n",
       "    </tr>\n",
       "    <tr>\n",
       "      <th>930</th>\n",
       "      <td>3433503005</td>\n",
       "      <td>uralkukla.ru</td>\n",
       "    </tr>\n",
       "    <tr>\n",
       "      <th>931</th>\n",
       "      <td>3433507583</td>\n",
       "      <td>uralkukla.ru</td>\n",
       "    </tr>\n",
       "    <tr>\n",
       "      <th>932</th>\n",
       "      <td>3433508101</td>\n",
       "      <td>uralopera.ru</td>\n",
       "    </tr>\n",
       "    <tr>\n",
       "      <th>933</th>\n",
       "      <td>3433508057</td>\n",
       "      <td>uralopera.ru</td>\n",
       "    </tr>\n",
       "    <tr>\n",
       "      <th>934</th>\n",
       "      <td>3433880732</td>\n",
       "      <td>uraltuz.ru</td>\n",
       "    </tr>\n",
       "    <tr>\n",
       "      <th>935</th>\n",
       "      <td>3800766039</td>\n",
       "      <td>volskdrama.ru</td>\n",
       "    </tr>\n",
       "    <tr>\n",
       "      <th>936</th>\n",
       "      <td>5714285714</td>\n",
       "      <td>volskdrama.ru</td>\n",
       "    </tr>\n",
       "    <tr>\n",
       "      <th>937</th>\n",
       "      <td>4732555472</td>\n",
       "      <td>voronezhdrama.ru</td>\n",
       "    </tr>\n",
       "    <tr>\n",
       "      <th>938</th>\n",
       "      <td>4797310274</td>\n",
       "      <td>vvdt.ru</td>\n",
       "    </tr>\n",
       "    <tr>\n",
       "      <th>939</th>\n",
       "      <td>0740462962</td>\n",
       "      <td>xn----8sbogebt9bkebc6j.xn--p1ai</td>\n",
       "    </tr>\n",
       "    <tr>\n",
       "      <th>940</th>\n",
       "      <td>6334586082</td>\n",
       "      <td>xn----8sbogebt9bkebc6j.xn--p1ai</td>\n",
       "    </tr>\n",
       "    <tr>\n",
       "      <th>941</th>\n",
       "      <td>2462548068</td>\n",
       "      <td>xn----8sbogebt9bkebc6j.xn--p1ai</td>\n",
       "    </tr>\n",
       "    <tr>\n",
       "      <th>942</th>\n",
       "      <td>4371654632</td>\n",
       "      <td>xn----8sbogebt9bkebc6j.xn--p1ai</td>\n",
       "    </tr>\n",
       "    <tr>\n",
       "      <th>943</th>\n",
       "      <td>6831301689</td>\n",
       "      <td>xn----8sbogebt9bkebc6j.xn--p1ai</td>\n",
       "    </tr>\n",
       "    <tr>\n",
       "      <th>944</th>\n",
       "      <td>3517752228</td>\n",
       "      <td>xn--74-dlcmnl3ap1d.xn--p1ai</td>\n",
       "    </tr>\n",
       "    <tr>\n",
       "      <th>945</th>\n",
       "      <td>4798517674</td>\n",
       "      <td>yartuz.ru</td>\n",
       "    </tr>\n",
       "    <tr>\n",
       "      <th>946</th>\n",
       "      <td>9387169721</td>\n",
       "      <td>yartuz.ru</td>\n",
       "    </tr>\n",
       "    <tr>\n",
       "      <th>947</th>\n",
       "      <td>4798584320</td>\n",
       "      <td>yartuz.ru</td>\n",
       "    </tr>\n",
       "    <tr>\n",
       "      <th>948</th>\n",
       "      <td>4798519359</td>\n",
       "      <td>yartuz.ru</td>\n",
       "    </tr>\n",
       "    <tr>\n",
       "      <th>949</th>\n",
       "      <td>4798517980</td>\n",
       "      <td>yartuz.ru</td>\n",
       "    </tr>\n",
       "    <tr>\n",
       "      <th>950</th>\n",
       "      <td>4798523135</td>\n",
       "      <td>yartuz.ru</td>\n",
       "    </tr>\n",
       "    <tr>\n",
       "      <th>951</th>\n",
       "      <td>4798510263</td>\n",
       "      <td>yartuz.ru</td>\n",
       "    </tr>\n",
       "    <tr>\n",
       "      <th>952</th>\n",
       "      <td>3640907961</td>\n",
       "      <td>yatk.yaroslavl.ru</td>\n",
       "    </tr>\n",
       "    <tr>\n",
       "      <th>953</th>\n",
       "      <td>9898009585</td>\n",
       "      <td>yelizarovtheatre.com</td>\n",
       "    </tr>\n",
       "    <tr>\n",
       "      <th>954</th>\n",
       "      <td>9787886901</td>\n",
       "      <td>yelizarovtheatre.com</td>\n",
       "    </tr>\n",
       "    <tr>\n",
       "      <th>955</th>\n",
       "      <td>9789177004</td>\n",
       "      <td>yelizarovtheatre.com</td>\n",
       "    </tr>\n",
       "    <tr>\n",
       "      <th>956</th>\n",
       "      <td>3285181363</td>\n",
       "      <td>yelizarovtheatre.com</td>\n",
       "    </tr>\n",
       "    <tr>\n",
       "      <th>957</th>\n",
       "      <td>9014993738</td>\n",
       "      <td>zabuzor.ru</td>\n",
       "    </tr>\n",
       "    <tr>\n",
       "      <th>958</th>\n",
       "      <td>3054733276</td>\n",
       "      <td>zabuzor.ru</td>\n",
       "    </tr>\n",
       "  </tbody>\n",
       "</table>\n",
       "<p>959 rows × 2 columns</p>\n",
       "</div>"
      ],
      "text/plain": [
       "            col                              url\n",
       "0    9624849797                    teatr.orel.ru\n",
       "1    4862430208                    teatr.orel.ru\n",
       "2    9607548999                    teatr.orel.ru\n",
       "3    3438760594                    teatr.orel.ru\n",
       "4    8129972042                   detskyteatr.ru\n",
       "5    1879781985                   detskyteatr.ru\n",
       "6    2899436951                 teatrkukol-73.ru\n",
       "7    1377920770                 teatrkukol-73.ru\n",
       "8    4997480038             teatr-zhar-ptitsa.ru\n",
       "9    9149045124             teatr-zhar-ptitsa.ru\n",
       "10   4997480040             teatr-zhar-ptitsa.ru\n",
       "11   4997480040             teatr-zhar-ptitsa.ru\n",
       "12   5508016438             teatr-zhar-ptitsa.ru\n",
       "13   4997480038             teatr-zhar-ptitsa.ru\n",
       "14   9536743582                teatrbudushego.ru\n",
       "15   3133343732                teatrbudushego.ru\n",
       "16   2442388889                teatrbudushego.ru\n",
       "17   6465663663                teatrbudushego.ru\n",
       "18   0209944682                teatrbudushego.ru\n",
       "19   0210011265                teatrbudushego.ru\n",
       "20   6662646265                teatrbudushego.ru\n",
       "21   9015369309                teatrbudushego.ru\n",
       "22   9015369311                teatrbudushego.ru\n",
       "23   9015372784                teatrbudushego.ru\n",
       "24   9015375269                teatrbudushego.ru\n",
       "25   9015375270                teatrbudushego.ru\n",
       "26   9015375275                teatrbudushego.ru\n",
       "27   9015375306                teatrbudushego.ru\n",
       "28   9015375321                teatrbudushego.ru\n",
       "29   9015375323                teatrbudushego.ru\n",
       "..          ...                              ...\n",
       "929  3525431008                  ugolokdurova.ru\n",
       "930  3433503005                     uralkukla.ru\n",
       "931  3433507583                     uralkukla.ru\n",
       "932  3433508101                     uralopera.ru\n",
       "933  3433508057                     uralopera.ru\n",
       "934  3433880732                       uraltuz.ru\n",
       "935  3800766039                    volskdrama.ru\n",
       "936  5714285714                    volskdrama.ru\n",
       "937  4732555472                 voronezhdrama.ru\n",
       "938  4797310274                          vvdt.ru\n",
       "939  0740462962  xn----8sbogebt9bkebc6j.xn--p1ai\n",
       "940  6334586082  xn----8sbogebt9bkebc6j.xn--p1ai\n",
       "941  2462548068  xn----8sbogebt9bkebc6j.xn--p1ai\n",
       "942  4371654632  xn----8sbogebt9bkebc6j.xn--p1ai\n",
       "943  6831301689  xn----8sbogebt9bkebc6j.xn--p1ai\n",
       "944  3517752228      xn--74-dlcmnl3ap1d.xn--p1ai\n",
       "945  4798517674                        yartuz.ru\n",
       "946  9387169721                        yartuz.ru\n",
       "947  4798584320                        yartuz.ru\n",
       "948  4798519359                        yartuz.ru\n",
       "949  4798517980                        yartuz.ru\n",
       "950  4798523135                        yartuz.ru\n",
       "951  4798510263                        yartuz.ru\n",
       "952  3640907961                yatk.yaroslavl.ru\n",
       "953  9898009585             yelizarovtheatre.com\n",
       "954  9787886901             yelizarovtheatre.com\n",
       "955  9789177004             yelizarovtheatre.com\n",
       "956  3285181363             yelizarovtheatre.com\n",
       "957  9014993738                       zabuzor.ru\n",
       "958  3054733276                       zabuzor.ru\n",
       "\n",
       "[959 rows x 2 columns]"
      ]
     },
     "execution_count": 12,
     "metadata": {},
     "output_type": "execute_result"
    }
   ],
   "source": [
    "df_ff"
   ]
  },
  {
   "cell_type": "code",
   "execution_count": null,
   "metadata": {},
   "outputs": [],
   "source": []
  }
 ],
 "metadata": {
  "kernelspec": {
   "display_name": "Python 3",
   "language": "python",
   "name": "python3"
  },
  "language_info": {
   "codemirror_mode": {
    "name": "ipython",
    "version": 3
   },
   "file_extension": ".py",
   "mimetype": "text/x-python",
   "name": "python",
   "nbconvert_exporter": "python",
   "pygments_lexer": "ipython3",
   "version": "3.7.0"
  }
 },
 "nbformat": 4,
 "nbformat_minor": 2
}
