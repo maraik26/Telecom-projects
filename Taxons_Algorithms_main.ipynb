{
 "cells": [
  {
   "cell_type": "code",
   "execution_count": 1,
   "metadata": {},
   "outputs": [],
   "source": [
    "import urllib.request,re\n",
    "import numpy as np\n",
    "import pandas as pd\n",
    "import numpy as np\n",
    "import time"
   ]
  },
  {
   "cell_type": "code",
   "execution_count": 2,
   "metadata": {},
   "outputs": [
    {
     "data": {
      "text/html": [
       "<div>\n",
       "<style scoped>\n",
       "    .dataframe tbody tr th:only-of-type {\n",
       "        vertical-align: middle;\n",
       "    }\n",
       "\n",
       "    .dataframe tbody tr th {\n",
       "        vertical-align: top;\n",
       "    }\n",
       "\n",
       "    .dataframe thead th {\n",
       "        text-align: right;\n",
       "    }\n",
       "</style>\n",
       "<table border=\"1\" class=\"dataframe\">\n",
       "  <thead>\n",
       "    <tr style=\"text-align: right;\">\n",
       "      <th></th>\n",
       "      <th>url</th>\n",
       "    </tr>\n",
       "  </thead>\n",
       "  <tbody>\n",
       "    <tr>\n",
       "      <th>0</th>\n",
       "      <td>elbrus.raiffeisen.ru</td>\n",
       "    </tr>\n",
       "    <tr>\n",
       "      <th>1</th>\n",
       "      <td>sfera-bank.ru</td>\n",
       "    </tr>\n",
       "  </tbody>\n",
       "</table>\n",
       "</div>"
      ],
      "text/plain": [
       "                    url\n",
       "0  elbrus.raiffeisen.ru\n",
       "1         sfera-bank.ru"
      ]
     },
     "execution_count": 2,
     "metadata": {},
     "output_type": "execute_result"
    }
   ],
   "source": [
    "#Скачиваем из таблицы taxonomy.dim_source_taxon уже имеющиеся сайты (value) в справочнике.\n",
    "dim = pd.read_csv('C:/Users/mbabaeva/Documents/CLUSTERING/dim_28.01.19.csv')\n",
    "dim.head(2)"
   ]
  },
  {
   "cell_type": "raw",
   "metadata": {},
   "source": [
    "# Считываем все 250K сайтов, загруженных ранее и с их описанием"
   ]
  },
  {
   "cell_type": "code",
   "execution_count": 3,
   "metadata": {
    "scrolled": false
   },
   "outputs": [
    {
     "data": {
      "text/html": [
       "<div>\n",
       "<style scoped>\n",
       "    .dataframe tbody tr th:only-of-type {\n",
       "        vertical-align: middle;\n",
       "    }\n",
       "\n",
       "    .dataframe tbody tr th {\n",
       "        vertical-align: top;\n",
       "    }\n",
       "\n",
       "    .dataframe thead th {\n",
       "        text-align: right;\n",
       "    }\n",
       "</style>\n",
       "<table border=\"1\" class=\"dataframe\">\n",
       "  <thead>\n",
       "    <tr style=\"text-align: right;\">\n",
       "      <th></th>\n",
       "      <th>url</th>\n",
       "      <th>text</th>\n",
       "    </tr>\n",
       "  </thead>\n",
       "  <tbody>\n",
       "    <tr>\n",
       "      <th>0</th>\n",
       "      <td>forma1998.ru</td>\n",
       "      <td>Сеть магазинов Форма 1998 - сувениры и подарки...</td>\n",
       "    </tr>\n",
       "    <tr>\n",
       "      <th>1</th>\n",
       "      <td>azumihair.com</td>\n",
       "      <td>Cредство для восстановления волос AZUMI</td>\n",
       "    </tr>\n",
       "    <tr>\n",
       "      <th>2</th>\n",
       "      <td>lamiland.ru</td>\n",
       "      <td>ЛамиЛэнд - интересный магазин напольных покрытий.</td>\n",
       "    </tr>\n",
       "  </tbody>\n",
       "</table>\n",
       "</div>"
      ],
      "text/plain": [
       "             url                                               text\n",
       "0   forma1998.ru  Сеть магазинов Форма 1998 - сувениры и подарки...\n",
       "1  azumihair.com            Cредство для восстановления волос AZUMI\n",
       "2    lamiland.ru  ЛамиЛэнд - интересный магазин напольных покрытий."
      ]
     },
     "execution_count": 3,
     "metadata": {},
     "output_type": "execute_result"
    }
   ],
   "source": [
    "df2 = pd.read_csv('C:/Users/mbabaeva/Documents/CLUSTERING/sites_all_cleaned.csv')\n",
    "df2.head(3)"
   ]
  },
  {
   "cell_type": "code",
   "execution_count": 6,
   "metadata": {},
   "outputs": [
    {
     "data": {
      "text/html": [
       "<div>\n",
       "<style scoped>\n",
       "    .dataframe tbody tr th:only-of-type {\n",
       "        vertical-align: middle;\n",
       "    }\n",
       "\n",
       "    .dataframe tbody tr th {\n",
       "        vertical-align: top;\n",
       "    }\n",
       "\n",
       "    .dataframe thead th {\n",
       "        text-align: right;\n",
       "    }\n",
       "</style>\n",
       "<table border=\"1\" class=\"dataframe\">\n",
       "  <thead>\n",
       "    <tr style=\"text-align: right;\">\n",
       "      <th></th>\n",
       "      <th>url</th>\n",
       "      <th>text</th>\n",
       "    </tr>\n",
       "  </thead>\n",
       "  <tbody>\n",
       "    <tr>\n",
       "      <th>0</th>\n",
       "      <td>forma1998.ru</td>\n",
       "      <td>Сеть магазинов Форма 1998 - сувениры и подарки...</td>\n",
       "    </tr>\n",
       "    <tr>\n",
       "      <th>1</th>\n",
       "      <td>azumihair.com</td>\n",
       "      <td>Cредство для восстановления волос AZUMI</td>\n",
       "    </tr>\n",
       "  </tbody>\n",
       "</table>\n",
       "</div>"
      ],
      "text/plain": [
       "             url                                               text\n",
       "0   forma1998.ru  Сеть магазинов Форма 1998 - сувениры и подарки...\n",
       "1  azumihair.com            Cредство для восстановления волос AZUMI"
      ]
     },
     "execution_count": 6,
     "metadata": {},
     "output_type": "execute_result"
    }
   ],
   "source": [
    "df3 = df2.loc[pd.notnull(df2.url) & pd.notnull(df2.text)].reset_index(drop=True)\n",
    "df3 = df2.loc[(df2.text.apply(len) > 15) & (df2.text.apply(len) < 150)].reset_index(drop=True)\n",
    "df3.head(2)"
   ]
  },
  {
   "cell_type": "markdown",
   "metadata": {},
   "source": [
    "# ВЫБИРАЕМ САЙТЫ: \"ПОКУПКА ЭЛИТНОЙ НЕДВИЖИМОСТИ\", таксон - Elite_Property_IND"
   ]
  },
  {
   "cell_type": "code",
   "execution_count": 7,
   "metadata": {},
   "outputs": [
    {
     "data": {
      "text/plain": [
       "(370, 2)"
      ]
     },
     "execution_count": 7,
     "metadata": {},
     "output_type": "execute_result"
    }
   ],
   "source": [
    "#Выбираем сайты со словом \"Элитный\"\n",
    "df4=df3.loc[df3['text'].str.contains(\"элитная\")|df3['text'].str.contains(\"Элитная\")\n",
    "            |df3['text'].str.contains(\"элитной\")|df3['text'].str.contains(\"Элитной\")\n",
    "             |df3['text'].str.contains(\"элитную\")|df3['text'].str.contains(\"Элитную\")\n",
    "            |df3['text'].str.contains(\"элитная\")|df3['text'].str.contains(\"Элитная\")\n",
    "            |df3['text'].str.contains(\"элитные\")|df3['text'].str.contains(\"Элитные\")]\n",
    "df4.shape"
   ]
  },
  {
   "cell_type": "code",
   "execution_count": 8,
   "metadata": {},
   "outputs": [
    {
     "data": {
      "text/plain": [
       "(75, 2)"
      ]
     },
     "execution_count": 8,
     "metadata": {},
     "output_type": "execute_result"
    }
   ],
   "source": [
    "#Выбираем сайты по аренде недвижимости\n",
    "df44=df4.loc[df4['text'].str.contains(\"квартиру\")|df4['text'].str.contains(\"Квартиру\")\n",
    "             |df4['text'].str.contains(\"квартиры\")|df4['text'].str.contains(\"Квартиры\")\n",
    "             |df4['text'].str.contains(\"квартир\")|df4['text'].str.contains(\"Квартиры\")\n",
    "             |df4['text'].str.contains(\"квартира\")|df4['text'].str.contains(\"Квартира\")\n",
    "             |df4['text'].str.contains(\"квартирах\")|df4['text'].str.contains(\"Квартирах\")\n",
    "             |df4['text'].str.contains(\"апартаменты\")|df4['text'].str.contains(\"Апартаменты\")\n",
    "               |df4['text'].str.contains(\"комнаты\")|df4['text'].str.contains(\"Комнаты\")\n",
    "             |df4['text'].str.contains(\"вилл\")|df4['text'].str.contains(\"Вилл\")\n",
    "             |df4['text'].str.contains(\"вилла\")|df4['text'].str.contains(\"Вилла\")\n",
    "             |df4['text'].str.contains(\"недвижимость\")|df4['text'].str.contains(\"Недвижимость\")\n",
    "               |df4['text'].str.contains(\"недвижимости\")|df4['text'].str.contains(\"Недвижимости\")\n",
    "               |df4['text'].str.contains(\"домов\")|df4['text'].str.contains(\"Домов\")\n",
    "             |df4['text'].str.contains(\"домах\")|df4['text'].str.contains(\"Домах\")\n",
    "               |df4['text'].str.contains(\"дома\")|df4['text'].str.contains(\"Дома\")     \n",
    "               |df4['text'].str.contains(\"коттеджа\")|df4['text'].str.contains(\"Коттеджа\")\n",
    "             |df4['text'].str.contains(\"коттедж\")|df4['text'].str.contains(\"Коттедж\")\n",
    "             |df4['text'].str.contains(\"коттеджи\")|df4['text'].str.contains(\"Коттеджи\")\n",
    "               |df4['text'].str.contains(\"коттеджей\")|df4['text'].str.contains(\"Коттеджей\")\n",
    "            |df4['text'].str.contains(\"жилья\")|df4['text'].str.contains(\"Жилья\")\n",
    "               |df4['text'].str.contains(\"жильё\")|df4['text'].str.contains(\"Жильё\")]\n",
    "df44.shape"
   ]
  },
  {
   "cell_type": "code",
   "execution_count": 9,
   "metadata": {},
   "outputs": [
    {
     "data": {
      "text/plain": [
       "(61, 2)"
      ]
     },
     "execution_count": 9,
     "metadata": {},
     "output_type": "execute_result"
    }
   ],
   "source": [
    "#Удаляем лишние слова\n",
    "df444=df44.loc[(df44['text'].str.contains(\"Аренда\") == False)\n",
    "             &(df44['text'].str.contains(\"аренда\") == False)\n",
    "             &(df44['text'].str.contains(\"кинотеатр\") == False)\n",
    "             &(df44['text'].str.contains(\"бытовая\") == False)\n",
    "             &(df44['text'].str.contains(\"техника\") == False)\n",
    "              &(df44['text'].str.contains(\"косметика\") == False)\n",
    "              &(df44['text'].str.contains(\"косметику\") == False)\n",
    "              &(df44['text'].str.contains(\"косметики\") == False)\n",
    "             &(df44['text'].str.contains(\"сантехника\") == False)\n",
    "             &(df44['text'].str.contains(\"мебели\") == False)\n",
    "             &(df44['text'].str.contains(\"мебель\") == False)\n",
    "            ]\n",
    "df444.shape"
   ]
  },
  {
   "cell_type": "code",
   "execution_count": 10,
   "metadata": {},
   "outputs": [
    {
     "data": {
      "text/plain": [
       "(56, 2)"
      ]
     },
     "execution_count": 10,
     "metadata": {},
     "output_type": "execute_result"
    }
   ],
   "source": [
    "df444d = df444.merge(dim, indicator='i', how='outer').query('i == \"left_only\"').drop('i', 1)\n",
    "df444d.shape"
   ]
  },
  {
   "cell_type": "code",
   "execution_count": 13,
   "metadata": {},
   "outputs": [],
   "source": [
    "#создать формат для загрузки в справочник\n",
    "df444d = df444.merge(dim, indicator='i', how='outer').query('i == \"left_only\"').drop('i', 1)\n",
    "len(df444d)\n",
    "df444du=df444d['url'].reset_index(drop=True)\n",
    "columns1 = ['taxon']\n",
    "columns2 = ['value']\n",
    "columns3 = ['source']\n",
    "dat1 = np.array(['elite_property_ind']*len(df444d)).T\n",
    "d1 = pd.DataFrame(dat1, columns=columns1)\n",
    "dat2 = np.array(['NULL']*len(df444d)).T\n",
    "d2 = pd.DataFrame(dat2, columns=columns2)\n",
    "dat3 = np.array(['site']*len(df444d)).T\n",
    "d3 = pd.DataFrame(dat3, columns=columns3)\n",
    "frames = [d1,df444du,d2,d3]\n",
    "newDF = pd.concat(frames, ignore_index=True, sort=False, axis=1) # ignoring index is optional\n",
    "newDF.to_csv('sites_test/elite_property_ind_to_load.csv', index=False, header=False, encoding='utf-8', sep = \";\")"
   ]
  },
  {
   "cell_type": "code",
   "execution_count": 14,
   "metadata": {},
   "outputs": [],
   "source": [
    "#Сохраняем сайты\n",
    "df444d.to_csv('sites_test/Elite_property_to_buy.csv', index=False) #сайты с описанием\n",
    "df444d['url'].to_csv('sites_test/Elite_property_to_buy_url.csv', index=False) #только сайты"
   ]
  },
  {
   "cell_type": "markdown",
   "metadata": {},
   "source": [
    "# ВЫБИРАЕМ САЙТЫ: \"АРЕНДА НЕДВИЖИМОСТИ\", таксон - RENT_Property_IND"
   ]
  },
  {
   "cell_type": "code",
   "execution_count": 156,
   "metadata": {},
   "outputs": [
    {
     "data": {
      "text/plain": [
       "(16675, 3)"
      ]
     },
     "execution_count": 156,
     "metadata": {},
     "output_type": "execute_result"
    }
   ],
   "source": [
    "#Выбираем сайты по недвижимости\n",
    "df5=df3.loc[df3['text'].str.contains(\"комнату\")|df3['text'].str.contains(\"Комнату\")\n",
    "               |df3['text'].str.contains(\"квартиру\")|df3['text'].str.contains(\"Квартиру\")\n",
    "             |df3['text'].str.contains(\"квартиры\")|df3['text'].str.contains(\"Квартиры\")\n",
    "             |df3['text'].str.contains(\"квартир\")|df3['text'].str.contains(\"Квартиры\")\n",
    "             |df3['text'].str.contains(\"квартира\")|df3['text'].str.contains(\"Квартира\")\n",
    "             |df3['text'].str.contains(\"квартирах\")|df3['text'].str.contains(\"Квартирах\")\n",
    "             |df3['text'].str.contains(\"апартаменты\")|df3['text'].str.contains(\"Апартаменты\")\n",
    "               |df3['text'].str.contains(\"комнаты\")|df3['text'].str.contains(\"Комнаты\")\n",
    "             |df3['text'].str.contains(\"комната\")|df3['text'].str.contains(\"Комната\")\n",
    "             |df3['text'].str.contains(\"комнат\")|df3['text'].str.contains(\"Комнат\")\n",
    "             |df3['text'].str.contains(\"помещений\")|df3['text'].str.contains(\"Помещений\")\n",
    "             |df3['text'].str.contains(\"помещения\")|df3['text'].str.contains(\"Помещения\")\n",
    "             |df3['text'].str.contains(\"помещение\")|df3['text'].str.contains(\"Помещение\")\n",
    "               |df3['text'].str.contains(\"недвижимость\")|df3['text'].str.contains(\"Недвижимость\")\n",
    "               |df3['text'].str.contains(\"недвижимости\")|df3['text'].str.contains(\"Недвижимости\")\n",
    "             |df3['text'].str.contains(\"общежитие\")|df3['text'].str.contains(\"Общежитие\")\n",
    "             |df3['text'].str.contains(\"Общежития\")|df3['text'].str.contains(\"общежития\")\n",
    "               |df3['text'].str.contains(\"домов\")|df3['text'].str.contains(\"Домов\")\n",
    "             |df3['text'].str.contains(\"домах\")|df3['text'].str.contains(\"Домах\")\n",
    "             |df3['text'].str.contains(\"дом\")|df3['text'].str.contains(\"Дом\")\n",
    "               |df3['text'].str.contains(\"дома\")|df3['text'].str.contains(\"Дома\")\n",
    "               |df3['text'].str.contains(\"офис\")|df3['text'].str.contains(\"Офис\")\n",
    "               |df3['text'].str.contains(\"офиса\")|df3['text'].str.contains(\"Офиса\")\n",
    "             |df3['text'].str.contains(\"офисов\")|df3['text'].str.contains(\"Офисов\")\n",
    "               |df3['text'].str.contains(\"коттеджа\")|df3['text'].str.contains(\"Коттеджа\")\n",
    "             |df3['text'].str.contains(\"коттедж\")|df3['text'].str.contains(\"Коттедж\")\n",
    "             |df3['text'].str.contains(\"коттеджи\")|df3['text'].str.contains(\"Коттеджи\")\n",
    "               |df3['text'].str.contains(\"коттеджей\")|df3['text'].str.contains(\"Коттеджей\")\n",
    "            |df3['text'].str.contains(\"жилья\")|df3['text'].str.contains(\"Жилья\")\n",
    "               |df3['text'].str.contains(\"жильё\")|df3['text'].str.contains(\"Жильё\")]\n",
    "df5.shape"
   ]
  },
  {
   "cell_type": "code",
   "execution_count": 157,
   "metadata": {},
   "outputs": [
    {
     "data": {
      "text/plain": [
       "(634, 3)"
      ]
     },
     "execution_count": 157,
     "metadata": {},
     "output_type": "execute_result"
    }
   ],
   "source": [
    "#Отбираем только Аренду недвижимости\n",
    "df55=df5.loc[df5['text'].str.contains(\"Аренда\")|df5['text'].str.contains(\"аренда\")\n",
    "               |df5['text'].str.contains(\"Арендовать\")|df5['text'].str.contains(\"арендовать\")\n",
    "             |df5['text'].str.contains(\"аренду\")|df5['text'].str.contains(\"Аренду\")\n",
    "               |df5['text'].str.contains(\"Снять\")|df5['text'].str.contains(\"снять\")\n",
    "               |df5['text'].str.contains(\"посуточная\")|df5['text'].str.contains(\"Посуточная\")\n",
    "               |df5['text'].str.contains(\"Посуточно\")|df5['text'].str.contains(\"посуточно\")\n",
    "            ]\n",
    "df55.shape"
   ]
  },
  {
   "cell_type": "markdown",
   "metadata": {},
   "source": [
    "#создать формат для загрузки в справочник"
   ]
  },
  {
   "cell_type": "code",
   "execution_count": 158,
   "metadata": {},
   "outputs": [],
   "source": [
    "df55d = df55.merge(dim, indicator='i', how='outer').query('i == \"left_only\"').drop('i', 1)\n",
    "len(df55d)\n",
    "df55du=df55d['url'].reset_index(drop=True)\n",
    "columns1 = ['taxon']\n",
    "columns2 = ['value']\n",
    "columns3 = ['source']\n",
    "dat1 = np.array(['elite_property_ind']*len(df55d)).T\n",
    "d1 = pd.DataFrame(dat1, columns=columns1)\n",
    "dat2 = np.array(['NULL']*len(df55d)).T\n",
    "d2 = pd.DataFrame(dat2, columns=columns2)\n",
    "dat3 = np.array(['site']*len(df55d)).T\n",
    "d3 = pd.DataFrame(dat3, columns=columns3)\n",
    "frames = [d1,df55du,d2,d3]\n",
    "newDF = pd.concat(frames, ignore_index=True, sort=False, axis=1) # ignoring index is optional\n",
    "newDF.to_csv('sites_test/rent_property_ind_to_load.csv', index=False, header=False, encoding='utf-8', sep = \";\")"
   ]
  },
  {
   "cell_type": "code",
   "execution_count": 159,
   "metadata": {},
   "outputs": [],
   "source": [
    "df55d.to_csv('sites_test/Rent_property_1.csv', index=False)\n",
    "df55d['url'].to_csv('site_test/Rent_property_url1.csv', index=False)"
   ]
  },
  {
   "cell_type": "markdown",
   "metadata": {},
   "source": [
    "# Выбираем сайты clothes_shoe_web_ind - Одежда и обувь, купленная онлайн"
   ]
  },
  {
   "cell_type": "code",
   "execution_count": 19,
   "metadata": {},
   "outputs": [
    {
     "data": {
      "text/plain": [
       "(5600, 3)"
      ]
     },
     "execution_count": 19,
     "metadata": {},
     "output_type": "execute_result"
    }
   ],
   "source": [
    "#Choosing clothes and shoes\n",
    "df6=df3.loc[df3['text'].str.contains(\"одежда\")|df3['text'].str.contains(\"обувь\")\n",
    "           |df3['text'].str.contains(\"аксессуар\")|df3['text'].str.contains(\"бельё\")\n",
    "           |df3['text'].str.contains(\"Одежда\")|df3['text'].str.contains(\"Обувь\")\n",
    "           |df3['text'].str.contains(\"Бельё\")|df3['text'].str.contains(\"Аксессуар\")\n",
    "           |df3['text'].str.contains(\"аксессуары\")|df3['text'].str.contains(\"аксессуары\")\n",
    "           |df3['text'].str.contains(\"белья\")|df3['text'].str.contains(\"Белья\")\n",
    "           |df3['text'].str.contains(\"Одежды\")|df3['text'].str.contains(\"одежды\")\n",
    "           |df3['text'].str.contains(\"обуви\")|df3['text'].str.contains(\"Обуви\")\n",
    "           |df3['text'].str.contains(\"спецодежда\")|df3['text'].str.contains(\"Спецодежда\")\n",
    "           |df3['text'].str.contains(\"спецодежды\")|df3['text'].str.contains(\"Спецодежды\")\n",
    "            |df3['text'].str.contains(\"аксессуаров\")|df3['text'].str.contains(\"Аксессуаров\")\n",
    "            |df3['text'].str.contains(\"трикотаж\")|df3['text'].str.contains(\"Трикотажа\")\n",
    "            |df3['text'].str.contains(\"трикотажевый\")|df3['text'].str.contains(\"Трикотажевый\")\n",
    "            |df3['text'].str.contains(\"трикотажевая\")|df3['text'].str.contains(\"Трикотажевая\")\n",
    "            |df3['text'].str.contains(\"платья\")|df3['text'].str.contains(\"Платья\")\n",
    "            |df3['text'].str.contains(\"платье\")|df3['text'].str.contains(\"Платье\")\n",
    "            |df3['text'].str.contains(\"Костюмы\")|df3['text'].str.contains(\"костюмы\")\n",
    "            |df3['text'].str.contains(\"платьев\")|df3['text'].str.contains(\"Платьев\")\n",
    "            |df3['text'].str.contains(\"Костюмов\")|df3['text'].str.contains(\"костюмов\")\n",
    "           ]\n",
    "df6.shape"
   ]
  },
  {
   "cell_type": "code",
   "execution_count": 20,
   "metadata": {},
   "outputs": [
    {
     "data": {
      "text/plain": [
       "(4454, 3)"
      ]
     },
     "execution_count": 20,
     "metadata": {},
     "output_type": "execute_result"
    }
   ],
   "source": [
    "df66=df6.loc[(df6['text'].str.contains(\"автомобильных\") == False)\n",
    "             &(df6['text'].str.contains(\"автомобильные\") == False)\n",
    "             &(df6['text'].str.contains(\"пошив\") == False)\n",
    "            &(df6['text'].str.contains(\"Пошив\") == False)\n",
    "             &(df6['text'].str.contains(\"блог\") == False)\n",
    "            &(df6['text'].str.contains(\"электроника\") == False)\n",
    "             &(df6['text'].str.contains(\"Блог\") == False)\n",
    "            &(df6['text'].str.contains(\"запчасти\") == False)\n",
    "            &(df6['text'].str.contains(\"запчастей\") == False)\n",
    "             &(df6['text'].str.contains(\"Запчасти\") == False)\n",
    "            &(df6['text'].str.contains(\"ремонт\") == False)\n",
    "            &(df6['text'].str.contains(\"чистка\") == False)\n",
    "            &(df6['text'].str.contains(\"Авто\") == False)\n",
    "            &(df6['text'].str.contains(\"авто\") == False)\n",
    "            &(df6['text'].str.contains(\"автоаксессуаров\") == False)\n",
    "            &(df6['text'].str.contains(\"телефонов\") == False)\n",
    "            &(df6['text'].str.contains(\"телефоны\") == False)\n",
    "            &(df6['text'].str.contains(\"телефон\") == False)\n",
    "            &(df6['text'].str.contains(\"Журнал\") == False)\n",
    "            &(df6['text'].str.contains(\"журнал\") == False)\n",
    "            &(df6['text'].str.contains(\"мебельная\") == False)\n",
    "            &(df6['text'].str.contains(\"мебель\") == False)\n",
    "            &(df6['text'].str.contains(\"Мебель\") == False)\n",
    "            &(df6['text'].str.contains(\"автоаксессуаров\") == False)\n",
    "            &(df6['text'].str.contains(\"Производство\") == False)\n",
    "            &(df6['text'].str.contains(\"производство\") == False)\n",
    "            &(df6['text'].str.contains(\"изготовление\") == False)\n",
    "            &(df6['text'].str.contains(\"Изготовление\") == False)\n",
    "            &(df6['text'].str.contains(\"авто\") == False)\n",
    "            &(df6['text'].str.contains(\"Выкройки\") == False)\n",
    "            &(df6['text'].str.contains(\"выкройки\") == False)\n",
    "            &(df6['text'].str.contains(\"Выкройка\") == False)\n",
    "            &(df6['text'].str.contains(\"выкройка\") == False)\n",
    "             &(df6['text'].str.contains(\"Обзор\") == False)\n",
    "            &(df6['text'].str.contains(\"Мебельная\") == False)\n",
    "            &(df6['text'].str.contains(\"обзор\") == False)\n",
    "             &(df6['text'].str.contains(\"Обзор\") == False)\n",
    "             &(df6['text'].str.contains(\"ремонт\") == False)\n",
    "             &(df6['text'].str.contains(\"ремонта\") == False)\n",
    "             &(df6['text'].str.contains(\"Ремонт\") == False)\n",
    "             &(df6['text'].str.contains(\"Ремонта\") == False)\n",
    "            &(df6['text'].str.contains(\"цифровой\") == False)\n",
    "             &(df6['text'].str.contains(\"техника\") == False)\n",
    "            &(df6['text'].str.contains(\"ванна\") == False)\n",
    "             &(df6['text'].str.contains(\"тюнинг\") == False)\n",
    "            &(df6['text'].str.contains(\"вязание\") == False)\n",
    "             &(df6['text'].str.contains(\"оружие\") == False)\n",
    "            &(df6['text'].str.contains(\"интим\") == False)\n",
    "            &(df6['text'].str.contains(\"Сантехника\") == False)\n",
    "            &(df6['text'].str.contains(\"инструменты\") == False)\n",
    "            &(df6['text'].str.contains(\"велосипеды\") == False)\n",
    "            &(df6['text'].str.contains(\"велосипедов\") == False)\n",
    "            &(df6['text'].str.contains(\"волос\") == False)\n",
    "            &(df6['text'].str.contains(\"стулья\") == False)\n",
    "            &(df6['text'].str.contains(\"прокат\") == False)\n",
    "            &(df6['text'].str.contains(\"Новости\") == False)\n",
    "            &(df6['text'].str.contains(\"шины\") == False)\n",
    "            &(df6['text'].str.contains(\"табак\") == False)\n",
    "            &(df6['text'].str.contains(\"сигареты\") == False)\n",
    "            &(df6['text'].str.contains(\"мебели\") == False)\n",
    "            &(df6['text'].str.contains(\"косметика\") == False)\n",
    "            &(df6['text'].str.contains(\"косметики\") == False)\n",
    "            &(df6['text'].str.contains(\"мобильные\") == False)\n",
    "            &(df6['text'].str.contains(\"игрушки\") == False)\n",
    "            &(df6['text'].str.contains(\"iphone\") == False)\n",
    "            &(df6['text'].str.contains(\"пистолеты\") == False)\n",
    "            &(df6['text'].str.contains(\"окна\") == False)\n",
    "            &(df6['text'].str.contains(\"телефоны\") == False)\n",
    "            &(df6['text'].str.contains(\"декор\") == False)\n",
    "            &(df6['text'].str.contains(\"дизайн\") == False)\n",
    "            &(df6['text'].str.contains(\"оконная\") == False)\n",
    "            &(df6['text'].str.contains(\"ванной\") == False)\n",
    "            \n",
    "            ]\n",
    "df66.shape"
   ]
  },
  {
   "cell_type": "code",
   "execution_count": 21,
   "metadata": {},
   "outputs": [],
   "source": [
    "#df66d = pd.merge(df66, dim, on='url')\n",
    "#df66d.shape"
   ]
  },
  {
   "cell_type": "code",
   "execution_count": 22,
   "metadata": {},
   "outputs": [],
   "source": [
    "df66d = df66.merge(dim, indicator='i', how='outer').query('i == \"left_only\"').drop('i', 1)\n",
    "len(df66d)\n",
    "df66du=df66d['url'].reset_index(drop=True)\n",
    "columns1 = ['taxon']\n",
    "columns2 = ['value']\n",
    "columns3 = ['source']\n",
    "dat1 = np.array(['clothes_shoe_web_ind']*len(df66d)).T\n",
    "d1 = pd.DataFrame(dat1, columns=columns1)\n",
    "dat2 = np.array(['NULL']*len(df66d)).T\n",
    "d2 = pd.DataFrame(dat2, columns=columns2)\n",
    "dat3 = np.array(['site']*len(df66d)).T\n",
    "d3 = pd.DataFrame(dat3, columns=columns3)\n",
    "frames = [d1,df66du,d2,d3]\n",
    "newDF = pd.concat(frames, ignore_index=True, sort=False, axis=1) # ignoring index is optional\n",
    "newDF.to_csv('sites_test/clothes_shoe_web_ind_to_load.csv', index=False, header=False, encoding='utf-8', sep = \";\")"
   ]
  },
  {
   "cell_type": "code",
   "execution_count": 23,
   "metadata": {},
   "outputs": [],
   "source": [
    "df66d.to_csv('sites_test/Сlothes_shoe_web_to_buy.csv', index=False)\n",
    "df66d['url'].to_csv('sites_test/Сlothes_shoe_web_to_buy_url.csv', index=False)"
   ]
  },
  {
   "cell_type": "markdown",
   "metadata": {},
   "source": [
    "# Sport_Feature_ind - Занимаются спортом"
   ]
  },
  {
   "cell_type": "code",
   "execution_count": 53,
   "metadata": {},
   "outputs": [
    {
     "data": {
      "text/plain": [
       "(5156, 3)"
      ]
     },
     "execution_count": 53,
     "metadata": {},
     "output_type": "execute_result"
    }
   ],
   "source": [
    "#Choosing clothes and shoes\n",
    "df7=df3.loc[df3['text'].str.lower().str.contains(\"спорт\")|df3['text'].str.contains(\"(?i)спортивный\")\n",
    "           |df3['text'].str.contains(\"(?i)спортом\")|df3['text'].str.contains(\"фитнес\")\n",
    "           |df3['text'].str.contains(\"(?i)бегом\")|df3['text'].str.contains(\"(?i)спортклуб\")\n",
    "            |df3['text'].str.contains(\"(?i)теннис\")|df3['text'].str.contains(\"(?i)баскетболом\")\n",
    "            #|df3['text'].str.contains(\"(?i)волейбол\")|df3['text'].str.contains(\"(?i)баскетбол\")\n",
    "            |df3['text'].str.contains(\"(?i)волейболом\")|df3['text'].str.contains(\"(?i)спортивные\")\n",
    "            |df3['text'].str.contains(\"(?i)бассейн\")|df3['text'].str.contains(\"(?i)бег\")\n",
    "            |df3['text'].str.contains(\"(?i)теннисом\")|df3['text'].str.contains(\"(?i)физкультурно\")\n",
    "            |df3['text'].str.contains(\"(?i)физкультура\")|df3['text'].str.contains(\"(?i)физкультурный\")\n",
    "            |df3['text'].str.contains(\"(?i)футболом\")|df3['text'].str.contains(\"(?i)физической\")\n",
    "            |df3['text'].str.contains(\"(?i)физическая\")\n",
    "           |df3['text'].str.lower().str.contains(\"бодибилдинг\")|df3['text'].str.lower().str.contains(\"плавание\")\n",
    "            |df3['text'].str.lower().str.contains(\"марафон\")|df3['text'].str.lower().str.contains(\"спортсмены\")\n",
    "            |df3['text'].str.lower().str.contains(\"спортсмен\")|df3['text'].str.lower().str.contains(\"атлет\")\n",
    "            |df3['text'].str.lower().str.contains(\"спортзал\")|df3['text'].str.contains(\"(?i)спортивный\")\n",
    "            |df3['text'].str.contains(\"(?i)спортивная\")|df3['text'].str.contains(\"(?i)тренажёрная\")\n",
    "            |df3['text'].str.contains(\"(?i)плавательный\")|df3['text'].str.contains(\"(?i)тренажёрный\")\n",
    "            |df3['text'].str.lower().str.contains(\"марафоны\")|df3['text'].str.lower().str.contains(\"гимнастика\")\n",
    "            |df3['text'].str.lower().str.contains(\"гимнастикой\")|df3['text'].str.lower().str.contains(\"акробатика\")\n",
    "            |df3['text'].str.lower().str.contains(\"акробатикой\")|df3['text'].str.lower().str.contains(\"велосипед\")\n",
    "            |df3['text'].str.lower().str.contains(\"лыжи\")|df3['text'].str.lower().str.contains(\"лыжные\")\n",
    "            |df3['text'].str.lower().str.contains(\"велосипеде\")|df3['text'].str.lower().str.contains(\"лыжная\")\n",
    "            |df3['text'].str.lower().str.contains(\"беговой\")|df3['text'].str.lower().str.contains(\"беговая\")  \n",
    "            |df3['text'].str.lower().str.contains(\"велосипедный\")|df3['text'].str.lower().str.contains(\"тренажёры\")\n",
    "            |df3['text'].str.lower().str.contains(\"тренажёр\")|df3['text'].str.lower().str.contains(\"соревнования\")\n",
    "            |df3['text'].str.lower().str.contains(\"соревнований\")|df3['text'].str.lower().str.contains(\"тренироваться\")\n",
    "            |df3['text'].str.lower().str.contains(\"тренировка\")|df3['text'].str.lower().str.contains(\"тренировки\")\n",
    "            |df3['text'].str.lower().str.contains(\"тренировок\")|df3['text'].str.contains(\"(?i)спорта\")\n",
    "            |df3['text'].str.lower().str.contains(\"лыжный\")|df3['text'].str.lower().str.contains(\"СДЮШОР\")\n",
    "            |df3['text'].str.lower().str.contains(\"фитнеса\")|df3['text'].str.lower().str.contains(\"атлетика\")\n",
    "            |df3['text'].str.lower().str.contains(\"физическая\")|df3['text'].str.lower().str.contains(\"физический\")\n",
    "            |df3['text'].str.lower().str.contains(\"физическая\")|df3['text'].str.lower().str.contains(\"физический\")\n",
    "            |df3['text'].str.lower().str.contains(\"карате\")|df3['text'].str.lower().str.contains(\"таеквандо\")\n",
    "            |df3['text'].str.lower().str.contains(\"спортивное\")|df3['text'].str.lower().str.contains(\"тренажёров\")\n",
    "            |df3['text'].str.lower().str.contains(\"коньки\")|df3['text'].str.lower().str.contains(\"(?i)ходьба\")\n",
    "            |df3['text'].str.contains(\"(?i)горнолыжное\")|df3['text'].str.contains(\"(?i)горнолыжные\")\n",
    "            |df3['text'].str.contains(\"(?i)эктремальное\")|df3['text'].str.contains(\"(?i)пилатес\")\n",
    "            |df3['text'].str.contains(\"(?i)эктремальные\")|df3['text'].str.contains(\"(?i)стречинг\")\n",
    "            \n",
    "           ]\n",
    "df7.shape"
   ]
  },
  {
   "cell_type": "code",
   "execution_count": 54,
   "metadata": {},
   "outputs": [
    {
     "data": {
      "text/plain": [
       "(2785, 3)"
      ]
     },
     "execution_count": 54,
     "metadata": {},
     "output_type": "execute_result"
    }
   ],
   "source": [
    "df77=df7.loc[(df7['text'].str.contains(\"(?i)новости\") == False)\n",
    "             &(df7['text'].str.contains(\"(?i)перевозки\") == False)\n",
    "             &(df7['text'].str.contains(\"(?i)блог\") == False)\n",
    "            &(df7['text'].str.contains(\"(?i)лотерея\") == False)\n",
    "             &(df7['text'].str.contains(\"(?i)строительство\") == False)\n",
    "            &(df7['text'].str.contains(\"(?i)транспортная\") == False)\n",
    "             &(df7['text'].str.contains(\"(?i)порно\") == False)\n",
    "             &(df7['text'].str.contains(\"(?i)ставки\") == False)\n",
    "             &(df7['text'].str.contains(\"(?i)ставка\") == False)\n",
    "             &(df7['text'].str.contains(\"(?i)пресса\") == False)\n",
    "             &(df7['text'].str.contains(\"(?i)журнал\") == False)\n",
    "             &(df7['text'].str.contains(\"(?i)трансляции\") == False)\n",
    "             &(df7['text'].str.contains(\"(?i)трансляции\") == False)\n",
    "             &(df7['text'].str.contains(\"(?i)смотреть\") == False)\n",
    "             &(df7['text'].str.contains(\"(?i)футболки\") == False)\n",
    "             &(df7['text'].str.contains(\"(?i)фотографии\") == False)\n",
    "             &(df7['text'].str.contains(\"(?i)фото\") == False)\n",
    "             &(df7['text'].str.contains(\"(?i)ставка\") == False)\n",
    "            &(df7['text'].str.contains(\"(?i)загранпаспорт\") == False)\n",
    "             &(df7['text'].str.contains(\"(?i)загранпаспорта\") == False)\n",
    "                &(df7['text'].str.contains(\"(?i)налог\") == False)\n",
    "             &(df7['text'].str.contains(\"(?i)транспорт\") == False)\n",
    "             &(df7['text'].str.contains(\"(?i)печать\") == False)\n",
    "             &(df7['text'].str.contains(\"(?i)прогнозы\") == False)\n",
    "             &(df7['text'].str.contains(\"(?i)аналитика\") == False)\n",
    "             &(df7['text'].str.contains(\"(?i)информация\") == False)\n",
    "             &(df7['text'].str.contains(\"(?i)транспорт\") == False)\n",
    "             &(df7['text'].str.contains(\"(?i)виза\") == False)\n",
    "             &(df7['text'].str.contains(\"(?i)визах\") == False)\n",
    "              &(df7['text'].str.contains(\"(?i)автомобили\") == False)\n",
    "             &(df7['text'].str.contains(\"(?i)информационный\") == False)\n",
    "             &(df7['text'].str.contains(\"(?i)аналитический\") == False)\n",
    "             &(df7['text'].str.contains(\"(?i)национальная\") == False)\n",
    "             &(df7['text'].str.contains(\"(?i)событиях\") == False)\n",
    "             &(df7['text'].str.contains(\"(?i)события\") == False)\n",
    "             &(df7['text'].str.contains(\"(?i)покрытия\") == False)\n",
    "             &(df7['text'].str.contains(\"(?i)портал\") == False)\n",
    "             &(df7['text'].str.contains(\"(?i)автомобиль\") == False)\n",
    "               &(df7['text'].str.contains(\"(?i)автомобилях\") == False)\n",
    "             &(df7['text'].str.contains(\"(?i)диетах\") == False)\n",
    "             &(df7['text'].str.contains(\"(?i)билеты\") == False)\n",
    "             &(df7['text'].str.contains(\"(?i)санатории\") == False)\n",
    "             &(df7['text'].str.contains(\"(?i)видео\") == False)\n",
    "             &(df7['text'].str.contains(\"(?i)обзоры\") == False)\n",
    "             &(df7['text'].str.contains(\"(?i)отдых\") == False)\n",
    "             &(df7['text'].str.contains(\"(?i)автомобилей\") == False)\n",
    "             &(df7['text'].str.contains(\"(?i)красота\") == False)\n",
    "             &(df7['text'].str.contains(\"(?i)футболок\") == False)\n",
    "             &(df7['text'].str.contains(\"(?i)запчасти\") == False)\n",
    "             &(df7['text'].str.contains(\"(?i)автомобиля\") == False)\n",
    "             &(df7['text'].str.contains(\"(?i)рецепты\") == False)\n",
    "             &(df7['text'].str.contains(\"(?i)лодки\") == False)\n",
    "              &(df7['text'].str.contains(\"(?i)агентство\") == False)\n",
    "             &(df7['text'].str.contains(\"(?i)путешествия\") == False)\n",
    "              &(df7['text'].str.contains(\"(?i)обзор\") == False)\n",
    "             &(df7['text'].str.contains(\"(?i)лодка\") == False)\n",
    "             &(df7['text'].str.contains(\"(?i)автозапчастей\") == False)\n",
    "             &(df7['text'].str.contains(\"(?i)автозапчасти\") == False)\n",
    "             &(df7['text'].str.contains(\"(?i)авто\") == False)\n",
    "             &(df7['text'].str.contains(\"(?i)баня\") == False)\n",
    "             &(df7['text'].str.contains(\"(?i)гостиница\") == False)\n",
    "             &(df7['text'].str.contains(\"(?i)гостиницы\") == False)\n",
    "             &(df7['text'].str.contains(\"(?i)прогнозах\") == False)\n",
    "             &(df7['text'].str.contains(\"(?i)сауна\") == False)\n",
    "             &(df7['text'].str.contains(\"(?i)строительство\") == False)\n",
    "             &(df7['text'].str.contains(\"(?i)пошив\") == False)\n",
    "              &(df7['text'].str.contains(\"(?i)сооружение\") == False)\n",
    "             &(df7['text'].str.contains(\"(?i)сооружений\") == False)\n",
    "              &(df7['text'].str.contains(\"(?i)здания\") == False)\n",
    "             &(df7['text'].str.contains(\"(?i)зданий\") == False)\n",
    "             &(df7['text'].str.contains(\"(?i)игрушки\") == False)\n",
    "             &(df7['text'].str.contains(\"(?i)отдыха\") == False)\n",
    "             &(df7['text'].str.contains(\"(?i)оборудование\") == False)\n",
    "             &(df7['text'].str.contains(\"(?i)лечение\") == False)\n",
    "             &(df7['text'].str.contains(\"(?i)медицина\") == False)\n",
    "             &(df7['text'].str.contains(\"(?i)косметика\") == False)\n",
    "             &(df7['text'].str.contains(\"(?i)производство\") == False)\n",
    "             &(df7['text'].str.contains(\"(?i)автосалон\") == False)\n",
    "             &(df7['text'].str.contains(\"(?i)красоты\") == False)\n",
    "             &(df7['text'].str.contains(\"(?i)спортбар\") == False)\n",
    "             &(df7['text'].str.contains(\"(?i)управление\") == False)\n",
    "             &(df7['text'].str.contains(\"(?i)публикации\") == False)\n",
    "            &(df7['text'].str.contains(\"(?i)диеты\") == False)\n",
    "             &(df7['text'].str.contains(\"(?i)диета\") == False)\n",
    "             &(df7['text'].str.contains(\"(?i)диет\") == False)\n",
    "             &(df7['text'].str.contains(\"(?i)стоматология\") == False)\n",
    "             &(df7['text'].str.contains(\"(?i)фармакологии\") == False)\n",
    "             &(df7['text'].str.contains(\"(?i)фармакология\") == False)\n",
    "             &(df7['text'].str.contains(\"(?i)спортейдж\") == False)\n",
    "             &(df7['text'].str.contains(\"(?i)шины\") == False)\n",
    "             &(df7['text'].str.contains(\"(?i)футбольный\") == False)\n",
    "             &(df7['text'].str.contains(\"(?i)волейбольный\") == False)\n",
    "             &(df7['text'].str.contains(\"(?i)министерство\") == False)\n",
    "             &(df7['text'].str.contains(\"(?i)клиника\") == False)\n",
    "             &(df7['text'].str.contains(\"(?i)министерство\") == False)\n",
    "             &(df7['text'].str.contains(\"(?i)кредиты\") == False)\n",
    "             &(df7['text'].str.contains(\"(?i)министерство\") == False)\n",
    "             &(df7['text'].str.contains(\"(?i)учреждение\") == False)\n",
    "             &(df7['text'].str.contains(\"(?i)министерство\") == False)\n",
    "             &(df7['text'].str.contains(\"(?i)управление\") == False)\n",
    "             &(df7['text'].str.contains(\"(?i)республика\") == False)\n",
    "             &(df7['text'].str.contains(\"(?i)спа\") == False)\n",
    "             &(df7['text'].str.contains(\"(?i)ремонт\") == False)\n",
    "             &(df7['text'].str.contains(\"(?i)статьи\") == False)\n",
    "             &(df7['text'].str.contains(\"(?i)кинотеатр\") == False)\n",
    "             &(df7['text'].str.contains(\"(?i)бани\") == False)\n",
    "             &(df7['text'].str.contains(\"(?i)кафе\") == False)\n",
    "             &(df7['text'].str.contains(\"(?i)туроператор\") == False)\n",
    "             &(df7['text'].str.contains(\"(?i)мебель\") == False)\n",
    "             &(df7['text'].str.contains(\"(?i)развивающие\") == False)\n",
    "             &(df7['text'].str.contains(\"(?i)сауны\") == False)\n",
    "             &(df7['text'].str.contains(\"(?i)спорт-бар\") == False)\n",
    "             &(df7['text'].str.contains(\"(?i)оборудования\") == False)\n",
    "             &(df7['text'].str.contains(\"(?i)ортопедия\") == False)\n",
    "             &(df7['text'].str.contains(\"(?i)развлекательный\") == False)\n",
    "             &(df7['text'].str.contains(\"(?i)жилой\") == False)\n",
    "             &(df7['text'].str.contains(\"(?i)саун\") == False)\n",
    "             &(df7['text'].str.contains(\"(?i)музей\") == False)\n",
    "             &(df7['text'].str.contains(\"(?i)форма\") == False)\n",
    "             &(df7['text'].str.contains(\"(?i)укладка\") == False)\n",
    "             &(df7['text'].str.contains(\"(?i)коляски\") == False)\n",
    "             &(df7['text'].str.contains(\"(?i)развлечений\") == False)\n",
    "             &(df7['text'].str.contains(\"(?i)развлечения\") == False)\n",
    "             &(df7['text'].str.contains(\"(?i)отели\") == False)\n",
    "             &(df7['text'].str.contains(\"(?i)геймеров\") == False)\n",
    "             &(df7['text'].str.contains(\"(?i)исследовательского\") == False)\n",
    "             &(df7['text'].str.contains(\"(?i)окон\") == False)\n",
    "             &(df7['text'].str.contains(\"(?i)паспорт\") == False)\n",
    "             &(df7['text'].str.contains(\"(?i)паспортный\") == False)\n",
    "             &(df7['text'].str.contains(\"(?i)паспортно\") == False)\n",
    "             &(df7['text'].str.contains(\"(?i)медицинские\") == False)\n",
    "             &(df7['text'].str.contains(\"(?i)медицинская\") == False)\n",
    "             &(df7['text'].str.contains(\"(?i)вебинары\") == False)\n",
    "             &(df7['text'].str.contains(\"(?i)паспорта\") == False)\n",
    "            \n",
    "            ]\n",
    "df77.shape"
   ]
  },
  {
   "cell_type": "code",
   "execution_count": 55,
   "metadata": {},
   "outputs": [],
   "source": [
    "#df77d = pd.merge(df77, dim, on='url')\n",
    "#len(df77d)"
   ]
  },
  {
   "cell_type": "code",
   "execution_count": 27,
   "metadata": {},
   "outputs": [],
   "source": [
    "df77d = df77.merge(dim, indicator='i', how='outer').query('i == \"left_only\"').drop('i', 1)\n",
    "len(df77d)\n",
    "df77du=df77d['url'].reset_index(drop=True)\n",
    "columns1 = ['taxon']\n",
    "columns2 = ['value']\n",
    "columns3 = ['source']\n",
    "dat1 = np.array(['sport_feature_ind']*len(df77d)).T\n",
    "d1 = pd.DataFrame(dat1, columns=columns1)\n",
    "dat2 = np.array(['NULL']*len(df77d)).T\n",
    "d2 = pd.DataFrame(dat2, columns=columns2)\n",
    "dat3 = np.array(['site']*len(df77d)).T\n",
    "d3 = pd.DataFrame(dat3, columns=columns3)\n",
    "frames = [d1,df77du,d2,d3]\n",
    "newDF = pd.concat(frames, ignore_index=True, sort=False, axis=1) # ignoring index is optional\n",
    "newDF.to_csv('sites_test/sport_feature_ind_to_load.csv', index=False, header=False, encoding='utf-8', sep = \";\")"
   ]
  },
  {
   "cell_type": "code",
   "execution_count": 28,
   "metadata": {},
   "outputs": [],
   "source": [
    "df77d.to_csv('sites_test/Sport_feature.csv', index=False)\n",
    "df77d['url'].to_csv('sites_test/Sport_feature_url.csv', index=False)"
   ]
  },
  {
   "cell_type": "code",
   "execution_count": 29,
   "metadata": {},
   "outputs": [
    {
     "data": {
      "text/plain": [
       "2770"
      ]
     },
     "execution_count": 29,
     "metadata": {},
     "output_type": "execute_result"
    }
   ],
   "source": [
    "len(df77d)"
   ]
  },
  {
   "cell_type": "markdown",
   "metadata": {},
   "source": [
    "# Выбираем сайты delivery_food_ind - Доставка пищи на дом"
   ]
  },
  {
   "cell_type": "code",
   "execution_count": 258,
   "metadata": {},
   "outputs": [
    {
     "data": {
      "text/plain": [
       "(3960, 3)"
      ]
     },
     "execution_count": 258,
     "metadata": {},
     "output_type": "execute_result"
    }
   ],
   "source": [
    "df8=df3.loc[df3['text'].str.lower().str.contains(\"пицца\")|df3['text'].str.contains(\"(?i)роллы\")\n",
    "           |df3['text'].str.contains(\"(?i)торты\")|df3['text'].str.contains(\"(?i)пироги\")\n",
    "           |df3['text'].str.contains(\"(?i)ролл\")|df3['text'].str.contains(\"(?i)еда\")\n",
    "            |df3['text'].str.contains(\"(?i)еды\")|df3['text'].str.contains(\"(?i)суши\")\n",
    "            |df3['text'].str.contains(\"(?i)торт\")|df3['text'].str.contains(\"(?i)торты\")\n",
    "            |df3['text'].str.contains(\"(?i)торты\")|df3['text'].str.contains(\"(?i)салаты\")\n",
    "            |df3['text'].str.contains(\"(?i)пирожные\")|df3['text'].str.contains(\"(?i)десерты\")\n",
    "            |df3['text'].str.contains(\"(?i)кухня\")|df3['text'].str.contains(\"(?i)обед\")\n",
    "            |df3['text'].str.contains(\"(?i)завтраки\")|df3['text'].str.contains(\"(?i)обеды\")\n",
    "            |df3['text'].str.contains(\"(?i)завтрак\")|df3['text'].str.contains(\"(?i)пирог\")\n",
    "            |df3['text'].str.contains(\"(?i)еду\")|df3['text'].str.contains(\"(?i)пиццы\")\n",
    "            |df3['text'].str.contains(\"(?i)пирогов\")|df3['text'].str.contains(\"(?i)роллов\")\n",
    "            |df3['text'].str.contains(\"(?i)тортов\")|df3['text'].str.contains(\"(?i)обедов\")\n",
    "        \n",
    "           ]\n",
    "df8.shape"
   ]
  },
  {
   "cell_type": "code",
   "execution_count": 259,
   "metadata": {},
   "outputs": [
    {
     "data": {
      "text/plain": [
       "(1506, 3)"
      ]
     },
     "execution_count": 259,
     "metadata": {},
     "output_type": "execute_result"
    }
   ],
   "source": [
    "df888=df8.loc[df8['text'].str.lower().str.contains(\"доставка\")|df8['text'].str.contains(\"(?i)дом\")\n",
    "           |df8['text'].str.contains(\"(?i)доставлять\")|df8['text'].str.contains(\"(?i)офис\")\n",
    "           |df8['text'].str.contains(\"(?i)доставкой\")|df8['text'].str.contains(\"(?i)заказ\")\n",
    "             |df8['text'].str.contains(\"(?i)заказать\")|df3['text'].str.contains(\"(?i)яндекс\")\n",
    "             |df3['text'].str.contains(\"(?i)yandex\")|df8['text'].str.contains(\"(?i)доставке\")\n",
    "              |df8['text'].str.contains(\"(?i)домой\")|df8['text'].str.contains(\"(?i)заказывать\")\n",
    "              |df8['text'].str.contains(\"(?i)доставки\")|df8['text'].str.contains(\"(?i)офисы\")\n",
    "           ]\n",
    "df888.shape"
   ]
  },
  {
   "cell_type": "code",
   "execution_count": 260,
   "metadata": {},
   "outputs": [
    {
     "data": {
      "text/plain": [
       "(1081, 3)"
      ]
     },
     "execution_count": 260,
     "metadata": {},
     "output_type": "execute_result"
    }
   ],
   "source": [
    "df88=df888.loc[(df888['text'].str.contains(\"(?i)рецепты\") == False)\n",
    "             &(df888['text'].str.contains(\"(?i)отзывы\") == False)\n",
    "             &(df888['text'].str.contains(\"(?i)блог\") == False)\n",
    "            &(df888['text'].str.contains(\"(?i)интернет-магазин\") == False)\n",
    "               &(df888['text'].str.contains(\"(?i)производство\") == False)\n",
    "               &(df888['text'].str.contains(\"(?i)значки\") == False)\n",
    "               &(df888['text'].str.contains(\"(?i)косметические\") == False)\n",
    "               &(df888['text'].str.contains(\"(?i)процедуры\") == False)\n",
    "               &(df888['text'].str.contains(\"(?i)мебель\") == False)\n",
    "               &(df888['text'].str.contains(\"(?i)мебели\") == False)\n",
    "               &(df888['text'].str.contains(\"(?i)стол\") == False)\n",
    "               &(df888['text'].str.contains(\"(?i)столы\") == False)\n",
    "               &(df888['text'].str.contains(\"(?i)столов\") == False)\n",
    "               &(df888['text'].str.contains(\"(?i)кухонные\") == False)\n",
    "               &(df888['text'].str.contains(\"(?i)производителя\") == False)\n",
    "               &(df888['text'].str.contains(\"(?i)шугаринг\") == False)\n",
    "               &(df888['text'].str.contains(\"(?i)ремонт\") == False)\n",
    "               &(df888['text'].str.contains(\"(?i)ремонте\") == False)\n",
    "               &(df888['text'].str.contains(\"(?i)ремонта\") == False)\n",
    "               &(df888['text'].str.contains(\"(?i)рецептами\") == False)\n",
    "               &(df888['text'].str.contains(\"(?i)рецептам\") == False)\n",
    "               &(df888['text'].str.contains(\"(?i)кубки\") == False)\n",
    "               &(df888['text'].str.contains(\"(?i)медали\") == False)\n",
    "               &(df888['text'].str.contains(\"(?i)медаль\") == False)\n",
    "               &(df888['text'].str.contains(\"(?i)фото\") == False)\n",
    "               &(df888['text'].str.contains(\"(?i)фармацевтическая\") == False)\n",
    "               &(df888['text'].str.contains(\"(?i)спальни\") == False)\n",
    "                &(df888['text'].str.contains(\"(?i)изготовление\") == False)\n",
    "                &(df888['text'].str.contains(\"(?i)массаж\") == False)\n",
    "                &(df888['text'].str.contains(\"(?i)эротический\") == False)\n",
    "                &(df888['text'].str.contains(\"(?i)порно\") == False)\n",
    "               &(df888['text'].str.contains(\"(?i)знаков\") == False)\n",
    "               &(df888['text'].str.contains(\"(?i)медалей\") == False)\n",
    "               &(df888['text'].str.contains(\"(?i)на заказ\") == False)\n",
    "               &(df888['text'].str.contains(\"(?i)под заказ\") == False)\n",
    "                &(df888['text'].str.contains(\"(?i)панельные\") == False)\n",
    "                &(df888['text'].str.contains(\"(?i)деревянные\") == False)\n",
    "                &(df888['text'].str.contains(\"(?i)строительство\") == False)\n",
    "                &(df888['text'].str.contains(\"(?i)дизайн\") == False)\n",
    "                &(df888['text'].str.contains(\"(?i)термос\") == False)\n",
    "                &(df888['text'].str.contains(\"(?i)чай\") == False)\n",
    "                &(df888['text'].str.contains(\"(?i)косметика\") == False)\n",
    "               &(df888['text'].str.contains(\"(?i)интернет магазин\") == False)\n",
    "               &(df888['text'].str.contains(\"(?i)роллс\") == False)\n",
    "               &(df888['text'].str.contains(\"(?i)аренда\") == False)\n",
    "               &(df888['text'].str.contains(\"(?i)тюрьму\") == False)\n",
    "               &(df888['text'].str.contains(\"(?i)передачи\") == False)\n",
    "               &(df888['text'].str.contains(\"(?i)передача\") == False)\n",
    "                &(df888['text'].str.contains(\"(?i)праздники\") == False)\n",
    "               &(df888['text'].str.contains(\"(?i)праздник\") == False)\n",
    "                &(df888['text'].str.contains(\"(?i)научиться\") == False)\n",
    "               &(df888['text'].str.contains(\"(?i)готовить\") == False)\n",
    "               &(df888['text'].str.contains(\"(?i)логопеда\") == False)\n",
    "               &(df888['text'].str.contains(\"(?i)школа\") == False)\n",
    "               &(df888['text'].str.contains(\"(?i)школе\") == False)\n",
    "               &(df888['text'].str.contains(\"(?i)работа на дому\") == False)\n",
    "               &(df888['text'].str.contains(\"(?i)велосипеды\") == False)\n",
    "               &(df888['text'].str.contains(\"(?i)велосипед\") == False)\n",
    "               &(df888['text'].str.contains(\"(?i)мода\") == False)\n",
    "               &(df888['text'].str.contains(\"(?i)роллеты\") == False)\n",
    "               &(df888['text'].str.contains(\"(?i)журнал\") == False)\n",
    "               &(df888['text'].str.contains(\"(?i)женский\") == False)\n",
    "               &(df888['text'].str.contains(\"(?i)женская\") == False)\n",
    "               &(df888['text'].str.contains(\"(?i)афиша\") == False)\n",
    "               &(df888['text'].str.contains(\"(?i)расписание\") == False)\n",
    "               &(df888['text'].str.contains(\"(?i)объявления\") == False)\n",
    "               &(df888['text'].str.contains(\"(?i)каталог\") == False)\n",
    "               &(df888['text'].str.contains(\"(?i)автобусы\") == False)\n",
    "               &(df888['text'].str.contains(\"(?i)машин\") == False)\n",
    "               &(df888['text'].str.contains(\"(?i)текстиль\") == False)\n",
    "               &(df888['text'].str.contains(\"(?i)бельё\") == False)\n",
    "               &(df888['text'].str.contains(\"(?i)подушки\") == False)\n",
    "               &(df888['text'].str.contains(\"(?i)одеяло\") == False)\n",
    "               &(df888['text'].str.contains(\"(?i)подушка\") == False)\n",
    "               &(df888['text'].str.contains(\"(?i)ведомости\") == False)\n",
    "               &(df888['text'].str.contains(\"(?i)новости\") == False)\n",
    "               &(df888['text'].str.contains(\"(?i)блог\") == False)\n",
    "            \n",
    "              ]\n",
    "df88.shape"
   ]
  },
  {
   "cell_type": "code",
   "execution_count": 33,
   "metadata": {},
   "outputs": [],
   "source": [
    "df88d = df88.merge(dim, indicator='i', how='outer').query('i == \"left_only\"').drop('i', 1)\n",
    "len(df88d)\n",
    "df88du=df88d['url'].reset_index(drop=True)\n",
    "columns1 = ['taxon']\n",
    "columns2 = ['value']\n",
    "columns3 = ['source']\n",
    "dat1 = np.array(['delivery_food_ind']*len(df88d)).T\n",
    "d1 = pd.DataFrame(dat1, columns=columns1)\n",
    "dat2 = np.array(['NULL']*len(df88d)).T\n",
    "d2 = pd.DataFrame(dat2, columns=columns2)\n",
    "dat3 = np.array(['site']*len(df88d)).T\n",
    "d3 = pd.DataFrame(dat3, columns=columns3)\n",
    "frames = [d1,df88du,d2,d3]\n",
    "newDF = pd.concat(frames, ignore_index=True, sort=False, axis=1) # ignoring index is optional\n",
    "newDF.to_csv('sites_test/Delivery_food_ind_to_load.csv', index=False, header=False, encoding='utf-8', sep = \";\")"
   ]
  },
  {
   "cell_type": "code",
   "execution_count": 34,
   "metadata": {},
   "outputs": [],
   "source": [
    "df88d.to_csv('sites_test/Delivery_food.csv', index=False)\n",
    "df88d['url'].to_csv('sites_test/Delivery_food_url.csv', index=False)"
   ]
  },
  {
   "cell_type": "code",
   "execution_count": 35,
   "metadata": {},
   "outputs": [
    {
     "data": {
      "text/plain": [
       "1057"
      ]
     },
     "execution_count": 35,
     "metadata": {},
     "output_type": "execute_result"
    }
   ],
   "source": [
    "len(df88d)"
   ]
  },
  {
   "cell_type": "markdown",
   "metadata": {},
   "source": [
    "# Посещают рестораны - restaurant_ind"
   ]
  },
  {
   "cell_type": "code",
   "execution_count": 36,
   "metadata": {},
   "outputs": [
    {
     "data": {
      "text/plain": [
       "(3947, 3)"
      ]
     },
     "execution_count": 36,
     "metadata": {},
     "output_type": "execute_result"
    }
   ],
   "source": [
    "df9=df3.loc[df3['text'].str.lower().str.contains(\"ресторан\")|df3['text'].str.contains(\"(?i)рестораны\")\n",
    "           |df3['text'].str.contains(\"(?i)кафе\")|df3['text'].str.contains(\"(?i)ресторанов\")\n",
    "           |df3['text'].str.contains(\"(?i)кухня\")|df3['text'].str.contains(\"(?i)кафетерии\")\n",
    "            |df3['text'].str.contains(\"(?i)кафетерий\")|df3['text'].str.contains(\"(?i)кулинария\")\n",
    "            |df3['text'].str.contains(\"(?i)закусочная\")|df3['text'].str.contains(\"(?i)пиццерия\")\n",
    "            |df3['text'].str.contains(\"(?i)фудкорт\")|df3['text'].str.contains(\"(?i)фуд\")\n",
    "            |df3['text'].str.contains(\"(?i)суши\")|df3['text'].str.contains(\"(?i)бронирование столов\")\n",
    "            |df3['text'].str.contains(\"(?i)забронировать столик\")|df3['text'].str.contains(\"(?i)бронирование столиков\")\n",
    "            |df3['text'].str.contains(\"(?i)забронировать стол\")|df3['text'].str.contains(\"(?i)пекарня\")\n",
    "            |df3['text'].str.contains(\"(?i)кухни\")|df3['text'].str.contains(\"(?i)пельменная\")\n",
    "            |df3['text'].str.contains(\"(?i)вареничная\")|df3['text'].str.contains(\"(?i)кондитерская\")\n",
    "            |df3['text'].str.contains(\"(?i)ресторане\")|df3['text'].str.contains(\"(?i)ресторанах\")\n",
    "           ]\n",
    "df9.shape"
   ]
  },
  {
   "cell_type": "code",
   "execution_count": 37,
   "metadata": {},
   "outputs": [
    {
     "data": {
      "text/plain": [
       "(1333, 3)"
      ]
     },
     "execution_count": 37,
     "metadata": {},
     "output_type": "execute_result"
    }
   ],
   "source": [
    "df99=df9.loc[(df9['text'].str.contains(\"(?i)доставка\") == False)\n",
    "             &(df9['text'].str.contains(\"(?i)на дом\") == False)\n",
    "             &(df9['text'].str.contains(\"(?i)рецепты\") == False)\n",
    "             &(df9['text'].str.contains(\"(?i)изготовление\") == False)\n",
    "             &(df9['text'].str.contains(\"(?i)достопримечательности\") == False)\n",
    "             &(df9['text'].str.contains(\"(?i)пляжи\") == False)\n",
    "             &(df9['text'].str.contains(\"(?i)отдых\") == False)\n",
    "             &(df9['text'].str.contains(\"(?i)на дом\") == False)\n",
    "             &(df9['text'].str.contains(\"(?i)блог\") == False)\n",
    "             &(df9['text'].str.contains(\"(?i)форум\") == False)\n",
    "             &(df9['text'].str.contains(\"(?i)домой\") == False)\n",
    "             &(df9['text'].str.contains(\"(?i)туризм\") == False)\n",
    "             &(df9['text'].str.contains(\"(?i)туристическое\") == False)\n",
    "             &(df9['text'].str.contains(\"(?i)дизайн\") == False)\n",
    "             &(df9['text'].str.contains(\"(?i)ремонт\") == False)\n",
    "             &(df9['text'].str.contains(\"(?i)фото\") == False)\n",
    "             &(df9['text'].str.contains(\"(?i)вакансии\") == False)\n",
    "             &(df9['text'].str.contains(\"(?i)работа\") == False)\n",
    "             &(df9['text'].str.contains(\"(?i)красота\") == False)\n",
    "             &(df9['text'].str.contains(\"(?i)журнал\") == False)\n",
    "             &(df9['text'].str.contains(\"(?i)женский\") == False)\n",
    "             &(df9['text'].str.contains(\"(?i)новости\") == False)\n",
    "             &(df9['text'].str.contains(\"(?i)афиша\") == False)\n",
    "             &(df9['text'].str.contains(\"(?i)комната\") == False)\n",
    "             &(df9['text'].str.contains(\"(?i)комнаты\") == False)\n",
    "             &(df9['text'].str.contains(\"(?i)магазин\") == False)\n",
    "             &(df9['text'].str.contains(\"(?i)оборудование\") == False)\n",
    "             &(df9['text'].str.contains(\"(?i)интернет-магазин\") == False)\n",
    "             &(df9['text'].str.contains(\"(?i)интернет магазин\") == False)\n",
    "             &(df9['text'].str.contains(\"(?i)мебель\") == False)\n",
    "             &(df9['text'].str.contains(\"(?i)керамической\") == False)\n",
    "             &(df9['text'].str.contains(\"(?i)плитка\") == False)\n",
    "             &(df9['text'].str.contains(\"(?i)плитки\") == False)\n",
    "             &(df9['text'].str.contains(\"(?i)кафель\") == False)\n",
    "             &(df9['text'].str.contains(\"(?i)кафеля\") == False)\n",
    "             &(df9['text'].str.contains(\"(?i)под ключ\") == False)\n",
    "             &(df9['text'].str.contains(\"(?i)производство\") == False)\n",
    "             &(df9['text'].str.contains(\"(?i)установка\") == False)\n",
    "             &(df9['text'].str.contains(\"(?i)организация\") == False)\n",
    "             &(df9['text'].str.contains(\"(?i)проведение\") == False)\n",
    "              &(df9['text'].str.contains(\"(?i)на заказ\") == False)\n",
    "             &(df9['text'].str.contains(\"(?i)кинотеатр\") == False)\n",
    "              &(df9['text'].str.contains(\"(?i)организация\") == False)\n",
    "             &(df9['text'].str.contains(\"(?i)интерьер\") == False)\n",
    "              &(df9['text'].str.contains(\"(?i)интерьера\") == False)\n",
    "             &(df9['text'].str.contains(\"(?i)банкетный зал\") == False)\n",
    "             &(df9['text'].str.contains(\"(?i)с доставкой\") == False)\n",
    "             &(df9['text'].str.contains(\"(?i)строительство\") == False)\n",
    "             &(df9['text'].str.contains(\"(?i)отели\") == False)\n",
    "             &(df9['text'].str.contains(\"(?i)отель\") == False)\n",
    "             &(df9['text'].str.contains(\"(?i)медицина\") == False)\n",
    "             &(df9['text'].str.contains(\"(?i)банкетный зал\") == False)\n",
    "             &(df9['text'].str.contains(\"(?i)интерьера\") == False)\n",
    "             &(df9['text'].str.contains(\"(?i)официальный\") == False)\n",
    "             &(df9['text'].str.contains(\"(?i)представитель\") == False)\n",
    "             &(df9['text'].str.contains(\"(?i)кухонь\") == False)\n",
    "             &(df9['text'].str.contains(\"(?i)товары\") == False)\n",
    "             &(df9['text'].str.contains(\"(?i)для кухни\") == False)\n",
    "             &(df9['text'].str.contains(\"(?i)сервировка\") == False)\n",
    "             &(df9['text'].str.contains(\"(?i)аксессуары\") == False)\n",
    "             &(df9['text'].str.contains(\"(?i)для готовки\") == False)\n",
    "             &(df9['text'].str.contains(\"(?i)для кухни\") == False)\n",
    "             &(df9['text'].str.contains(\"(?i)универмаг\") == False)\n",
    "             &(df9['text'].str.contains(\"(?i)школа\") == False)\n",
    "             &(df9['text'].str.contains(\"(?i)праздники\") == False)\n",
    "             &(df9['text'].str.contains(\"(?i)подарки\") == False)\n",
    "             &(df9['text'].str.contains(\"(?i)банкеты\") == False)\n",
    "             &(df9['text'].str.contains(\"(?i)торжества\") == False)\n",
    "             &(df9['text'].str.contains(\"(?i)свадьбы\") == False)\n",
    "             &(df9['text'].str.contains(\"(?i)потолки\") == False)\n",
    "             \n",
    "             &(df9['text'].str.contains(\"(?i)проект\") == False)\n",
    "             &(df9['text'].str.contains(\"(?i)банки\") == False)\n",
    "             &(df9['text'].str.contains(\"(?i)кредиты\") == False)\n",
    "             &(df9['text'].str.contains(\"(?i)займы\") == False)\n",
    "               &(df9['text'].str.contains(\"(?i)диеты\") == False)\n",
    "             &(df9['text'].str.contains(\"(?i)диета\") == False)\n",
    "             &(df9['text'].str.contains(\"(?i)диет\") == False)\n",
    "             &(df9['text'].str.contains(\"(?i)рождение\") == False)\n",
    "              &(df9['text'].str.contains(\"(?i)планирование\") == False)\n",
    "             &(df9['text'].str.contains(\"(?i)под заказ\") == False)\n",
    "             &(df9['text'].str.contains(\"(?i)служба доставки\") == False)\n",
    "             &(df9['text'].str.contains(\"(?i)доставки\") == False)\n",
    "             \n",
    "              &(df9['text'].str.contains(\"(?i)бытовая\") == False)\n",
    "             &(df9['text'].str.contains(\"(?i)гостиница\") == False)\n",
    "             &(df9['text'].str.contains(\"(?i)двери\") == False)\n",
    "             &(df9['text'].str.contains(\"(?i)шкафы\") == False)\n",
    "             \n",
    "              &(df9['text'].str.contains(\"(?i)шкаф\") == False)\n",
    "             &(df9['text'].str.contains(\"(?i)натяжные\") == False)\n",
    "             &(df9['text'].str.contains(\"(?i)потолки\") == False)\n",
    "             &(df9['text'].str.contains(\"(?i)купить кухню\") == False)\n",
    "             \n",
    "              &(df9['text'].str.contains(\"(?i)от производителя\") == False)\n",
    "             &(df9['text'].str.contains(\"(?i)кухонный\") == False)\n",
    "             &(df9['text'].str.contains(\"(?i)фартук\") == False)\n",
    "             &(df9['text'].str.contains(\"(?i)фабрика\") == False)\n",
    "              &(df9['text'].str.contains(\"(?i)дерева\") == False)\n",
    "             &(df9['text'].str.contains(\"(?i)дерево\") == False)\n",
    "             &(df9['text'].str.contains(\"(?i)социальная\") == False)\n",
    "             \n",
    "             \n",
    "              &(df9['text'].str.contains(\"(?i)путеводитель\") == False)\n",
    "             &(df9['text'].str.contains(\"(?i)сериал\") == False)\n",
    "             &(df9['text'].str.contains(\"(?i)собор\") == False)\n",
    "             &(df9['text'].str.contains(\"(?i)кафедра\") == False)\n",
    "              &(df9['text'].str.contains(\"(?i)каталог\") == False)\n",
    "             &(df9['text'].str.contains(\"(?i)поставки\") == False)\n",
    "             &(df9['text'].str.contains(\"(?i)кафедральный\") == False)\n",
    "             \n",
    "             &(df9['text'].str.contains(\"(?i)ванной\") == False)\n",
    "             &(df9['text'].str.contains(\"(?i)сушилки\") == False)\n",
    "             &(df9['text'].str.contains(\"(?i)сушилка\") == False)\n",
    "             &(df9['text'].str.contains(\"(?i)рецептов\") == False)\n",
    "              &(df9['text'].str.contains(\"(?i)институт\") == False)\n",
    "             &(df9['text'].str.contains(\"(?i)рукоделие\") == False)\n",
    "             &(df9['text'].str.contains(\"(?i)зерносушилка\") == False)\n",
    "             \n",
    "              &(df9['text'].str.contains(\"(?i)купить\") == False)\n",
    "             &(df9['text'].str.contains(\"(?i)агентство\") == False)\n",
    "             &(df9['text'].str.contains(\"(?i)праздников\") == False)\n",
    "             &(df9['text'].str.contains(\"(?i)дистрибьютор\") == False)\n",
    "              &(df9['text'].str.contains(\"(?i)создание\") == False)\n",
    "             &(df9['text'].str.contains(\"(?i)создания\") == False)\n",
    "             &(df9['text'].str.contains(\"(?i)создавать\") == False)\n",
    "             \n",
    "              &(df9['text'].str.contains(\"(?i)салон\") == False)\n",
    "             &(df9['text'].str.contains(\"(?i)осушители\") == False)\n",
    "             &(df9['text'].str.contains(\"(?i)полотенцесушители\") == False)\n",
    "             &(df9['text'].str.contains(\"(?i)поставлять\") == False)\n",
    "              &(df9['text'].str.contains(\"(?i)создавать\") == False)\n",
    "             &(df9['text'].str.contains(\"(?i)посуда\") == False)\n",
    "             &(df9['text'].str.contains(\"(?i)женские\") == False)\n",
    "             &(df9['text'].str.contains(\"(?i)клуб\") == False)\n",
    "             &(df9['text'].str.contains(\"(?i)брак\") == False)\n",
    "             &(df9['text'].str.contains(\"(?i)семья\") == False)\n",
    "             &(df9['text'].str.contains(\"(?i)интимная\") == False)\n",
    "             \n",
    "              &(df9['text'].str.contains(\"(?i)отелей\") == False)\n",
    "             &(df9['text'].str.contains(\"(?i)гостиниц\") == False)\n",
    "              &(df9['text'].str.contains(\"(?i)автоматизация\") == False)\n",
    "             &(df9['text'].str.contains(\"(?i)фабрике\") == False)\n",
    "             &(df9['text'].str.contains(\"(?i)фабрики\") == False)\n",
    "             \n",
    "             &(df9['text'].str.contains(\"(?i)распродажа\") == False)\n",
    "             &(df9['text'].str.contains(\"(?i)продажа\") == False)\n",
    "             &(df9['text'].str.contains(\"(?i)производить\") == False)\n",
    "             &(df9['text'].str.contains(\"(?i)кухни из\") == False)\n",
    "             &(df9['text'].str.contains(\"(?i)купить кухню\") == False)\n",
    "              &(df9['text'].str.contains(\"(?i)кухни в\") == False)\n",
    "             &(df9['text'].str.contains(\"(?i)сборка\") == False)\n",
    "              &(df9['text'].str.contains(\"(?i)мебели\") == False)\n",
    "             \n",
    "             &(df9['text'].str.contains(\"(?i)кафедры\") == False)\n",
    "             &(df9['text'].str.contains(\"(?i)поставщик\") == False)\n",
    "              &(df9['text'].str.contains(\"(?i)продуктов\") == False)\n",
    "             &(df9['text'].str.contains(\"(?i)оборудования\") == False)\n",
    "             &(df9['text'].str.contains(\"(?i)оборудование\") == False)\n",
    "              &(df9['text'].str.contains(\"(?i)оборудовать\") == False)\n",
    "             \n",
    "             &(df9['text'].str.contains(\"(?i)кухни белоруссии\") == False)\n",
    "              &(df9['text'].str.contains(\"(?i)каферейсер\") == False)\n",
    "            &(df9['text'].str.contains(\"(?i)сушильные\") == False)\n",
    "             &(df9['text'].str.contains(\"(?i)оснащение\") == False)\n",
    "              &(df9['text'].str.contains(\"(?i)академия\") == False)\n",
    "             &(df9['text'].str.contains(\"(?i)ресторанный бизнес\") == False)\n",
    "              &(df9['text'].str.contains(\"(?i)ресторанного бизнеса\") == False)\n",
    "             &(df9['text'].str.contains(\"(?i)курсы\") == False)\n",
    "              &(df9['text'].str.contains(\"(?i)рестораторов\") == False)\n",
    "             &(df9['text'].str.contains(\"(?i)сушить\") == False)\n",
    "             \n",
    "             &(df9['text'].str.contains(\"(?i)гарнитуры\") == False)\n",
    "             &(df9['text'].str.contains(\"(?i)кухонные\") == False)\n",
    "              &(df9['text'].str.contains(\"(?i)кухонных\") == False)\n",
    "             &(df9['text'].str.contains(\"(?i)как приготовить\") == False)\n",
    "             &(df9['text'].str.contains(\"(?i)секрет\") == False)\n",
    "             &(df9['text'].str.contains(\"(?i)секреты\") == False)\n",
    "             &(df9['text'].str.contains(\"(?i)современные кухни\") == False)\n",
    "             &(df9['text'].str.contains(\"(?i)итальянские кухни\") == False)\n",
    "             &(df9['text'].str.contains(\"(?i)как готовить\") == False)\n",
    "             &(df9['text'].str.contains(\"(?i)техника\") == False)\n",
    "             &(df9['text'].str.contains(\"(?i)немецкие кухни\") == False)\n",
    "             &(df9['text'].str.contains(\"(?i)кухни от производителя\") == False)\n",
    "             &(df9['text'].str.contains(\"(?i)автоматизация\") == False)\n",
    "             &(df9['text'].str.contains(\"(?i)вязание\") == False)\n",
    "             &(df9['text'].str.contains(\"(?i)вышивка\") == False)\n",
    "             &(df9['text'].str.contains(\"(?i)рецепт\") == False)\n",
    "             &(df9['text'].str.contains(\"(?i)климат\") == False)\n",
    "             &(df9['text'].str.contains(\"(?i)курорты\") == False)\n",
    "             &(df9['text'].str.contains(\"(?i)Кулинария и не только\") == False)\n",
    "            &(df9['text'].str.contains(\"(?i)курорт\") == False)\n",
    "             &(df9['text'].str.contains(\"(?i)страны\") == False)\n",
    "             &(df9['text'].str.contains(\"(?i)стран\") == False)\n",
    "             &(df9['text'].str.contains(\"(?i)страна\") == False)\n",
    "             &(df9['text'].str.contains(\"(?i)завода\") == False)\n",
    "             &(df9['text'].str.contains(\"(?i)теплоходы\") == False)\n",
    "             \n",
    "            ]\n",
    "df99.shape"
   ]
  },
  {
   "cell_type": "code",
   "execution_count": 38,
   "metadata": {},
   "outputs": [],
   "source": [
    "df99d = df99.merge(dim, indicator='i', how='outer').query('i == \"left_only\"').drop('i', 1)\n",
    "len(df99d)\n",
    "df99du=df99d['url'].reset_index(drop=True)\n",
    "columns1 = ['taxon']\n",
    "columns2 = ['value']\n",
    "columns3 = ['source']\n",
    "dat1 = np.array(['restaurant_ind']*len(df99d)).T\n",
    "d1 = pd.DataFrame(dat1, columns=columns1)\n",
    "dat2 = np.array(['NULL']*len(df99d)).T\n",
    "d2 = pd.DataFrame(dat2, columns=columns2)\n",
    "dat3 = np.array(['site']*len(df99d)).T\n",
    "d3 = pd.DataFrame(dat3, columns=columns3)\n",
    "frames = [d1,df99du,d2,d3]\n",
    "newDF = pd.concat(frames, ignore_index=True, sort=False, axis=1) # ignoring index is optional\n",
    "newDF.to_csv('sites_test/Restaurant_ind_to_load.csv', index=False, header=False, encoding='utf-8', sep = \";\")"
   ]
  },
  {
   "cell_type": "code",
   "execution_count": 39,
   "metadata": {},
   "outputs": [],
   "source": [
    "df99d.to_csv('sites_test/Restaurant.csv', index=False)\n",
    "df99d['url'].to_csv('sites_test/Restaurant_url.csv', index=False)"
   ]
  },
  {
   "cell_type": "code",
   "execution_count": 40,
   "metadata": {},
   "outputs": [
    {
     "data": {
      "text/plain": [
       "1287"
      ]
     },
     "execution_count": 40,
     "metadata": {},
     "output_type": "execute_result"
    }
   ],
   "source": [
    "len(df99d)"
   ]
  },
  {
   "cell_type": "markdown",
   "metadata": {},
   "source": [
    "# Dacha_ind"
   ]
  },
  {
   "cell_type": "code",
   "execution_count": 41,
   "metadata": {},
   "outputs": [
    {
     "data": {
      "text/plain": [
       "(938, 3)"
      ]
     },
     "execution_count": 41,
     "metadata": {},
     "output_type": "execute_result"
    }
   ],
   "source": [
    "#Choosing clothes and shoes\n",
    "df12=df3.loc[df3['text'].str.lower().str.contains(\"%дачный\")|df3['text'].str.contains(\"(?i)%дачи\")\n",
    "           |df3['text'].str.contains(\"(?i)%дача\")|df3['text'].str.contains(\"%дачу\")\n",
    "           |df3['text'].str.contains(\"(?i)%дач\")|df3['text'].str.contains(\"(?i)%дачные\")\n",
    "            |df3['text'].str.contains(\"(?i)%дачных\")|df3['text'].str.contains(\"(?i)%дачная\")\n",
    "            |df3['text'].str.contains(\"(?i)%сад и огород\")|df3['text'].str.contains(\"(?i)%огород\")\n",
    "             |df3['text'].str.contains(\"(?i)семена\")|df3['text'].str.contains(\"(?i)саженцы\")\n",
    "             |df3['text'].str.contains(\"(?i)саженец\")|df3['text'].str.contains(\"(?i)грядка\")\n",
    "             |df3['text'].str.contains(\"(?i)грядок\")|df3['text'].str.contains(\"(?i)грядки\")\n",
    "             |df3['text'].str.contains(\"(?i)садовод\")|df3['text'].str.contains(\"(?i)рассад\")\n",
    "             |df3['text'].str.contains(\"(?i)теплиц\")|df3['text'].str.contains(\"(?i)парник\")\n",
    "             \n",
    "           ]\n",
    "df12.shape"
   ]
  },
  {
   "cell_type": "code",
   "execution_count": 42,
   "metadata": {},
   "outputs": [
    {
     "data": {
      "text/plain": [
       "(921, 3)"
      ]
     },
     "execution_count": 42,
     "metadata": {},
     "output_type": "execute_result"
    }
   ],
   "source": [
    "df22=df12.loc[(df12['text'].str.contains(\"(?i)фильмы\") == False)\n",
    "             &(df12['text'].str.contains(\"(?i)сериалы\") == False)\n",
    "             &(df12['text'].str.contains(\"(?i)передачи\") == False)\n",
    "             &(df12['text'].str.contains(\"(?i)передача\") == False)\n",
    "             &(df12['text'].str.contains(\"(?i)передачу\") == False)\n",
    "             &(df12['text'].str.contains(\"(?i)задач\") == False) \n",
    "              &(df12['text'].str.contains(\"(?i)дизайне\") == False)\n",
    "             &(df12['text'].str.contains(\"(?i)дизайн\") == False)\n",
    "              &(df12['text'].str.contains(\"(?i)интерьере\") == False)\n",
    "             &(df12['text'].str.contains(\"(?i)интерьер\") == False)  \n",
    "              &(df12['text'].str.contains(\"(?i)порно\") == False) \n",
    "             ]\n",
    "df22.shape"
   ]
  },
  {
   "cell_type": "code",
   "execution_count": 43,
   "metadata": {},
   "outputs": [
    {
     "data": {
      "text/plain": [
       "(921, 3)"
      ]
     },
     "execution_count": 43,
     "metadata": {},
     "output_type": "execute_result"
    }
   ],
   "source": [
    "df22.shape"
   ]
  },
  {
   "cell_type": "code",
   "execution_count": 44,
   "metadata": {},
   "outputs": [],
   "source": [
    "df22d = df22.merge(dim, indicator='i', how='outer').query('i == \"left_only\"').drop('i', 1)\n",
    "len(df22d)\n",
    "df22du=df22d['url'].reset_index(drop=True)\n",
    "columns1 = ['taxon']\n",
    "columns2 = ['value']\n",
    "columns3 = ['source']\n",
    "dat1 = np.array(['dacha_ind']*len(df22d)).T\n",
    "d1 = pd.DataFrame(dat1, columns=columns1)\n",
    "dat2 = np.array(['NULL']*len(df22d)).T\n",
    "d2 = pd.DataFrame(dat2, columns=columns2)\n",
    "dat3 = np.array(['site']*len(df22d)).T\n",
    "d3 = pd.DataFrame(dat3, columns=columns3)\n",
    "frames = [d1,df22du,d2,d3]\n",
    "newDF = pd.concat(frames, ignore_index=True, sort=False, axis=1) # ignoring index is optional\n",
    "newDF.to_csv('sites_test/Dacha_ind_to_load.csv', index=False, header=False, encoding='utf-8', sep = \";\")"
   ]
  },
  {
   "cell_type": "code",
   "execution_count": 45,
   "metadata": {},
   "outputs": [
    {
     "data": {
      "text/plain": [
       "912"
      ]
     },
     "execution_count": 45,
     "metadata": {},
     "output_type": "execute_result"
    }
   ],
   "source": [
    "len(df22d)"
   ]
  },
  {
   "cell_type": "code",
   "execution_count": 46,
   "metadata": {},
   "outputs": [],
   "source": [
    "df22d.to_csv('sites_test/Dacha.csv', index=False)\n",
    "df22d['url'].to_csv('sites_test/Dacha_url.csv', index=False)"
   ]
  },
  {
   "cell_type": "markdown",
   "metadata": {},
   "source": [
    "# Microcredit_ind - микрокредиты"
   ]
  },
  {
   "cell_type": "code",
   "execution_count": 47,
   "metadata": {},
   "outputs": [
    {
     "data": {
      "text/plain": [
       "(85, 3)"
      ]
     },
     "execution_count": 47,
     "metadata": {},
     "output_type": "execute_result"
    }
   ],
   "source": [
    "#Choosing clothes and shoes\n",
    "df123=df3.loc[df3['text'].str.lower().str.contains(\"(?i)микрокредит\")|df3['text'].str.contains(\"(?i)микрокредиты\")\n",
    "           |df3['text'].str.contains(\"(?i)микрокредитн\")|df3['text'].str.contains(\"(?i)%мфо%\")\n",
    "           |df3['text'].str.contains(\"(?i)займы на карты\")|df3['text'].str.contains(\"(?i)займы на киви\")\n",
    "            |df3['text'].str.contains(\"(?i)online займ\")\n",
    "            |df3['text'].str.contains(\"(?i)займы на кошелёк\")|df3['text'].str.contains(\"(?i)займы на яндекс\")\n",
    "             |df3['text'].str.contains(\"(?i)микрокредит\")|df3['text'].str.contains(\"(?i)займы переводом\")\n",
    "             |df3['text'].str.contains(\"(?i)микрозайм\")|df3['text'].str.contains(\"(?i)микрофинансов\")             \n",
    "           ]\n",
    "df123.shape"
   ]
  },
  {
   "cell_type": "code",
   "execution_count": 48,
   "metadata": {},
   "outputs": [],
   "source": [
    "df123d = df123.merge(dim, indicator='i', how='outer').query('i == \"left_only\"').drop('i', 1)\n",
    "len(df123d)\n",
    "df123du=df123d['url'].reset_index(drop=True)\n",
    "columns1 = ['taxon']\n",
    "columns2 = ['value']\n",
    "columns3 = ['source']\n",
    "dat1 = np.array(['microcredit_ind']*len(df123d)).T\n",
    "d1 = pd.DataFrame(dat1, columns=columns1)\n",
    "dat2 = np.array(['NULL']*len(df123d)).T\n",
    "d2 = pd.DataFrame(dat2, columns=columns2)\n",
    "dat3 = np.array(['site']*len(df123d)).T\n",
    "d3 = pd.DataFrame(dat3, columns=columns3)\n",
    "frames = [d1,df123du,d2,d3]\n",
    "newDF = pd.concat(frames, ignore_index=True, sort=False, axis=1) # ignoring index is optional\n",
    "newDF.to_csv('sites_test/Microcredit_ind_to_load.csv', index=False, header=False, encoding='utf-8', sep = \";\")"
   ]
  },
  {
   "cell_type": "code",
   "execution_count": 49,
   "metadata": {},
   "outputs": [
    {
     "data": {
      "text/plain": [
       "72"
      ]
     },
     "execution_count": 49,
     "metadata": {},
     "output_type": "execute_result"
    }
   ],
   "source": [
    "len(df123d)"
   ]
  },
  {
   "cell_type": "code",
   "execution_count": 50,
   "metadata": {},
   "outputs": [],
   "source": [
    "df123d.to_csv('sites_test/Microcredit.csv', index=False)\n",
    "df123d['url'].to_csv('sites_test/Microcredit_url.csv', index=False)"
   ]
  },
  {
   "cell_type": "markdown",
   "metadata": {},
   "source": [
    "# Hypotec_ind - ипотека"
   ]
  },
  {
   "cell_type": "code",
   "execution_count": 51,
   "metadata": {},
   "outputs": [
    {
     "data": {
      "text/plain": [
       "(130, 3)"
      ]
     },
     "execution_count": 51,
     "metadata": {},
     "output_type": "execute_result"
    }
   ],
   "source": [
    "#Choosing clothes and shoes\n",
    "df1444=df3.loc[df3['text'].str.lower().str.contains(\"(?i)ипотек\")|df3['text'].str.contains(\"(?i)купить квартиру в кредит\")\n",
    "           |df3['text'].str.contains(\"(?i)ипотечн\")|df3['text'].str.contains(\"(?i)ипотечный банк\")\n",
    "           |df3['text'].str.contains(\"(?i)ипотечные банки\")|df3['text'].str.contains(\"(?i)квартиры в кредит\")\n",
    "              |df3['text'].str.contains(\"(?i)квартиры в ипотеку\")\n",
    "           |df3['url'].str.contains(\"(?i)ipotek\")|df3['url'].str.contains(\"(?i)epotek\") \n",
    "            |df3['url'].str.contains(\"(?i)hypotek\")\n",
    "           ]\n",
    "df1444.shape"
   ]
  },
  {
   "cell_type": "code",
   "execution_count": 52,
   "metadata": {},
   "outputs": [
    {
     "data": {
      "text/plain": [
       "(106, 3)"
      ]
     },
     "execution_count": 52,
     "metadata": {},
     "output_type": "execute_result"
    }
   ],
   "source": [
    "df144=df1444.loc[(df1444['url'].str.contains(\"(?i)10bankov.net\") == False)\n",
    "             &(df1444['url'].str.contains(\"(?i)top-rf.ru\") == False)\n",
    "             &(df1444['url'].str.contains(\"(?i)frombanks.ru\") == False)\n",
    "             &(df1444['url'].str.contains(\"(?i)bankirsha.com\") == False)\n",
    "             &(df1444['url'].str.contains(\"(?i)bank-advisor.ru\") == False)\n",
    "             &(df1444['url'].str.contains(\"(?i)credits.ru\") == False) \n",
    "              &(df1444['url'].str.contains(\"(?i)findept.ru\") == False)\n",
    "             &(df1444['url'].str.contains(\"(?i)bankgid.com\") == False)\n",
    "              &(df1444['url'].str.contains(\"(?i)finrussia.ru\") == False)\n",
    "             &(df1444['url'].str.contains(\"(?i)creditzzz.ru\") == False)  \n",
    "              &(df1444['url'].str.contains(\"(?i)energobank.ru\") == False) \n",
    "                 &(df1444['url'].str.contains(\"(?i)creditsland.ru\") == False) \n",
    "                 &(df1444['url'].str.contains(\"(?i)banki39.ru\") == False) \n",
    "                 &(df1444['url'].str.contains(\"(?i)capitalbank.ru\") == False) \n",
    "                 &(df1444['url'].str.contains(\"(?i)banki31.ru\") == False) \n",
    "                 &(df1444['url'].str.contains(\"(?i)bank-klient.ru\") == False)\n",
    "                 &(df1444['url'].str.contains(\"(?i)creditwit.ru\") == False)\n",
    "                 &(df1444['url'].str.contains(\"(?i)topkredits.ru\") == False)\n",
    "                 &(df1444['url'].str.contains(\"(?i)mybankpro.ru\") == False)\n",
    "                 &(df1444['url'].str.contains(\"(?i)geocredit.net\") == False)\n",
    "                 &(df1444['url'].str.contains(\"(?i)apec2012.ru\") == False)        \n",
    "                 &(df1444['url'].str.contains(\"(?i)info-sberbank.ru\") == False)  \n",
    "                 &(df1444['url'].str.contains(\"(?i)zhenskaya-pravda.ru\") == False)  \n",
    "                 \n",
    "                ]\n",
    "df144.shape"
   ]
  },
  {
   "cell_type": "code",
   "execution_count": 53,
   "metadata": {},
   "outputs": [],
   "source": [
    "df144d = df144.merge(dim, indicator='i', how='outer').query('i == \"left_only\"').drop('i', 1)\n",
    "len(df144d)\n",
    "df144du=df144d['url'].reset_index(drop=True)\n",
    "columns1 = ['taxon']\n",
    "columns2 = ['value']\n",
    "columns3 = ['source']\n",
    "dat1 = np.array(['hypotec_ind']*len(df144d)).T\n",
    "d1 = pd.DataFrame(dat1, columns=columns1)\n",
    "dat2 = np.array(['NULL']*len(df144d)).T\n",
    "d2 = pd.DataFrame(dat2, columns=columns2)\n",
    "dat3 = np.array(['site']*len(df144d)).T\n",
    "d3 = pd.DataFrame(dat3, columns=columns3)\n",
    "frames = [d1,df144du,d2,d3]\n",
    "newDF = pd.concat(frames, ignore_index=True, sort=False, axis=1) # ignoring index is optional\n",
    "newDF.to_csv('sites_test/Hypotec_ind_to_load.csv', index=False, header=False, encoding='utf-8', sep = \";\")"
   ]
  },
  {
   "cell_type": "code",
   "execution_count": 54,
   "metadata": {},
   "outputs": [
    {
     "data": {
      "text/plain": [
       "106"
      ]
     },
     "execution_count": 54,
     "metadata": {},
     "output_type": "execute_result"
    }
   ],
   "source": [
    "len(df144d)"
   ]
  },
  {
   "cell_type": "code",
   "execution_count": 55,
   "metadata": {},
   "outputs": [],
   "source": [
    "df144d.to_csv('sites_test/Hypotec.csv', index=False)\n",
    "df144d['url'].to_csv('sites_test/Hypotec_url.csv', index=False)"
   ]
  },
  {
   "cell_type": "markdown",
   "metadata": {},
   "source": [
    "# Potreb_credit_1_ind - потребительские кредиты"
   ]
  },
  {
   "cell_type": "code",
   "execution_count": 56,
   "metadata": {},
   "outputs": [
    {
     "data": {
      "text/plain": [
       "(39, 3)"
      ]
     },
     "execution_count": 56,
     "metadata": {},
     "output_type": "execute_result"
    }
   ],
   "source": [
    "#Choosing clothes and shoes\n",
    "df1666=df3.loc[df3['text'].str.lower().str.contains(\"(?i)потребительские кредиты\")\n",
    "           |df3['text'].str.contains(\"(?i)потребительский кредит\")|df3['text'].str.contains(\"(?i)кредиты потребительские\")\n",
    "           |df3['text'].str.contains(\"(?i)кредит потребительский\")\n",
    "           ]\n",
    "df1666.shape"
   ]
  },
  {
   "cell_type": "code",
   "execution_count": 57,
   "metadata": {},
   "outputs": [
    {
     "data": {
      "text/plain": [
       "(37, 3)"
      ]
     },
     "execution_count": 57,
     "metadata": {},
     "output_type": "execute_result"
    }
   ],
   "source": [
    "df166=df1666.loc[(df1666['url'].str.contains(\"(?i)mosgorcredit.ru\") == False)\n",
    "             &(df1666['url'].str.contains(\"(?i)creditsland.ru\") == False) \n",
    "                ]\n",
    "df166.shape"
   ]
  },
  {
   "cell_type": "code",
   "execution_count": 58,
   "metadata": {},
   "outputs": [],
   "source": [
    "df166d = df166.merge(dim, indicator='i', how='outer').query('i == \"left_only\"').drop('i', 1)\n",
    "len(df166d)\n",
    "df166du=df166d['url'].reset_index(drop=True)\n",
    "columns1 = ['taxon']\n",
    "columns2 = ['value']\n",
    "columns3 = ['source']\n",
    "dat1 = np.array(['potreb_credit_1_ind']*len(df166d)).T\n",
    "d1 = pd.DataFrame(dat1, columns=columns1)\n",
    "dat2 = np.array(['NULL']*len(df166d)).T\n",
    "d2 = pd.DataFrame(dat2, columns=columns2)\n",
    "dat3 = np.array(['site']*len(df166d)).T\n",
    "d3 = pd.DataFrame(dat3, columns=columns3)\n",
    "frames = [d1,df166du,d2,d3]\n",
    "newDF = pd.concat(frames, ignore_index=True, sort=False, axis=1) # ignoring index is optional\n",
    "newDF.to_csv('sites_test/Potreb_credit_1_ind_to_load.csv', index=False, header=False, encoding='utf-8', sep = \";\")"
   ]
  },
  {
   "cell_type": "code",
   "execution_count": 59,
   "metadata": {},
   "outputs": [
    {
     "data": {
      "text/plain": [
       "37"
      ]
     },
     "execution_count": 59,
     "metadata": {},
     "output_type": "execute_result"
    }
   ],
   "source": [
    "len(df166d)"
   ]
  },
  {
   "cell_type": "code",
   "execution_count": 60,
   "metadata": {},
   "outputs": [],
   "source": [
    "df166d.to_csv('sites_test/Potreb_credit_1.csv', index=False)\n",
    "df166d['url'].to_csv('sites_test/Potreb_credit_1_url.csv', index=False)"
   ]
  },
  {
   "cell_type": "markdown",
   "metadata": {},
   "source": [
    "# Autoinsur_ind - автострахование"
   ]
  },
  {
   "cell_type": "code",
   "execution_count": 61,
   "metadata": {},
   "outputs": [
    {
     "data": {
      "text/plain": [
       "(100, 3)"
      ]
     },
     "execution_count": 61,
     "metadata": {},
     "output_type": "execute_result"
    }
   ],
   "source": [
    "#Choosing clothes and shoes\n",
    "df178=df3.loc[df3['text'].str.lower().str.contains(\"(?i)автострахование\")\n",
    "              |df3['text'].str.contains(\"(?i)страхование авто\")\n",
    "           |df3['text'].str.contains(\"(?i)страхование машины\")\n",
    "           |df3['text'].str.contains(\"(?i)застраховать машину\")\n",
    "              |df3['text'].str.contains(\"(?i)застраховать авто\")\n",
    "              |df3['text'].str.contains(\"(?i)страховку каско\")\n",
    "              |df3['text'].str.contains(\"(?i)страховку осаго\")\n",
    "              |df3['text'].str.contains(\"(?i)автострахования\")\n",
    "              |df3['text'].str.contains(\"(?i)полис осаго\")\n",
    "              |df3['text'].str.contains(\"(?i)полис каско\")\n",
    "              |df3['text'].str.contains(\"(?i)страховка авто\")\n",
    "              |df3['text'].str.contains(\"(?i)страховка на авто\")\n",
    "              |df3['text'].str.contains(\"(?i)страховку на авто\")\n",
    "              |df3['text'].str.contains(\"(?i)осаго\")\n",
    "              |df3['text'].str.contains(\"(?i)каско\")       \n",
    "           ]\n",
    "df178.shape"
   ]
  },
  {
   "cell_type": "code",
   "execution_count": 62,
   "metadata": {},
   "outputs": [
    {
     "data": {
      "text/plain": [
       "(97, 3)"
      ]
     },
     "execution_count": 62,
     "metadata": {},
     "output_type": "execute_result"
    }
   ],
   "source": [
    "df179=df178.loc[(df178['url'].str.contains(\"(?i)voprosov-net.ru\") == False)\n",
    "             &(df178['url'].str.contains(\"(?i)finrussia.ru\") == False)\n",
    "                &(df178['url'].str.contains(\"(?i)avtoedet.ru\") == False)\n",
    "             ]\n",
    "df179.shape"
   ]
  },
  {
   "cell_type": "code",
   "execution_count": 63,
   "metadata": {},
   "outputs": [],
   "source": [
    "df179d = df179.merge(dim, indicator='i', how='outer').query('i == \"left_only\"').drop('i', 1)\n",
    "len(df179d)\n",
    "df179du=df179d['url'].reset_index(drop=True)\n",
    "columns1 = ['taxon']\n",
    "columns2 = ['value']\n",
    "columns3 = ['source']\n",
    "dat1 = np.array(['autoinsur_ind']*len(df179d)).T\n",
    "d1 = pd.DataFrame(dat1, columns=columns1)\n",
    "dat2 = np.array(['NULL']*len(df179d)).T\n",
    "d2 = pd.DataFrame(dat2, columns=columns2)\n",
    "dat3 = np.array(['site']*len(df179d)).T\n",
    "d3 = pd.DataFrame(dat3, columns=columns3)\n",
    "frames = [d1,df179du,d2,d3]\n",
    "newDF = pd.concat(frames, ignore_index=True, sort=False, axis=1) # ignoring index is optional\n",
    "newDF.to_csv('sites/autoinsur_ind_to_load.csv', index=False, header=False, encoding='utf-8', sep = \";\")"
   ]
  },
  {
   "cell_type": "code",
   "execution_count": 64,
   "metadata": {},
   "outputs": [],
   "source": [
    "df179d.to_csv('sites_test/autoinsur.csv', index=False)\n",
    "df179d['url'].to_csv('sites_test/autoinsur_url.csv', index=False)"
   ]
  },
  {
   "cell_type": "markdown",
   "metadata": {},
   "source": [
    "# Job_search_ind - Интерес к поиску работы"
   ]
  },
  {
   "cell_type": "code",
   "execution_count": 65,
   "metadata": {},
   "outputs": [
    {
     "data": {
      "text/plain": [
       "(988, 3)"
      ]
     },
     "execution_count": 65,
     "metadata": {},
     "output_type": "execute_result"
    }
   ],
   "source": [
    "#Choosing clothes and shoes\n",
    "df169=df3.loc[df3['text'].str.lower().str.contains(\"(?i)работа вахтой\")\n",
    "              |df3['text'].str.contains(\"(?i)рысокооплачиваемая работа\")\n",
    "           |df3['text'].str.contains(\"(?i)вакансии\")\n",
    "              |df3['text'].str.contains(\"(?i)вакансий\")\n",
    "           |df3['text'].str.contains(\"(?i)работа и подработка\")\n",
    "              |df3['text'].str.contains(\"(?i)работа от\")\n",
    "              |df3['text'].str.contains(\"(?i)работа в\")\n",
    "              |df3['text'].str.contains(\"(?i)работа на\")\n",
    "              |df3['text'].str.contains(\"(?i)поиск работы\")\n",
    "              |df3['text'].str.contains(\"(?i)составление резюме\")\n",
    "              |df3['text'].str.contains(\"(?i)подработка\")\n",
    "              |df3['text'].str.contains(\"(?i)резюме\")\n",
    "              |df3['text'].str.contains(\"(?i)заработок\")\n",
    "              |df3['text'].str.contains(\"(?i)работадатель\")\n",
    "              |df3['text'].str.contains(\"(?i)база резюме\")\n",
    "              |df3['text'].str.contains(\"(?i)база вакансий\")\n",
    "              |df3['text'].str.contains(\"(?i)поиску работы\")\n",
    "              |df3['text'].str.contains(\"(?i)составлении резюме\")   \n",
    "              |df3['text'].str.contains(\"(?i)работу\")\n",
    "              |df3['text'].str.contains(\"(?i)заработку\")\n",
    "              #|df3['text'].str.contains(\"(?i)работы\")\n",
    "              |df3['text'].str.contains(\"(?i)трудоустройство\")\n",
    "              |df3['text'].str.contains(\"(?i)поиск персонала\")\n",
    "              \n",
    "           ]\n",
    "df169.shape"
   ]
  },
  {
   "cell_type": "code",
   "execution_count": 66,
   "metadata": {},
   "outputs": [
    {
     "data": {
      "text/plain": [
       "(891, 3)"
      ]
     },
     "execution_count": 66,
     "metadata": {},
     "output_type": "execute_result"
    }
   ],
   "source": [
    "df16=df169.loc[(df169['text'].str.contains(\"(?i)создание\") == False)\n",
    "             &(df169['text'].str.contains(\"(?i)продвижение\") == False)\n",
    "               &(df169['text'].str.contains(\"(?i)курсовые\") == False)\n",
    "               &(df169['text'].str.contains(\"(?i)студенческие\") == False)\n",
    "               &(df169['text'].str.contains(\"(?i)дипломные\") == False)\n",
    "               &(df169['text'].str.contains(\"(?i)таблицами\") == False)\n",
    "               &(df169['text'].str.contains(\"(?i)формулами\") == False)\n",
    "               &(df169['text'].str.contains(\"(?i)таблицы\") == False)\n",
    "               &(df169['text'].str.contains(\"(?i)схемы\") == False)\n",
    "               &(df169['text'].str.contains(\"(?i)дизайн\") == False)\n",
    "               &(df169['text'].str.contains(\"(?i)декор\") == False)\n",
    "                &(df169['text'].str.contains(\"(?i)учебные\") == False)\n",
    "               &(df169['text'].str.contains(\"(?i)материалы\") == False)\n",
    "               &(df169['text'].str.contains(\"(?i)контрольные\") == False)\n",
    "               &(df169['text'].str.contains(\"(?i)автосалон\") == False)\n",
    "               &(df169['text'].str.contains(\"(?i)заказать\") == False)\n",
    "               &(df169['text'].str.contains(\"(?i)дипломную\") == False)\n",
    "               &(df169['text'].str.contains(\"(?i)курсовую\") == False)\n",
    "               &(df169['text'].str.contains(\"(?i)бакалаворьскую\") == False)\n",
    "               &(df169['text'].str.contains(\"(?i)магистерскую\") == False)\n",
    "             \n",
    "               \n",
    "             ]\n",
    "df16.shape"
   ]
  },
  {
   "cell_type": "code",
   "execution_count": 67,
   "metadata": {},
   "outputs": [],
   "source": [
    "df16d = df16.merge(dim, indicator='i', how='outer').query('i == \"left_only\"').drop('i', 1)\n",
    "len(df16d)\n",
    "df16du=df16d['url'].reset_index(drop=True)\n",
    "columns1 = ['taxon']\n",
    "columns2 = ['value']\n",
    "columns3 = ['source']\n",
    "dat1 = np.array(['job_search_ind']*len(df16d)).T\n",
    "d1 = pd.DataFrame(dat1, columns=columns1)\n",
    "dat2 = np.array(['NULL']*len(df16d)).T\n",
    "d2 = pd.DataFrame(dat2, columns=columns2)\n",
    "dat3 = np.array(['site']*len(df16d)).T\n",
    "d3 = pd.DataFrame(dat3, columns=columns3)\n",
    "frames = [d1,df16du,d2,d3]\n",
    "newDF = pd.concat(frames, ignore_index=True, sort=False, axis=1) # ignoring index is optional\n",
    "newDF.to_csv('sites_test/job_search_ind_to_load.csv', index=False, header=False, encoding='utf-8', sep = \";\")"
   ]
  },
  {
   "cell_type": "code",
   "execution_count": 68,
   "metadata": {},
   "outputs": [
    {
     "data": {
      "text/plain": [
       "891"
      ]
     },
     "execution_count": 68,
     "metadata": {},
     "output_type": "execute_result"
    }
   ],
   "source": [
    "len(df16d)"
   ]
  },
  {
   "cell_type": "code",
   "execution_count": 69,
   "metadata": {},
   "outputs": [],
   "source": [
    "df16d.to_csv('sites_test/job_search.csv', index=False)\n",
    "df16d['url'].to_csv('sites_test/job_search_url.csv', index=False)"
   ]
  },
  {
   "cell_type": "markdown",
   "metadata": {},
   "source": [
    "# Taxi_driver_1_ind - Водитель такси"
   ]
  },
  {
   "cell_type": "code",
   "execution_count": 70,
   "metadata": {},
   "outputs": [
    {
     "data": {
      "text/plain": [
       "(595, 3)"
      ]
     },
     "execution_count": 70,
     "metadata": {},
     "output_type": "execute_result"
    }
   ],
   "source": [
    "#Choosing clothes and shoes\n",
    "df149=df3.loc[df3['text'].str.lower().str.contains(\"(?i)такси\")\n",
    "              |df3['text'].str.lower().str.contains(\"(?i)работа в такси\")\n",
    "           ]\n",
    "df149.shape"
   ]
  },
  {
   "cell_type": "code",
   "execution_count": 71,
   "metadata": {},
   "outputs": [
    {
     "data": {
      "text/plain": [
       "(25, 3)"
      ]
     },
     "execution_count": 71,
     "metadata": {},
     "output_type": "execute_result"
    }
   ],
   "source": [
    "#Choosing clothes and shoes\n",
    "df159=df149.loc[df149['text'].str.lower().str.contains(\"(?i)подключение\")\n",
    "                |df3['text'].str.lower().str.contains(\"(?i)работа водителем\")\n",
    "                |df3['text'].str.lower().str.contains(\"(?i)работа для водителей\")\n",
    "           ]\n",
    "df159.shape"
   ]
  },
  {
   "cell_type": "code",
   "execution_count": 72,
   "metadata": {},
   "outputs": [],
   "source": [
    "df159d = df159.merge(dim, indicator='i', how='outer').query('i == \"left_only\"').drop('i', 1)\n",
    "len(df159d)\n",
    "df159du=df159d['url'].reset_index(drop=True)\n",
    "columns1 = ['taxon']\n",
    "columns2 = ['value']\n",
    "columns3 = ['source']\n",
    "dat1 = np.array(['taxi_driver_1_ind']*len(df159d)).T\n",
    "d1 = pd.DataFrame(dat1, columns=columns1)\n",
    "dat2 = np.array(['NULL']*len(df159d)).T\n",
    "d2 = pd.DataFrame(dat2, columns=columns2)\n",
    "dat3 = np.array(['site']*len(df159d)).T\n",
    "d3 = pd.DataFrame(dat3, columns=columns3)\n",
    "frames = [d1,df159du,d2,d3]\n",
    "newDF = pd.concat(frames, ignore_index=True, sort=False, axis=1) # ignoring index is optional\n",
    "newDF.to_csv('sites_test/taxi_driver_1_ind_to_load.csv', index=False, header=False, encoding='utf-8', sep = \";\")"
   ]
  },
  {
   "cell_type": "code",
   "execution_count": 73,
   "metadata": {},
   "outputs": [],
   "source": [
    "df159d.to_csv('sites_test/taxi_driver_1.csv', index=False)\n",
    "df159d['url'].to_csv('sites_test/taxi_driver_1_url.csv', index=False)"
   ]
  },
  {
   "cell_type": "markdown",
   "metadata": {},
   "source": [
    "# Have_cat_ind - владельцы кошек"
   ]
  },
  {
   "cell_type": "code",
   "execution_count": 74,
   "metadata": {},
   "outputs": [
    {
     "data": {
      "text/plain": [
       "(824, 3)"
      ]
     },
     "execution_count": 74,
     "metadata": {},
     "output_type": "execute_result"
    }
   ],
   "source": [
    "#Choosing clothes and shoes\n",
    "df2555=df3.loc[df3['text'].str.lower().str.contains(\"(?i)кошек\")|df3['text'].str.contains(\"(?i)кошки\")\n",
    "           |df3['text'].str.contains(\"(?i)кошки\")|df3['text'].str.contains(\"(?i)кошку\")\n",
    "           |df3['text'].str.contains(\"(?i)кота\")|df3['text'].str.contains(\"(?i)котов\")\n",
    "           |df3['text'].str.contains(\"(?i)котиков\")|df3['text'].str.contains(\"(?i)кошка\")\n",
    "              |df3['text'].str.contains(\"(?i)%кот%\")|df3['text'].str.contains(\"(?i)котята\")\n",
    "               |df3['text'].str.contains(\"(?i)котят\")|df3['text'].str.contains(\"(?i)котёнок\")\n",
    "           ]\n",
    "df2555.shape"
   ]
  },
  {
   "cell_type": "code",
   "execution_count": 75,
   "metadata": {},
   "outputs": [
    {
     "data": {
      "text/plain": [
       "(333, 3)"
      ]
     },
     "execution_count": 75,
     "metadata": {},
     "output_type": "execute_result"
    }
   ],
   "source": [
    "df255=df2555.loc[(df2555['text'].str.contains(\"(?i)трикотаж\") == False)\n",
    "             &(df2555['text'].str.contains(\"(?i)который\") == False)\n",
    "               &(df2555['text'].str.contains(\"(?i)которая\") == False)\n",
    "               &(df2555['text'].str.contains(\"(?i)которое\") == False)\n",
    "               &(df2555['text'].str.contains(\"(?i)которую\") == False)  \n",
    "                 &(df2555['text'].str.contains(\"(?i)наркотиков\") == False)\n",
    "                 &(df2555['text'].str.contains(\"(?i)наркотик\") == False)\n",
    "                 &(df2555['text'].str.contains(\"(?i)наркотики\") == False)\n",
    "                 &(df2555['text'].str.contains(\"(?i)наркотика\") == False)\n",
    "                 &(df2555['text'].str.contains(\"(?i)икота\") == False)\n",
    "                 &(df2555['text'].str.contains(\"(?i)скота\") == False)\n",
    "                 &(df2555['text'].str.contains(\"(?i)икоту\") == False)\n",
    "                 &(df2555['text'].str.contains(\"(?i)экотовары\") == False)\n",
    "                 &(df2555['text'].str.contains(\"(?i)экотовар\") == False)\n",
    "                 &(df2555['text'].str.contains(\"(?i)экотоваров\") == False)\n",
    "                 &(df2555['text'].str.contains(\"(?i)скотоводство\") == False)\n",
    "                 &(df2555['text'].str.contains(\"(?i)скотоводства\") == False)\n",
    "                 &(df2555['text'].str.contains(\"(?i)терракота\") == False)\n",
    "                 &(df2555['text'].str.contains(\"(?i)терракот\") == False)\n",
    "                 &(df2555['text'].str.contains(\"(?i)лукошко\") == False)\n",
    "                 &(df2555['text'].str.contains(\"(?i)лукошка\") == False)\n",
    "                 &(df2555['text'].str.contains(\"(?i)окошко\") == False)\n",
    "                 &(df2555['text'].str.contains(\"(?i)окошка\") == False)\n",
    "                 \n",
    "                 &(df2555['text'].str.contains(\"(?i)собак\") == False)\n",
    "                 &(df2555['text'].str.contains(\"(?i)собачек\") == False)\n",
    "                 &(df2555['text'].str.contains(\"(?i)собаки\") == False)\n",
    "                 &(df2555['text'].str.contains(\"(?i)собаках\") == False)\n",
    "                 &(df2555['text'].str.contains(\"(?i)щенков\") == False)\n",
    "                 &(df2555['text'].str.contains(\"(?i)щенки\") == False)\n",
    "                 &(df2555['text'].str.contains(\"(?i)щенок\") == False)\n",
    "              ]\n",
    "df255.shape"
   ]
  },
  {
   "cell_type": "code",
   "execution_count": 76,
   "metadata": {},
   "outputs": [],
   "source": [
    "df255d = df255.merge(dim, indicator='i', how='outer').query('i == \"left_only\"').drop('i', 1)\n",
    "len(df255d)\n",
    "df255du=df255d['url'].reset_index(drop=True)\n",
    "columns1 = ['taxon']\n",
    "columns2 = ['value']\n",
    "columns3 = ['source']\n",
    "dat1 = np.array(['have_cat_ind']*len(df255d)).T\n",
    "d1 = pd.DataFrame(dat1, columns=columns1)\n",
    "dat2 = np.array(['NULL']*len(df255d)).T\n",
    "d2 = pd.DataFrame(dat2, columns=columns2)\n",
    "dat3 = np.array(['site']*len(df255d)).T\n",
    "d3 = pd.DataFrame(dat3, columns=columns3)\n",
    "frames = [d1,df255du,d2,d3]\n",
    "newDF = pd.concat(frames, ignore_index=True, sort=False, axis=1) # ignoring index is optional\n",
    "newDF.to_csv('sites_test/have_cat_ind_to_load.csv', index=False, header=False, encoding='utf-8', sep = \";\")"
   ]
  },
  {
   "cell_type": "code",
   "execution_count": 77,
   "metadata": {},
   "outputs": [
    {
     "data": {
      "text/plain": [
       "333"
      ]
     },
     "execution_count": 77,
     "metadata": {},
     "output_type": "execute_result"
    }
   ],
   "source": [
    "len(df255d)"
   ]
  },
  {
   "cell_type": "code",
   "execution_count": 78,
   "metadata": {},
   "outputs": [],
   "source": [
    "df255d.to_csv('sites_test/Have_cat.csv', index=False)\n",
    "df255d['url'].to_csv('sites_test/Have_cat_url.csv', index=False)"
   ]
  },
  {
   "cell_type": "markdown",
   "metadata": {},
   "source": [
    "# Have_dog_ind - владельцы собак"
   ]
  },
  {
   "cell_type": "code",
   "execution_count": 79,
   "metadata": {},
   "outputs": [
    {
     "data": {
      "text/plain": [
       "(594, 3)"
      ]
     },
     "execution_count": 79,
     "metadata": {},
     "output_type": "execute_result"
    }
   ],
   "source": [
    "#Choosing clothes and shoes\n",
    "df2666=df3.loc[df3['text'].str.lower().str.contains(\"(?i)собак\")|df3['text'].str.contains(\"(?i)собачек\")\n",
    "           |df3['text'].str.contains(\"(?i)собаки\")|df3['text'].str.contains(\"(?i)собаках\")\n",
    "               |df3['text'].str.contains(\"(?i)собаку\")|df3['text'].str.contains(\"(?i)собаке\")\n",
    "               |df3['text'].str.contains(\"(?i)щенок\")|df3['text'].str.contains(\"(?i)щеночек\")             \n",
    "               |df3['text'].str.contains(\"(?i)щенки\")|df3['text'].str.contains(\"(?i)собачки\")\n",
    "               |df3['text'].str.contains(\"(?i)щенках\")|df3['text'].str.contains(\"(?i)щенков\")\n",
    "           \n",
    "           ]\n",
    "df2666.shape"
   ]
  },
  {
   "cell_type": "code",
   "execution_count": 80,
   "metadata": {},
   "outputs": [
    {
     "data": {
      "text/plain": [
       "(418, 3)"
      ]
     },
     "execution_count": 80,
     "metadata": {},
     "output_type": "execute_result"
    }
   ],
   "source": [
    "df266=df2666.loc[(df2666['text'].str.contains(\"(?i)кошек\") == False)\n",
    "             &(df2666['text'].str.contains(\"(?i)кошки\") == False)\n",
    "               &(df2666['text'].str.contains(\"(?i)кошку\") == False)\n",
    "               &(df2666['text'].str.contains(\"(?i)кота\") == False)\n",
    "               &(df2666['text'].str.contains(\"(?i)котов\") == False)  \n",
    "                 &(df2666['text'].str.contains(\"(?i)котята\") == False)\n",
    "                 &(df2666['text'].str.contains(\"(?i)котят\") == False)\n",
    "                 &(df2666['text'].str.contains(\"(?i)котёнок\") == False)\n",
    "                 &(df2666['text'].str.contains(\"(?i)кот\") == False)\n",
    "                 &(df2666['text'].str.contains(\"(?i)кошка\") == False)                              \n",
    "                ]\n",
    "df266.shape"
   ]
  },
  {
   "cell_type": "code",
   "execution_count": 81,
   "metadata": {},
   "outputs": [],
   "source": [
    "df266d = df266.merge(dim, indicator='i', how='outer').query('i == \"left_only\"').drop('i', 1)\n",
    "len(df266d)\n",
    "df266du=df266d['url'].reset_index(drop=True)\n",
    "columns1 = ['taxon']\n",
    "columns2 = ['value']\n",
    "columns3 = ['source']\n",
    "dat1 = np.array(['have_dog_ind']*len(df266d)).T\n",
    "d1 = pd.DataFrame(dat1, columns=columns1)\n",
    "dat2 = np.array(['NULL']*len(df266d)).T\n",
    "d2 = pd.DataFrame(dat2, columns=columns2)\n",
    "dat3 = np.array(['site']*len(df266d)).T\n",
    "d3 = pd.DataFrame(dat3, columns=columns3)\n",
    "frames = [d1,df266du,d2,d3]\n",
    "newDF = pd.concat(frames, ignore_index=True, sort=False, axis=1) # ignoring index is optional\n",
    "newDF.to_csv('sites_test/have_dog_ind_to_load.csv', index=False, header=False, encoding='utf-8', sep = \";\")"
   ]
  },
  {
   "cell_type": "code",
   "execution_count": 82,
   "metadata": {},
   "outputs": [
    {
     "data": {
      "text/plain": [
       "418"
      ]
     },
     "execution_count": 82,
     "metadata": {},
     "output_type": "execute_result"
    }
   ],
   "source": [
    "len(df266d)"
   ]
  },
  {
   "cell_type": "code",
   "execution_count": 83,
   "metadata": {},
   "outputs": [],
   "source": [
    "df266d.to_csv('sites_test/Have_dog.csv', index=False)\n",
    "df266d['url'].to_csv('sites_test/Have_dog_url.csv', index=False)"
   ]
  },
  {
   "cell_type": "markdown",
   "metadata": {},
   "source": [
    "# Investicii_ind - интересующиеся инвестициями"
   ]
  },
  {
   "cell_type": "code",
   "execution_count": 84,
   "metadata": {},
   "outputs": [
    {
     "data": {
      "text/plain": [
       "(529, 3)"
      ]
     },
     "execution_count": 84,
     "metadata": {},
     "output_type": "execute_result"
    }
   ],
   "source": [
    "#Choosing clothes and shoes\n",
    "df2777=df3.loc[df3['text'].str.lower().str.contains(\"(?i)биржи\")|df3['text'].str.contains(\"(?i)биржа\")\n",
    "           |df3['text'].str.contains(\"(?i)биржевые брокеры\")|df3['text'].str.contains(\"(?i)инвест компании\")\n",
    "               |df3['text'].str.contains(\"(?i)биржевой брокер\")|df3['text'].str.contains(\"(?i)платформа для инвестиций\")\n",
    "               |df3['text'].str.contains(\"(?i)платформа для инвестиций\")|df3['text'].str.contains(\"(?i)P2P кредитование\")             \n",
    "               |df3['text'].str.contains(\"(?i)инвестиционные фонды\")|df3['text'].str.contains(\"(?i)инвестиции в микрофинансовые организации\")\n",
    "               |df3['text'].str.contains(\"(?i)рейтинги инвестиционных\")|df3['text'].str.contains(\"(?i)инвесторов/акционеров\")\n",
    "               |df3['text'].str.contains(\"(?i)инвесторов\")|df3['text'].str.contains(\"(?i)акционеров\")\n",
    "               |df3['text'].str.contains(\"(?i)инвесторы\")|df3['text'].str.contains(\"(?i)акционеры\")\n",
    "               |df3['text'].str.contains(\"(?i)P2P кредитование\")|df3['text'].str.contains(\"(?i)тогри банкротств\")\n",
    "               |df3['text'].str.contains(\"(?i)форекс\")|df3['text'].str.contains(\"(?i)бирже\")\n",
    "               |df3['text'].str.contains(\"(?i)криптовалюта\")|df3['text'].str.contains(\"(?i)трейдинг\")\n",
    "               |df3['text'].str.contains(\"(?i)инвестиции\")|df3['text'].str.contains(\"(?i)криптовалюта\")\n",
    "               |df3['text'].str.contains(\"(?i)акции и облигации\")|df3['text'].str.contains(\"(?i)ценные бумаги\")\n",
    "               |df3['text'].str.contains(\"(?i)инвестирование\")|df3['text'].str.contains(\"(?i)брокеров\")\n",
    "               |df3['text'].str.contains(\"(?i)опционны\")|df3['text'].str.contains(\"(?i)фьючерсы\")\n",
    "               |df3['text'].str.contains(\"(?i)валютный\")|df3['text'].str.contains(\"(?i)оффшор\")\n",
    "               |df3['text'].str.contains(\"(?i)оффшоры\")|df3['text'].str.contains(\"(?i)офшоры\")\n",
    "               |df3['text'].str.contains(\"(?i)инвестора\")|df3['text'].str.contains(\"(?i)инвестор\")\n",
    "               |df3['text'].str.contains(\"(?i)финансовых рынках\")|df3['text'].str.contains(\"(?i)финансовые рынки\")\n",
    "               |df3['text'].str.contains(\"(?i)финансовый рынок\")\n",
    "               |df3['text'].str.contains(\"(?i)купить готовый бизнес\")\n",
    "               |df3['text'].str.contains(\"(?i)купить бизнес\")|df3['text'].str.contains(\"(?i)купить компанию\")\n",
    "               |df3['text'].str.contains(\"(?i)покупка бизнеса\")\n",
    "               |df3['text'].str.contains(\"(?i)продажа бизнеса\")|df3['text'].str.contains(\"(?i)продажа фирм\")\n",
    "               |df3['text'].str.contains(\"(?i)продажа компании\")|df3['text'].str.contains(\"(?i)продажа компаний\")\n",
    "               \n",
    "               \n",
    "           ]\n",
    "df2777.shape"
   ]
  },
  {
   "cell_type": "code",
   "execution_count": 85,
   "metadata": {},
   "outputs": [
    {
     "data": {
      "text/plain": [
       "(414, 3)"
      ]
     },
     "execution_count": 85,
     "metadata": {},
     "output_type": "execute_result"
    }
   ],
   "source": [
    "df277=df2777.loc[(df2777['text'].str.contains(\"(?i)театральная\") == False)\n",
    "             &(df2777['text'].str.contains(\"(?i)биржа недвижимости\") == False)\n",
    "               &(df2777['text'].str.contains(\"(?i)недвижимости\") == False)\n",
    "               &(df2777['text'].str.contains(\"(?i)заработок в интернете\") == False)\n",
    "               &(df2777['text'].str.contains(\"(?i)биржа переводов\") == False)  \n",
    "                 &(df2777['text'].str.contains(\"(?i)производства\") == False)\n",
    "                 &(df2777['text'].str.contains(\"(?i)производство\") == False)\n",
    "                 &(df2777['text'].str.contains(\"(?i)промокоды\") == False)\n",
    "                 &(df2777['text'].str.contains(\"(?i)скидки\") == False)\n",
    "                 &(df2777['text'].str.contains(\"(?i)интернет-магазинов\") == False)  \n",
    "                 &(df2777['text'].str.contains(\"(?i)интернет-магазинон\") == False) \n",
    "                 &(df2777['text'].str.contains(\"(?i)бонусы\") == False) \n",
    "                 &(df2777['text'].str.contains(\"(?i)бонус\") == False) \n",
    "                 &(df2777['text'].str.contains(\"(?i)дисконтных карт\") == False)\n",
    "                 &(df2777['text'].str.contains(\"(?i)дисконтные карты\") == False)\n",
    "                 &(df2777['text'].str.contains(\"(?i)промо-акции\") == False)\n",
    "                 &(df2777['text'].str.contains(\"(?i)призы\") == False)\n",
    "                 &(df2777['text'].str.contains(\"(?i)лотереи\") == False)\n",
    "                 &(df2777['text'].str.contains(\"(?i)конкурсы\") == False)\n",
    "                 &(df2777['text'].str.contains(\"(?i)купоны\") == False)\n",
    "                 &(df2777['text'].str.contains(\"(?i)Биржа эвакуаторов\") == False)\n",
    "                 &(df2777['text'].str.contains(\"(?i)эвакуацию автомобилей\") == False)\n",
    "                 &(df2777['text'].str.contains(\"(?i)эвакуация автомобилей\") == False)\n",
    "                 &(df2777['text'].str.contains(\"(?i)эвакуация авто\") == False)\n",
    "                 &(df2777['text'].str.contains(\"(?i)промокоды\") == False)\n",
    "                 &(df2777['text'].str.contains(\"(?i)эвакуация авто\") == False)\n",
    "                 &(df2777['text'].str.contains(\"(?i)скидки на\") == False)\n",
    "                 &(df2777['text'].str.contains(\"(?i)дешевые авиабилеты\") == False)\n",
    "                 &(df2777['text'].str.contains(\"(?i)строительной биржи\") == False)\n",
    "                 &(df2777['text'].str.contains(\"(?i)строительная биржа\") == False)\n",
    "                 &(df2777['text'].str.contains(\"(?i)биржа трафика\") == False)\n",
    "                 &(df2777['text'].str.contains(\"(?i)трафик\") == False)\n",
    "                 &(df2777['text'].str.contains(\"(?i)биржа готовых работ\") == False)\n",
    "                 &(df2777['text'].str.contains(\"(?i)алюминиевый\") == False)\n",
    "                 &(df2777['text'].str.contains(\"(?i)хостинг\") == False)\n",
    "                 &(df2777['text'].str.contains(\"(?i)фитнес\") == False)\n",
    "                 &(df2777['text'].str.contains(\"(?i)хостингах\") == False)\n",
    "                 \n",
    "                 &(df2777['text'].str.contains(\"(?i)заработку в интернете\") == False)\n",
    "                 &(df2777['text'].str.contains(\"(?i)интернете\") == False)\n",
    "                 &(df2777['text'].str.contains(\"(?i)биржа мастеров\") == False)\n",
    "                 &(df2777['text'].str.contains(\"(?i)биржа труда\") == False)\n",
    "                 &(df2777['text'].str.contains(\"(?i)блог программиста\") == False)\n",
    "                 &(df2777['text'].str.contains(\"(?i)хостингах\") == False)\n",
    "                 &(df2777['text'].str.contains(\"(?i)создание сайтов\") == False)\n",
    "                 &(df2777['text'].str.contains(\"(?i)Срочно в долг\") == False)\n",
    "                 &(df2777['text'].str.contains(\"(?i)долг\") == False)\n",
    "                 &(df2777['text'].str.contains(\"(?i)курс валют\") == False)\n",
    "                 &(df2777['text'].str.contains(\"(?i)курсы валют\") == False)\n",
    "                 &(df2777['text'].str.contains(\"(?i)валютный контроль\") == False)\n",
    "                 &(df2777['text'].str.contains(\"(?i)паспорт сделки\") == False)\n",
    "                 &(df2777['text'].str.contains(\"(?i)валютные платежи\") == False)\n",
    "                 &(df2777['text'].str.contains(\"(?i)валютный платеж\") == False)\n",
    "                 &(df2777['text'].str.contains(\"(?i)производстве\") == False)\n",
    "                 &(df2777['text'].str.contains(\"(?i)валютные переводы\") == False)\n",
    "                 &(df2777['text'].str.contains(\"(?i)реклама\") == False)\n",
    "                 &(df2777['text'].str.contains(\"(?i)рекламы\") == False)\n",
    "                 &(df2777['text'].str.contains(\"(?i)рекламе\") == False)\n",
    "                 &(df2777['text'].str.contains(\"(?i)кредиты\") == False)\n",
    "                 &(df2777['text'].str.contains(\"(?i)кредит\") == False)\n",
    "                 &(df2777['text'].str.contains(\"(?i)насосов\") == False)\n",
    "                 &(df2777['text'].str.contains(\"(?i)биржа удаленной работы\") == False)\n",
    "                 &(df2777['text'].str.contains(\"(?i)удаленная работа\") == False)\n",
    "                 &(df2777['text'].str.contains(\"(?i)биржа товаров и услуг\") == False)\n",
    "                 &(df2777['text'].str.contains(\"(?i)биржа товаров\") == False)\n",
    "                 &(df2777['text'].str.contains(\"(?i)запчасти\") == False)\n",
    "                 &(df2777['text'].str.contains(\"(?i)запчастей\") == False)\n",
    "                 &(df2777['text'].str.contains(\"(?i)автомобилей\") == False)\n",
    "                 &(df2777['text'].str.contains(\"(?i)авто\") == False)\n",
    "                 &(df2777['text'].str.contains(\"(?i)изготовление\") == False)\n",
    "                 &(df2777['text'].str.contains(\"(?i)подшипников\") == False)\n",
    "                 &(df2777['text'].str.contains(\"(?i)биржа услуг\") == False)\n",
    "                 &(df2777['text'].str.contains(\"(?i)фриланса\") == False)\n",
    "                 &(df2777['text'].str.contains(\"(?i)биржа видеоблогеров\") == False)\n",
    "                 &(df2777['text'].str.contains(\"(?i)прогнозов\") == False)\n",
    "                 &(df2777['text'].str.contains(\"(?i)спорт\") == False)\n",
    "                 &(df2777['text'].str.contains(\"(?i)детский фотограф\") == False)\n",
    "                 &(df2777['text'].str.contains(\"(?i)биржа заказов\") == False)\n",
    "                 &(df2777['text'].str.contains(\"(?i)биржа студенческих\") == False)\n",
    "                 &(df2777['text'].str.contains(\"(?i)курсовых\") == False)\n",
    "                 &(df2777['text'].str.contains(\"(?i)дипломных\") == False)\n",
    "                 &(df2777['text'].str.contains(\"(?i)контрольных\") == False)\n",
    "                 &(df2777['text'].str.contains(\"(?i)биржа вакансий\") == False)\n",
    "                                             \n",
    "                                                  ]\n",
    "df277.shape"
   ]
  },
  {
   "cell_type": "code",
   "execution_count": 86,
   "metadata": {},
   "outputs": [],
   "source": [
    "df277d = df277.merge(dim, indicator='i', how='outer').query('i == \"left_only\"').drop('i', 1)\n",
    "len(df277d)\n",
    "df277du=df277d['url'].reset_index(drop=True)\n",
    "columns1 = ['taxon']\n",
    "columns2 = ['value']\n",
    "columns3 = ['source']\n",
    "dat1 = np.array(['investicii_ind']*len(df277d)).T\n",
    "d1 = pd.DataFrame(dat1, columns=columns1)\n",
    "dat2 = np.array(['NULL']*len(df277d)).T\n",
    "d2 = pd.DataFrame(dat2, columns=columns2)\n",
    "dat3 = np.array(['site']*len(df277d)).T\n",
    "d3 = pd.DataFrame(dat3, columns=columns3)\n",
    "frames = [d1,df277du,d2,d3]\n",
    "newDF = pd.concat(frames, ignore_index=True, sort=False, axis=1) # ignoring index is optional\n",
    "newDF.to_csv('sites_test/investicii_ind_to_load.csv', index=False, header=False, encoding='utf-8', sep = \";\")"
   ]
  },
  {
   "cell_type": "code",
   "execution_count": 87,
   "metadata": {},
   "outputs": [],
   "source": [
    "df277d.to_csv('sites_test/Investicii.csv', index=False)\n",
    "df277d['url'].to_csv('sites_test/Investicii_url.csv', index=False)"
   ]
  },
  {
   "cell_type": "markdown",
   "metadata": {},
   "source": [
    "# ВЫБИРАЕМ САЙТЫ: \"Спортивные фанаты\", таксон - SPORT_FAN_IND"
   ]
  },
  {
   "cell_type": "code",
   "execution_count": 124,
   "metadata": {},
   "outputs": [
    {
     "data": {
      "text/plain": [
       "(404, 3)"
      ]
     },
     "execution_count": 124,
     "metadata": {},
     "output_type": "execute_result"
    }
   ],
   "source": [
    "#Choosing clothes and shoes\n",
    "df3777=df3.loc[df3['text'].str.lower().str.contains(\"(?i)спортивные новости\")|df3['text'].str.contains(\"(?i)звёзды спорта\")\n",
    "           |df3['text'].str.contains(\"(?i)спортивные команды\")|df3['text'].str.contains(\"(?i)спортивная команда\")\n",
    "               |df3['text'].str.contains(\"(?i)билеты на спортивные\")|df3['text'].str.contains(\"(?i)турнирная таблица\")\n",
    "               |df3['text'].str.contains(\"(?i)календарь соревнований\")|df3['text'].str.contains(\"(?i)результаты соревнований\")             \n",
    "               |df3['text'].str.contains(\"(?i)спортивные фанаты\")|df3['text'].str.contains(\"(?i)сайт болельщиков\")\n",
    "               |df3['text'].str.contains(\"(?i)рейтинги спортсменов\")|df3['text'].str.contains(\"(?i)рейтинг команд\")\n",
    "               |df3['text'].str.contains(\"(?i)форум болельщиков\")|df3['text'].str.contains(\"(?i)лига чемпионов\")\n",
    "               |df3['text'].str.contains(\"(?i)состав команд\")|df3['text'].str.contains(\"(?i)состав команды\")\n",
    "               |df3['text'].str.contains(\"(?i)форум фанатов\")|df3['text'].str.contains(\"(?i)спортивный клуб\")\n",
    "               |df3['text'].str.contains(\"(?i)еврокубок\")|df3['text'].str.contains(\"(?i)кубок мира\")                                                \n",
    "               |df3['text'].str.contains(\"(?i)болельщик\")|df3['text'].str.contains(\"(?i)болельщиков\")\n",
    "               |df3['text'].str.contains(\"(?i)болельщика\")|df3['text'].str.contains(\"(?i)болельщики\")\n",
    "               |df3['text'].str.contains(\"(?i)чемпионат мира\")|df3['text'].str.contains(\"(?i)олимпиада\")\n",
    "                |df3['text'].str.contains(\"(?i)расписание матчей\")|df3['text'].str.contains(\"(?i)матча\")                                               \n",
    "                |df3['text'].str.contains(\"(?i)матч\")|df3['text'].str.contains(\"(?i)матчей\")\n",
    "                 |df3['text'].str.contains(\"(?i)чемпионат\")|df3['text'].str.contains(\"(?i)олимпиада\")                                              \n",
    "                 |df3['text'].str.contains(\"(?i)статистика соревнований\")|df3['text'].str.contains(\"(?i)баскетбольная лига\")\n",
    "               |df3['text'].str.contains(\"(?i)футбольная лига\")|df3['text'].str.contains(\"(?i)хоккейная лига\")\n",
    "               |df3['text'].str.contains(\"(?i)евролига\")|df3['text'].str.contains(\"(?i)турнир по\")\n",
    "               |df3['text'].str.contains(\"(?i)лига европы\")|df3['text'].str.contains(\"(?i)рейтинги спортсменов\")\n",
    "               |df3['text'].str.contains(\"(?i)статистика соревнований\")\n",
    "               \n",
    "                 |df3['text'].str.contains(\"(?i)соревнований\")|df3['text'].str.contains(\"(?i)уефа\")\n",
    "                 |df3['text'].str.contains(\"(?i)обзоры соревнований\")|df3['text'].str.contains(\"(?i)нхл\")  \n",
    "                |df3['text'].str.contains(\"(?i)обзоры матчей\")|df3['text'].str.contains(\"(?i)новости спорта\") \n",
    "                |df3['text'].str.contains(\"(?i)спортивные новости\")|df3['text'].str.contains(\"(?i)обзоры спортивных\")    \n",
    "                |df3['text'].str.contains(\"(?i)анонс соревнований\")|df3['text'].str.contains(\"(?i)рейтинг спортсменов\")                                                \n",
    "                 |df3['text'].str.contains(\"(?i)спортивные новости\")|df3['text'].str.contains(\"(?i)рейтинг игроков\")\n",
    "                  |df3['text'].str.contains(\"(?i)состав команд\")|df3['text'].str.contains(\"(?i)составы команд\")\n",
    "                 |df3['text'].str.contains(\"(?i)состав команды\")|df3['text'].str.contains(\"(?i)результат игр\")\n",
    "                 |df3['text'].str.contains(\"(?i)результат игры\")|df3['text'].str.contains(\"(?i)состав игроков\")\n",
    "              |df3['text'].str.contains(\"(?i)кхл\")|df3['text'].str.contains(\"(?i)футбольные новости\")\n",
    "               |df3['text'].str.contains(\"(?i)новости футбола\")|df3['text'].str.contains(\"(?i)турнирная сетка\")\n",
    "               |df3['text'].str.contains(\"(?i)хоккейные новости\")|df3['text'].str.contains(\"(?i)уимблдон\")\n",
    "               |df3['text'].str.contains(\"(?i)футбольные команды\")|df3['text'].str.contains(\"(?i)хоккейные команды\")\n",
    "               |df3['text'].str.contains(\"(?i)волейбольные новости\")|df3['text'].str.contains(\"(?i)уимблдон\")\n",
    "               |df3['text'].str.contains(\"(?i)волейбольные соревнования\")|df3['text'].str.contains(\"(?i)футбольные соревнования\")\n",
    "               |df3['text'].str.contains(\"(?i)волейбольные матчи\")|df3['text'].str.contains(\"(?i)футбольные матчи\")\n",
    "               |df3['text'].str.contains(\"(?i)хоккейные соревнования\")|df3['text'].str.contains(\"(?i)новости хоккея\")\n",
    "               |df3['text'].str.contains(\"(?i)спорт онлайн\")|df3['text'].str.contains(\"(?i)новости хоккея\")\n",
    "               |df3['text'].str.contains(\"(?i)сборная россии\")|df3['text'].str.contains(\"(?i)результаты соревнований\")\n",
    "               |df3['text'].str.contains(\"(?i)результаты матчей\")|df3['text'].str.contains(\"(?i)результаты соревнований\")\n",
    "               |df3['text'].str.contains(\"(?i)футбольные команды\")|df3['text'].str.contains(\"(?i)волейбольная команда\")\n",
    "               |df3['text'].str.contains(\"(?i)футбольная команда\")|df3['text'].str.contains(\"(?i)хоккейная команда\")\n",
    "               |df3['text'].str.contains(\"(?i)баскетбольная команда\")|df3['text'].str.contains(\"(?i)хоккейная команда\")\n",
    "               |df3['text'].str.contains(\"(?i)баскетбольные матчи\")|df3['text'].str.contains(\"(?i)хоккейная команда\")\n",
    "               |df3['text'].str.contains(\"(?i)баскетбольных игр\")|df3['text'].str.contains(\"(?i)спортивные прогнозы\")\n",
    "               |df3['text'].str.contains(\"(?i)баскетбольные соревнования\")|df3['text'].str.contains(\"(?i)новости баскетбола\")\n",
    "               |df3['text'].str.contains(\"(?i)спортивные трансляции\")\n",
    "               |df3['text'].str.contains(\"(?i)международные соревнования по\")\n",
    "               |df3['text'].str.contains(\"(?i)спортивная трансляция\")|df3['text'].str.contains(\"(?i)спортивных трансляций\")\n",
    "               |df3['text'].str.contains(\"(?i)итоги соревнований\")|df3['text'].str.contains(\"(?i)волейбольная лига\")\n",
    "               |df3['text'].str.contains(\"(?i)футбольных команд\")|df3['text'].str.contains(\"(?i)футбольных игр\")\n",
    "              ]\n",
    "df3777.shape                                                   "
   ]
  },
  {
   "cell_type": "code",
   "execution_count": 125,
   "metadata": {},
   "outputs": [
    {
     "data": {
      "text/plain": [
       "(293, 3)"
      ]
     },
     "execution_count": 125,
     "metadata": {},
     "output_type": "execute_result"
    }
   ],
   "source": [
    "df377=df3777.loc[(df3777['text'].str.contains(\"(?i)автосалон\") == False)\n",
    "             &(df3777['text'].str.contains(\"(?i)кино\") == False)\n",
    "               &(df3777['text'].str.contains(\"(?i)егэ\") == False)\n",
    "               &(df3777['text'].str.contains(\"(?i)подготовка\") == False)\n",
    "               &(df3777['text'].str.contains(\"(?i)автомобили\") == False)  \n",
    "                 &(df3777['text'].str.contains(\"(?i)автомобиль\") == False)\n",
    "                 &(df3777['text'].str.contains(\"(?i)технологической\") == False)\n",
    "                 &(df3777['text'].str.contains(\"(?i)информационной\") == False)\n",
    "                 \n",
    "                 &(df3777['text'].str.contains(\"(?i)информационный\") == False)\n",
    "                 &(df3777['text'].str.contains(\"(?i)аттестация\") == False)\n",
    "                 &(df3777['text'].str.contains(\"(?i)интеллектуальных\") == False)\n",
    "                 &(df3777['text'].str.contains(\"(?i)гагарина\") == False)\n",
    "                 &(df3777['text'].str.contains(\"(?i)школьников\") == False)\n",
    "                 &(df3777['text'].str.contains(\"(?i)студентов\") == False)\n",
    "                 &(df3777['text'].str.contains(\"(?i)олимпиада по физике\") == False)\n",
    "                 &(df3777['text'].str.contains(\"(?i)олимпиада по математики\") == False)\n",
    "                 &(df3777['text'].str.contains(\"(?i)информационным\") == False)\n",
    "                 &(df3777['text'].str.contains(\"(?i)олимпиада по информатике\") == False)\n",
    "                 &(df3777['text'].str.contains(\"(?i)олимпиада по английскому\") == False)\n",
    "                 &(df3777['text'].str.contains(\"(?i)английский\") == False)\n",
    "                 &(df3777['text'].str.contains(\"(?i)детская\") == False)\n",
    "                 &(df3777['text'].str.contains(\"(?i)детский\") == False)\n",
    "                 &(df3777['text'].str.contains(\"(?i)детскому\") == False)\n",
    "                 &(df3777['text'].str.contains(\"(?i)курчатов\") == False)\n",
    "                 &(df3777['text'].str.contains(\"(?i)спортивный клуб\") == False)\n",
    "                 &(df3777['text'].str.contains(\"(?i)фитнес-клуб\") == False)\n",
    "                 &(df3777['text'].str.contains(\"(?i)фитнес клуб\") == False)\n",
    "                 &(df3777['text'].str.contains(\"(?i)школах\") == False)\n",
    "                 &(df3777['text'].str.contains(\"(?i)школа\") == False)\n",
    "                 &(df3777['text'].str.contains(\"(?i)казино\") == False)\n",
    "                 &(df3777['text'].str.contains(\"(?i)студенческий\") == False)\n",
    "                 &(df3777['text'].str.contains(\"(?i)студенческие\") == False)\n",
    "                 &(df3777['text'].str.contains(\"(?i)студенческая\") == False)\n",
    "                 &(df3777['text'].str.contains(\"(?i)школьная\") == False)\n",
    "                 \n",
    "                ]\n",
    "df377.shape"
   ]
  },
  {
   "cell_type": "code",
   "execution_count": 126,
   "metadata": {},
   "outputs": [
    {
     "data": {
      "text/plain": [
       "287"
      ]
     },
     "execution_count": 126,
     "metadata": {},
     "output_type": "execute_result"
    }
   ],
   "source": [
    "df377d = df377.merge(dim, indicator='i', how='outer').query('i == \"left_only\"').drop('i', 1)\n",
    "len(df377d)"
   ]
  },
  {
   "cell_type": "code",
   "execution_count": 127,
   "metadata": {},
   "outputs": [],
   "source": [
    "df377du=df377d['url'].reset_index(drop=True)\n",
    "columns1 = ['taxon']\n",
    "columns2 = ['value']\n",
    "columns3 = ['source']\n",
    "dat1 = np.array(['sport_fan_ind']*len(df377d)).T\n",
    "d1 = pd.DataFrame(dat1, columns=columns1)\n",
    "dat2 = np.array(['NULL']*len(df377d)).T\n",
    "d2 = pd.DataFrame(dat2, columns=columns2)\n",
    "dat3 = np.array(['site']*len(df377d)).T\n",
    "d3 = pd.DataFrame(dat3, columns=columns3)\n",
    "frames = [d1,df377du,d2,d3]\n",
    "newDF = pd.concat(frames, ignore_index=True, sort=False, axis=1) # ignoring index is optional\n",
    "newDF.to_csv('sites_test/sport_fan_ind_to_load.csv', index=False, header=False, encoding='utf-8', sep = \";\")"
   ]
  },
  {
   "cell_type": "code",
   "execution_count": 128,
   "metadata": {},
   "outputs": [],
   "source": [
    "df377d.to_csv('sites_test/Sport_fan.csv', index=False)\n",
    "df377d['url'].to_csv('sites_test/Sport_fan_url.csv', index=False)"
   ]
  },
  {
   "cell_type": "markdown",
   "metadata": {},
   "source": [
    "# ВЫБИРАЕМ САЙТЫ: \"Спортивные фанаты Футбола\", таксон - FOOTBALL_FAN_IND"
   ]
  },
  {
   "cell_type": "code",
   "execution_count": 129,
   "metadata": {},
   "outputs": [
    {
     "data": {
      "text/plain": [
       "(382, 3)"
      ]
     },
     "execution_count": 129,
     "metadata": {},
     "output_type": "execute_result"
    }
   ],
   "source": [
    "#Choosing clothes and shoes\n",
    "df5777=df3.loc[df3['text'].str.lower().str.contains(\"(?i)спортивные новости\")|df3['text'].str.contains(\"(?i)звёзды спорта\")\n",
    "           |df3['text'].str.contains(\"(?i)спортивные команды\")|df3['text'].str.contains(\"(?i)спортивная команда\")\n",
    "               |df3['text'].str.contains(\"(?i)билеты на спортивные\")|df3['text'].str.contains(\"(?i)турнирная таблица\")\n",
    "               |df3['text'].str.contains(\"(?i)календарь соревнований\")|df3['text'].str.contains(\"(?i)результаты соревнований\")             \n",
    "               |df3['text'].str.contains(\"(?i)спортивные фанаты\")|df3['text'].str.contains(\"(?i)сайт болельщиков\")\n",
    "               |df3['text'].str.contains(\"(?i)рейтинги спортсменов\")|df3['text'].str.contains(\"(?i)рейтинг команд\")\n",
    "               |df3['text'].str.contains(\"(?i)форум болельщиков\")|df3['text'].str.contains(\"(?i)лига чемпионов\")\n",
    "               |df3['text'].str.contains(\"(?i)состав команд\")|df3['text'].str.contains(\"(?i)состав команды\")\n",
    "               |df3['text'].str.contains(\"(?i)форум фанатов\")|df3['text'].str.contains(\"(?i)спортивный клуб\")\n",
    "               |df3['text'].str.contains(\"(?i)еврокубок\")|df3['text'].str.contains(\"(?i)кубок мира\")                                                \n",
    "               |df3['text'].str.contains(\"(?i)болельщик\")|df3['text'].str.contains(\"(?i)болельщиков\")\n",
    "               |df3['text'].str.contains(\"(?i)болельщика\")|df3['text'].str.contains(\"(?i)болельщики\")\n",
    "               |df3['text'].str.contains(\"(?i)чемпионат мира\")|df3['text'].str.contains(\"(?i)олимпиада\")\n",
    "                |df3['text'].str.contains(\"(?i)расписание матчей\")|df3['text'].str.contains(\"(?i)матча\")                                               \n",
    "                |df3['text'].str.contains(\"(?i)матч\")|df3['text'].str.contains(\"(?i)матчей\")\n",
    "                 |df3['text'].str.contains(\"(?i)чемпионат\")|df3['text'].str.contains(\"(?i)олимпиада\")                                              \n",
    "                 |df3['text'].str.contains(\"(?i)статистика соревнований\")\n",
    "               |df3['text'].str.contains(\"(?i)футбольная лига\")\n",
    "               |df3['text'].str.contains(\"(?i)евролига\")|df3['text'].str.contains(\"(?i)турнир по\")\n",
    "               |df3['text'].str.contains(\"(?i)лига европы\")|df3['text'].str.contains(\"(?i)рейтинги спортсменов\")\n",
    "               |df3['text'].str.contains(\"(?i)статистика соревнований\")\n",
    "               \n",
    "                 |df3['text'].str.contains(\"(?i)соревнований\")|df3['text'].str.contains(\"(?i)уефа\")\n",
    "                 |df3['text'].str.contains(\"(?i)обзоры соревнований\")\n",
    "                |df3['text'].str.contains(\"(?i)обзоры матчей\")|df3['text'].str.contains(\"(?i)новости спорта\") \n",
    "                |df3['text'].str.contains(\"(?i)спортивные новости\")|df3['text'].str.contains(\"(?i)обзоры спортивных\")    \n",
    "                |df3['text'].str.contains(\"(?i)анонс соревнований\")|df3['text'].str.contains(\"(?i)рейтинг спортсменов\")                                                \n",
    "                 |df3['text'].str.contains(\"(?i)спортивные новости\")|df3['text'].str.contains(\"(?i)рейтинг игроков\")\n",
    "                  |df3['text'].str.contains(\"(?i)состав команд\")|df3['text'].str.contains(\"(?i)составы команд\")\n",
    "                 |df3['text'].str.contains(\"(?i)состав команды\")|df3['text'].str.contains(\"(?i)результат игр\")\n",
    "                 |df3['text'].str.contains(\"(?i)результат игры\")|df3['text'].str.contains(\"(?i)состав игроков\")\n",
    "              |df3['text'].str.contains(\"(?i)футбольные новости\")\n",
    "               |df3['text'].str.contains(\"(?i)новости футбола\")|df3['text'].str.contains(\"(?i)турнирная сетка\")\n",
    "               \n",
    "               |df3['text'].str.contains(\"(?i)футбольные команды\")|df3['text'].str.contains(\"(?i)хоккейные команды\")\n",
    "               \n",
    "               |df3['text'].str.contains(\"(?i)футбольные соревнования\")\n",
    "               |df3['text'].str.contains(\"(?i)футбольные матчи\")\n",
    "               |df3['text'].str.contains(\"(?i)новости хоккея\")\n",
    "               |df3['text'].str.contains(\"(?i)спорт онлайн\")\n",
    "               |df3['text'].str.contains(\"(?i)сборная россии\")|df3['text'].str.contains(\"(?i)результаты соревнований\")\n",
    "               |df3['text'].str.contains(\"(?i)результаты матчей\")|df3['text'].str.contains(\"(?i)результаты соревнований\")\n",
    "               |df3['text'].str.contains(\"(?i)футбольные команды\")\n",
    "               |df3['text'].str.contains(\"(?i)футбольная команда\")\n",
    "               |df3['text'].str.contains(\"(?i)футбольных игр\")|df3['text'].str.contains(\"(?i)футбольных команд\")\n",
    "               |df3['text'].str.contains(\"(?i)спортивные прогнозы\")\n",
    "               |df3['text'].str.contains(\"(?i)спортивные трансляции\")\n",
    "               |df3['text'].str.contains(\"(?i)международные соревнования по\")\n",
    "               |df3['text'].str.contains(\"(?i)спортивная трансляция\")|df3['text'].str.contains(\"(?i)спортивных трансляций\")\n",
    "               |df3['text'].str.contains(\"(?i)итоги соревнований\")\n",
    "               \n",
    "              ]\n",
    "df5777.shape                                                   "
   ]
  },
  {
   "cell_type": "code",
   "execution_count": 142,
   "metadata": {},
   "outputs": [
    {
     "data": {
      "text/plain": [
       "(94, 3)"
      ]
     },
     "execution_count": 142,
     "metadata": {},
     "output_type": "execute_result"
    }
   ],
   "source": [
    "df6777=df5777.loc[df5777['text'].str.lower().str.contains(\"(?i)футбольные\")|df3['text'].str.contains(\"(?i)футбольный\")\n",
    "           |df5777['text'].str.contains(\"(?i)футбольная\")|df5777['text'].str.contains(\"(?i)футбольных\")\n",
    "           |df5777['text'].str.contains(\"(?i)футбольную\")|df5777['text'].str.contains(\"(?i)футбольное\") \n",
    "           |df5777['text'].str.contains(\"(?i)футбол\")|df5777['text'].str.contains(\"(?i)футболу\")\n",
    "           |df5777['text'].str.contains(\"(?i)футбола\")|df5777['text'].str.contains(\"(?i)футбольного\")\n",
    "                  |df5777['text'].str.contains(\"(?i)футболе\")\n",
    "                 ]\n",
    "df6777.shape"
   ]
  },
  {
   "cell_type": "code",
   "execution_count": 143,
   "metadata": {},
   "outputs": [
    {
     "data": {
      "text/plain": [
       "93"
      ]
     },
     "execution_count": 143,
     "metadata": {},
     "output_type": "execute_result"
    }
   ],
   "source": [
    "df6777d = df6777.merge(dim, indicator='i', how='outer').query('i == \"left_only\"').drop('i', 1)\n",
    "len(df6777d)"
   ]
  },
  {
   "cell_type": "code",
   "execution_count": 144,
   "metadata": {},
   "outputs": [],
   "source": [
    "df6777du=df6777d['url'].reset_index(drop=True)\n",
    "columns1 = ['taxon']\n",
    "columns2 = ['value']\n",
    "columns3 = ['source']\n",
    "dat1 = np.array(['football_fan_ind']*len(df6777d)).T\n",
    "d1 = pd.DataFrame(dat1, columns=columns1)\n",
    "dat2 = np.array(['NULL']*len(df6777d)).T\n",
    "d2 = pd.DataFrame(dat2, columns=columns2)\n",
    "dat3 = np.array(['site']*len(df6777d)).T\n",
    "d3 = pd.DataFrame(dat3, columns=columns3)\n",
    "frames = [d1,df6777du,d2,d3]\n",
    "newDF = pd.concat(frames, ignore_index=True, sort=False, axis=1) # ignoring index is optional\n",
    "newDF.to_csv('sites_test/football_fan_ind_to_load.csv', index=False, header=False, encoding='utf-8', sep = \";\")"
   ]
  },
  {
   "cell_type": "code",
   "execution_count": 145,
   "metadata": {},
   "outputs": [],
   "source": [
    "df6777d.to_csv('sites_test/Football_fan.csv', index=False)\n",
    "df6777d['url'].to_csv('sites_test/Football_fan_url.csv', index=False)"
   ]
  },
  {
   "cell_type": "markdown",
   "metadata": {},
   "source": [
    "# ВЫБИРАЕМ САЙТЫ: \"Интересующиеся изучением Английского языка\", таксон - LEARN_ENG_IND"
   ]
  },
  {
   "cell_type": "code",
   "execution_count": 9,
   "metadata": {},
   "outputs": [],
   "source": [
    "#Choosing clothes and shoes\n",
    "df7777=df3.loc[df3['text'].str.lower().str.contains(\"(?i)кухонные комбайны\")|df3['text'].str.contains(\"(?i)электрочайник\")\n",
    "           |df3['text'].str.contains(\"(?i)блендер\")|df3['text'].str.contains(\"(?i)миксер\")\n",
    "               |df3['text'].str.contains(\"(?i)кофемолк\")|df3['text'].str.contains(\"(?i)для кухни\")]"
   ]
  },
  {
   "cell_type": "code",
   "execution_count": 11,
   "metadata": {},
   "outputs": [],
   "source": [
    "df8888=df7777.loc[(df7777['text'].str.contains(\"(?i)мебель\") == False)\n",
    "             &(df7777['text'].str.contains(\"(?i)сервировка\") == False)\n",
    "               &(df7777['text'].str.contains(\"(?i)стол\") == False)\n",
    "                  &(df7777['text'].str.contains(\"(?i)стул\") == False)]"
   ]
  },
  {
   "cell_type": "code",
   "execution_count": 12,
   "metadata": {},
   "outputs": [
    {
     "data": {
      "text/html": [
       "<div>\n",
       "<style scoped>\n",
       "    .dataframe tbody tr th:only-of-type {\n",
       "        vertical-align: middle;\n",
       "    }\n",
       "\n",
       "    .dataframe tbody tr th {\n",
       "        vertical-align: top;\n",
       "    }\n",
       "\n",
       "    .dataframe thead th {\n",
       "        text-align: right;\n",
       "    }\n",
       "</style>\n",
       "<table border=\"1\" class=\"dataframe\">\n",
       "  <thead>\n",
       "    <tr style=\"text-align: right;\">\n",
       "      <th></th>\n",
       "      <th>url</th>\n",
       "      <th>count</th>\n",
       "      <th>text</th>\n",
       "    </tr>\n",
       "  </thead>\n",
       "  <tbody>\n",
       "    <tr>\n",
       "      <th>13302</th>\n",
       "      <td>best-kitchen.ru</td>\n",
       "      <td>2854.0</td>\n",
       "      <td>Best-Kitchen.ru - лучшие товары для кухни (инт...</td>\n",
       "    </tr>\n",
       "    <tr>\n",
       "      <th>18571</th>\n",
       "      <td>alfa812.ru</td>\n",
       "      <td>1931.0</td>\n",
       "      <td>Оптовый магазин Альфа812 ,ТВ-товаров, для дома...</td>\n",
       "    </tr>\n",
       "    <tr>\n",
       "      <th>21073</th>\n",
       "      <td>averstrade.ru</td>\n",
       "      <td>1674.0</td>\n",
       "      <td>Интернет-магазин аксессуаров для кухни и фурни...</td>\n",
       "    </tr>\n",
       "    <tr>\n",
       "      <th>21114</th>\n",
       "      <td>logatask.ru</td>\n",
       "      <td>1670.0</td>\n",
       "      <td>Аксессуары и фурнитура для кухни</td>\n",
       "    </tr>\n",
       "    <tr>\n",
       "      <th>25743</th>\n",
       "      <td>kitchen-aid.ru</td>\n",
       "      <td>1315.0</td>\n",
       "      <td>Фирменный магазин Kitchen Aid (Китчен Эйд) Мик...</td>\n",
       "    </tr>\n",
       "    <tr>\n",
       "      <th>28418</th>\n",
       "      <td>cvtplus.ru</td>\n",
       "      <td>1169.0</td>\n",
       "      <td>Интернет-магазин Центр Встраиваемой Техники - ...</td>\n",
       "    </tr>\n",
       "    <tr>\n",
       "      <th>28763</th>\n",
       "      <td>granfest.ru</td>\n",
       "      <td>1152.0</td>\n",
       "      <td>ГРАНФЕСТ | GRANFEST | Производитель кухонных м...</td>\n",
       "    </tr>\n",
       "    <tr>\n",
       "      <th>29520</th>\n",
       "      <td>xn--80aao6anggb.xn--p1ai</td>\n",
       "      <td>1112.0</td>\n",
       "      <td>Фотообои на стену купить недорого в интернет м...</td>\n",
       "    </tr>\n",
       "    <tr>\n",
       "      <th>32982</th>\n",
       "      <td>granikuhni.ru</td>\n",
       "      <td>974.0</td>\n",
       "      <td>Главная | Грани Кухни. Москва | Купить мойку д...</td>\n",
       "    </tr>\n",
       "    <tr>\n",
       "      <th>33827</th>\n",
       "      <td>lex1.ru</td>\n",
       "      <td>944.0</td>\n",
       "      <td>Встраиваемая техника для кухни: ансамбль совер...</td>\n",
       "    </tr>\n",
       "    <tr>\n",
       "      <th>34212</th>\n",
       "      <td>plitka101.ru</td>\n",
       "      <td>929.0</td>\n",
       "      <td>Интернет-магазин керамической плитки ПлиткА101...</td>\n",
       "    </tr>\n",
       "    <tr>\n",
       "      <th>35274</th>\n",
       "      <td>kitchen-devices.ru</td>\n",
       "      <td>895.0</td>\n",
       "      <td>Kitchen-Devices.ru - современные товары для ку...</td>\n",
       "    </tr>\n",
       "    <tr>\n",
       "      <th>38560</th>\n",
       "      <td>zorg-rf.ru</td>\n",
       "      <td>799.0</td>\n",
       "      <td>Сантехника для кухни. Смесители, мойки - Интер...</td>\n",
       "    </tr>\n",
       "    <tr>\n",
       "      <th>42105</th>\n",
       "      <td>skinale.ru</td>\n",
       "      <td>717.0</td>\n",
       "      <td>Скинали - стеклянный фартук для кухни | Завод ...</td>\n",
       "    </tr>\n",
       "    <tr>\n",
       "      <th>42692</th>\n",
       "      <td>studio-fartukov.ru</td>\n",
       "      <td>703.0</td>\n",
       "      <td>Скинали для кухни: купить недорого в Москве | ...</td>\n",
       "    </tr>\n",
       "    <tr>\n",
       "      <th>43783</th>\n",
       "      <td>skinali17.ru</td>\n",
       "      <td>680.0</td>\n",
       "      <td>Скинали - купить стеклянные фартуки для кухни ...</td>\n",
       "    </tr>\n",
       "    <tr>\n",
       "      <th>44862</th>\n",
       "      <td>gaggenau.su</td>\n",
       "      <td>659.0</td>\n",
       "      <td>Gaggenau - элитная бытовая техника премиум кла...</td>\n",
       "    </tr>\n",
       "    <tr>\n",
       "      <th>47368</th>\n",
       "      <td>makberry.ru</td>\n",
       "      <td>614.0</td>\n",
       "      <td>Фасад для кухни | Фасады из Италии | МакБерри</td>\n",
       "    </tr>\n",
       "    <tr>\n",
       "      <th>56735</th>\n",
       "      <td>rawmid.com</td>\n",
       "      <td>480.0</td>\n",
       "      <td>Эксклюзивная техника RawMID - Профессиональные...</td>\n",
       "    </tr>\n",
       "    <tr>\n",
       "      <th>58919</th>\n",
       "      <td>multivarki-russia.ru</td>\n",
       "      <td>457.0</td>\n",
       "      <td>Интернет-магазин мультиварок и мелкой бытовой ...</td>\n",
       "    </tr>\n",
       "    <tr>\n",
       "      <th>62100</th>\n",
       "      <td>cata.ru</td>\n",
       "      <td>423.0</td>\n",
       "      <td>Cata — испанская техника для кухни</td>\n",
       "    </tr>\n",
       "    <tr>\n",
       "      <th>64315</th>\n",
       "      <td>carmell.ru</td>\n",
       "      <td>403.0</td>\n",
       "      <td>Кармелл - Наружная реклама. Интерьер. Фартук, ...</td>\n",
       "    </tr>\n",
       "    <tr>\n",
       "      <th>69589</th>\n",
       "      <td>tk-solo.ru</td>\n",
       "      <td>359.0</td>\n",
       "      <td>Скинали из стекла  для кухни | Фотообои на сте...</td>\n",
       "    </tr>\n",
       "    <tr>\n",
       "      <th>70497</th>\n",
       "      <td>tehmall.ru</td>\n",
       "      <td>352.0</td>\n",
       "      <td>Бытовая техника для кухни. Купить бытовую техн...</td>\n",
       "    </tr>\n",
       "    <tr>\n",
       "      <th>73024</th>\n",
       "      <td>ankarsrum-original.ru</td>\n",
       "      <td>334.0</td>\n",
       "      <td>Кухонные комбайны-тестомесы Ankarsrum Assistan...</td>\n",
       "    </tr>\n",
       "    <tr>\n",
       "      <th>78467</th>\n",
       "      <td>problender.ru</td>\n",
       "      <td>301.0</td>\n",
       "      <td>Профессиональные блендеры JTC OmniBlend профес...</td>\n",
       "    </tr>\n",
       "    <tr>\n",
       "      <th>79161</th>\n",
       "      <td>skinali-msk.ru</td>\n",
       "      <td>297.0</td>\n",
       "      <td>Скинали — купить стеклянный фартук для кухни в...</td>\n",
       "    </tr>\n",
       "    <tr>\n",
       "      <th>80677</th>\n",
       "      <td>fartuknazakaz.ru</td>\n",
       "      <td>289.0</td>\n",
       "      <td>Купить фартук для кухни с фотопечатью в СПб по...</td>\n",
       "    </tr>\n",
       "    <tr>\n",
       "      <th>84739</th>\n",
       "      <td>skovoroda-online.ru</td>\n",
       "      <td>269.0</td>\n",
       "      <td>Интернет-магазин посуды: чайники, сковороды, т...</td>\n",
       "    </tr>\n",
       "    <tr>\n",
       "      <th>87095</th>\n",
       "      <td>don-bt.ru</td>\n",
       "      <td>258.0</td>\n",
       "      <td>Встраиваемая бытовая техника для кухни в Росто...</td>\n",
       "    </tr>\n",
       "    <tr>\n",
       "      <th>...</th>\n",
       "      <td>...</td>\n",
       "      <td>...</td>\n",
       "      <td>...</td>\n",
       "    </tr>\n",
       "    <tr>\n",
       "      <th>203211</th>\n",
       "      <td>profartuk.ru</td>\n",
       "      <td>43.0</td>\n",
       "      <td>Скинали (стеклянные фартуки) для кухни купить ...</td>\n",
       "    </tr>\n",
       "    <tr>\n",
       "      <th>204853</th>\n",
       "      <td>dv35.ru</td>\n",
       "      <td>42.0</td>\n",
       "      <td>Кухни и бытовая техника для кухни на заказ в В...</td>\n",
       "    </tr>\n",
       "    <tr>\n",
       "      <th>208344</th>\n",
       "      <td>alvismebel.ru</td>\n",
       "      <td>39.0</td>\n",
       "      <td>Интернет магазин мебели для кухни, мебели для ...</td>\n",
       "    </tr>\n",
       "    <tr>\n",
       "      <th>210269</th>\n",
       "      <td>salon-kuxni.ru</td>\n",
       "      <td>37.0</td>\n",
       "      <td>Продажа, проектирование, дизайн кухни на заказ...</td>\n",
       "    </tr>\n",
       "    <tr>\n",
       "      <th>212274</th>\n",
       "      <td>mnogo-stekla.com</td>\n",
       "      <td>36.0</td>\n",
       "      <td>Стекло и изделия из закаленного стекла: трипле...</td>\n",
       "    </tr>\n",
       "    <tr>\n",
       "      <th>215959</th>\n",
       "      <td>moyki-smesiteli.ru</td>\n",
       "      <td>33.0</td>\n",
       "      <td>МОЙКИ ДЛЯ КУХНИ. Купить мойки для кухни и кухо...</td>\n",
       "    </tr>\n",
       "    <tr>\n",
       "      <th>222140</th>\n",
       "      <td>beq-shop.ru</td>\n",
       "      <td>29.0</td>\n",
       "      <td>BEQ-shop интернет магазин сантехники: смесител...</td>\n",
       "    </tr>\n",
       "    <tr>\n",
       "      <th>225126</th>\n",
       "      <td>nikkoletto.ru</td>\n",
       "      <td>27.0</td>\n",
       "      <td>Кухни с фасадами из МДФ: Классические кухни, к...</td>\n",
       "    </tr>\n",
       "    <tr>\n",
       "      <th>226234</th>\n",
       "      <td>polygran.by</td>\n",
       "      <td>26.0</td>\n",
       "      <td>Мойки для кухни из искусственного камня Полигр...</td>\n",
       "    </tr>\n",
       "    <tr>\n",
       "      <th>226746</th>\n",
       "      <td>bellavita-kitchen.ru</td>\n",
       "      <td>26.0</td>\n",
       "      <td>Продажа мебели для кухни г. Иркутск ООО Красив...</td>\n",
       "    </tr>\n",
       "    <tr>\n",
       "      <th>227010</th>\n",
       "      <td>tehnoshef.ru</td>\n",
       "      <td>25.0</td>\n",
       "      <td>Бытовая техника для кухни в Краснодаре.  Встра...</td>\n",
       "    </tr>\n",
       "    <tr>\n",
       "      <th>230352</th>\n",
       "      <td>vipfartuk.ru</td>\n",
       "      <td>23.0</td>\n",
       "      <td>СКИНАЛИ - СТЕКЛЯННЫЕ ФАРТУКИ ДЛЯ КУХНИ— vipfar...</td>\n",
       "    </tr>\n",
       "    <tr>\n",
       "      <th>232754</th>\n",
       "      <td>mirskinali.ru</td>\n",
       "      <td>22.0</td>\n",
       "      <td>Мир Скинали | Купить стеклянные панели для кух...</td>\n",
       "    </tr>\n",
       "    <tr>\n",
       "      <th>233052</th>\n",
       "      <td>plastikfasad.ru</td>\n",
       "      <td>21.0</td>\n",
       "      <td>Фасады для кухни в Москве | Производство кухон...</td>\n",
       "    </tr>\n",
       "    <tr>\n",
       "      <th>239234</th>\n",
       "      <td>reftorg.ru</td>\n",
       "      <td>17.0</td>\n",
       "      <td>Оборудование для профессиональной кухниСанкт-П...</td>\n",
       "    </tr>\n",
       "    <tr>\n",
       "      <th>242818</th>\n",
       "      <td>kuxtexnika.ru</td>\n",
       "      <td>16.0</td>\n",
       "      <td>Главная страница - Техника для кухни</td>\n",
       "    </tr>\n",
       "    <tr>\n",
       "      <th>244124</th>\n",
       "      <td>mir-kuhni42.ru</td>\n",
       "      <td>15.0</td>\n",
       "      <td>Интернет-магазин товаров для кухни «Мир Кухни»</td>\n",
       "    </tr>\n",
       "    <tr>\n",
       "      <th>245522</th>\n",
       "      <td>m450.ru</td>\n",
       "      <td>14.0</td>\n",
       "      <td>Купить бетон в Новосибирске с доставкой миксер...</td>\n",
       "    </tr>\n",
       "    <tr>\n",
       "      <th>248973</th>\n",
       "      <td>studio-newstyle.ru</td>\n",
       "      <td>12.0</td>\n",
       "      <td>Скинали  | Фартук для кухни из стекла в Новоси...</td>\n",
       "    </tr>\n",
       "    <tr>\n",
       "      <th>250852</th>\n",
       "      <td>vstroika-krasnodar.ru</td>\n",
       "      <td>11.0</td>\n",
       "      <td>Главная - Магазин встраиваемой техники для кух...</td>\n",
       "    </tr>\n",
       "    <tr>\n",
       "      <th>259941</th>\n",
       "      <td>1skinali.ru</td>\n",
       "      <td>NaN</td>\n",
       "      <td>Скинали - стеклянный фартук для кухни с фотопе...</td>\n",
       "    </tr>\n",
       "    <tr>\n",
       "      <th>263455</th>\n",
       "      <td>blanco-sale.ru</td>\n",
       "      <td>NaN</td>\n",
       "      <td>Купить мойку для кухни blanco - интернет магаз...</td>\n",
       "    </tr>\n",
       "    <tr>\n",
       "      <th>267340</th>\n",
       "      <td>donskinali.ru</td>\n",
       "      <td>NaN</td>\n",
       "      <td>Скинали, фартук из стекла для кухни.</td>\n",
       "    </tr>\n",
       "    <tr>\n",
       "      <th>271872</th>\n",
       "      <td>kitsyst.com</td>\n",
       "      <td>NaN</td>\n",
       "      <td>Интернет-магазин встраиваемой бытовой техники ...</td>\n",
       "    </tr>\n",
       "    <tr>\n",
       "      <th>273923</th>\n",
       "      <td>fartuk-land.ru</td>\n",
       "      <td>NaN</td>\n",
       "      <td>Фартуки, красивые нарядные кухонные фартуки | ...</td>\n",
       "    </tr>\n",
       "    <tr>\n",
       "      <th>275935</th>\n",
       "      <td>legioncomfort.uz</td>\n",
       "      <td>NaN</td>\n",
       "      <td>LEGION KOMFORT - производство мебели для кухни...</td>\n",
       "    </tr>\n",
       "    <tr>\n",
       "      <th>276531</th>\n",
       "      <td>ceram-tour.ru</td>\n",
       "      <td>NaN</td>\n",
       "      <td>КЕРАМИКА-ТУР - Керамическая плитка для ванной ...</td>\n",
       "    </tr>\n",
       "    <tr>\n",
       "      <th>279982</th>\n",
       "      <td>avtordekor.ru</td>\n",
       "      <td>NaN</td>\n",
       "      <td>АВТОР ДЕКОР фартуки для кухни из стекла Пермь</td>\n",
       "    </tr>\n",
       "    <tr>\n",
       "      <th>282252</th>\n",
       "      <td>artekey-innovations.ru</td>\n",
       "      <td>NaN</td>\n",
       "      <td>Artekey Innovation – инновации для кухни и жиз...</td>\n",
       "    </tr>\n",
       "    <tr>\n",
       "      <th>282336</th>\n",
       "      <td>keramika124.ru</td>\n",
       "      <td>NaN</td>\n",
       "      <td>Керамическая плитка в Красноярске: плитка для ...</td>\n",
       "    </tr>\n",
       "  </tbody>\n",
       "</table>\n",
       "<p>106 rows × 3 columns</p>\n",
       "</div>"
      ],
      "text/plain": [
       "                             url   count  \\\n",
       "13302            best-kitchen.ru  2854.0   \n",
       "18571                 alfa812.ru  1931.0   \n",
       "21073              averstrade.ru  1674.0   \n",
       "21114                logatask.ru  1670.0   \n",
       "25743             kitchen-aid.ru  1315.0   \n",
       "28418                 cvtplus.ru  1169.0   \n",
       "28763                granfest.ru  1152.0   \n",
       "29520   xn--80aao6anggb.xn--p1ai  1112.0   \n",
       "32982              granikuhni.ru   974.0   \n",
       "33827                    lex1.ru   944.0   \n",
       "34212               plitka101.ru   929.0   \n",
       "35274         kitchen-devices.ru   895.0   \n",
       "38560                 zorg-rf.ru   799.0   \n",
       "42105                 skinale.ru   717.0   \n",
       "42692         studio-fartukov.ru   703.0   \n",
       "43783               skinali17.ru   680.0   \n",
       "44862                gaggenau.su   659.0   \n",
       "47368                makberry.ru   614.0   \n",
       "56735                 rawmid.com   480.0   \n",
       "58919       multivarki-russia.ru   457.0   \n",
       "62100                    cata.ru   423.0   \n",
       "64315                 carmell.ru   403.0   \n",
       "69589                 tk-solo.ru   359.0   \n",
       "70497                 tehmall.ru   352.0   \n",
       "73024      ankarsrum-original.ru   334.0   \n",
       "78467              problender.ru   301.0   \n",
       "79161             skinali-msk.ru   297.0   \n",
       "80677           fartuknazakaz.ru   289.0   \n",
       "84739        skovoroda-online.ru   269.0   \n",
       "87095                  don-bt.ru   258.0   \n",
       "...                          ...     ...   \n",
       "203211              profartuk.ru    43.0   \n",
       "204853                   dv35.ru    42.0   \n",
       "208344             alvismebel.ru    39.0   \n",
       "210269            salon-kuxni.ru    37.0   \n",
       "212274          mnogo-stekla.com    36.0   \n",
       "215959        moyki-smesiteli.ru    33.0   \n",
       "222140               beq-shop.ru    29.0   \n",
       "225126             nikkoletto.ru    27.0   \n",
       "226234               polygran.by    26.0   \n",
       "226746      bellavita-kitchen.ru    26.0   \n",
       "227010              tehnoshef.ru    25.0   \n",
       "230352              vipfartuk.ru    23.0   \n",
       "232754             mirskinali.ru    22.0   \n",
       "233052           plastikfasad.ru    21.0   \n",
       "239234                reftorg.ru    17.0   \n",
       "242818             kuxtexnika.ru    16.0   \n",
       "244124            mir-kuhni42.ru    15.0   \n",
       "245522                   m450.ru    14.0   \n",
       "248973        studio-newstyle.ru    12.0   \n",
       "250852     vstroika-krasnodar.ru    11.0   \n",
       "259941               1skinali.ru     NaN   \n",
       "263455            blanco-sale.ru     NaN   \n",
       "267340             donskinali.ru     NaN   \n",
       "271872               kitsyst.com     NaN   \n",
       "273923            fartuk-land.ru     NaN   \n",
       "275935          legioncomfort.uz     NaN   \n",
       "276531             ceram-tour.ru     NaN   \n",
       "279982             avtordekor.ru     NaN   \n",
       "282252    artekey-innovations.ru     NaN   \n",
       "282336            keramika124.ru     NaN   \n",
       "\n",
       "                                                     text  \n",
       "13302   Best-Kitchen.ru - лучшие товары для кухни (инт...  \n",
       "18571   Оптовый магазин Альфа812 ,ТВ-товаров, для дома...  \n",
       "21073   Интернет-магазин аксессуаров для кухни и фурни...  \n",
       "21114                    Аксессуары и фурнитура для кухни  \n",
       "25743   Фирменный магазин Kitchen Aid (Китчен Эйд) Мик...  \n",
       "28418   Интернет-магазин Центр Встраиваемой Техники - ...  \n",
       "28763   ГРАНФЕСТ | GRANFEST | Производитель кухонных м...  \n",
       "29520   Фотообои на стену купить недорого в интернет м...  \n",
       "32982   Главная | Грани Кухни. Москва | Купить мойку д...  \n",
       "33827   Встраиваемая техника для кухни: ансамбль совер...  \n",
       "34212   Интернет-магазин керамической плитки ПлиткА101...  \n",
       "35274   Kitchen-Devices.ru - современные товары для ку...  \n",
       "38560   Сантехника для кухни. Смесители, мойки - Интер...  \n",
       "42105   Скинали - стеклянный фартук для кухни | Завод ...  \n",
       "42692   Скинали для кухни: купить недорого в Москве | ...  \n",
       "43783   Скинали - купить стеклянные фартуки для кухни ...  \n",
       "44862   Gaggenau - элитная бытовая техника премиум кла...  \n",
       "47368       Фасад для кухни | Фасады из Италии | МакБерри  \n",
       "56735   Эксклюзивная техника RawMID - Профессиональные...  \n",
       "58919   Интернет-магазин мультиварок и мелкой бытовой ...  \n",
       "62100                  Cata — испанская техника для кухни  \n",
       "64315   Кармелл - Наружная реклама. Интерьер. Фартук, ...  \n",
       "69589   Скинали из стекла  для кухни | Фотообои на сте...  \n",
       "70497   Бытовая техника для кухни. Купить бытовую техн...  \n",
       "73024   Кухонные комбайны-тестомесы Ankarsrum Assistan...  \n",
       "78467   Профессиональные блендеры JTC OmniBlend профес...  \n",
       "79161   Скинали — купить стеклянный фартук для кухни в...  \n",
       "80677   Купить фартук для кухни с фотопечатью в СПб по...  \n",
       "84739   Интернет-магазин посуды: чайники, сковороды, т...  \n",
       "87095   Встраиваемая бытовая техника для кухни в Росто...  \n",
       "...                                                   ...  \n",
       "203211  Скинали (стеклянные фартуки) для кухни купить ...  \n",
       "204853  Кухни и бытовая техника для кухни на заказ в В...  \n",
       "208344  Интернет магазин мебели для кухни, мебели для ...  \n",
       "210269  Продажа, проектирование, дизайн кухни на заказ...  \n",
       "212274  Стекло и изделия из закаленного стекла: трипле...  \n",
       "215959  МОЙКИ ДЛЯ КУХНИ. Купить мойки для кухни и кухо...  \n",
       "222140  BEQ-shop интернет магазин сантехники: смесител...  \n",
       "225126  Кухни с фасадами из МДФ: Классические кухни, к...  \n",
       "226234  Мойки для кухни из искусственного камня Полигр...  \n",
       "226746  Продажа мебели для кухни г. Иркутск ООО Красив...  \n",
       "227010  Бытовая техника для кухни в Краснодаре.  Встра...  \n",
       "230352  СКИНАЛИ - СТЕКЛЯННЫЕ ФАРТУКИ ДЛЯ КУХНИ— vipfar...  \n",
       "232754  Мир Скинали | Купить стеклянные панели для кух...  \n",
       "233052  Фасады для кухни в Москве | Производство кухон...  \n",
       "239234  Оборудование для профессиональной кухниСанкт-П...  \n",
       "242818               Главная страница - Техника для кухни  \n",
       "244124     Интернет-магазин товаров для кухни «Мир Кухни»  \n",
       "245522  Купить бетон в Новосибирске с доставкой миксер...  \n",
       "248973  Скинали  | Фартук для кухни из стекла в Новоси...  \n",
       "250852  Главная - Магазин встраиваемой техники для кух...  \n",
       "259941  Скинали - стеклянный фартук для кухни с фотопе...  \n",
       "263455  Купить мойку для кухни blanco - интернет магаз...  \n",
       "267340               Скинали, фартук из стекла для кухни.  \n",
       "271872  Интернет-магазин встраиваемой бытовой техники ...  \n",
       "273923  Фартуки, красивые нарядные кухонные фартуки | ...  \n",
       "275935  LEGION KOMFORT - производство мебели для кухни...  \n",
       "276531  КЕРАМИКА-ТУР - Керамическая плитка для ванной ...  \n",
       "279982      АВТОР ДЕКОР фартуки для кухни из стекла Пермь  \n",
       "282252  Artekey Innovation – инновации для кухни и жиз...  \n",
       "282336  Керамическая плитка в Красноярске: плитка для ...  \n",
       "\n",
       "[106 rows x 3 columns]"
      ]
     },
     "execution_count": 12,
     "metadata": {},
     "output_type": "execute_result"
    }
   ],
   "source": [
    "df8888"
   ]
  },
  {
   "cell_type": "code",
   "execution_count": null,
   "metadata": {},
   "outputs": [],
   "source": [
    "df6777d = df6777.merge(dim, indicator='i', how='outer').query('i == \"left_only\"').drop('i', 1)\n",
    "len(df6777d)"
   ]
  },
  {
   "cell_type": "code",
   "execution_count": null,
   "metadata": {},
   "outputs": [],
   "source": [
    "Кухонные комбайны и измельчителит\t\t\t\t\t\t\t\t\t\t\t\t\t\n",
    "Электрочайники и термопоты \n",
    "Блендеры \n",
    "Прочие аксессуары для мелкой кухонной техники\n",
    "Кофемолки электрические \n",
    "Соковыжималки электрические \n",
    "Мясорубки электрические \n",
    "Миксеры \n",
    "Детские кухни и бытовая техника \n",
    "Йогуртницы \n",
    "Микроволновые печи \n",
    "Аксессуары для мясорубок, кухонных комбайнов, блендеров и миксеров\n",
    "мелкая бытовая техника для кухни\n",
    "мелкая бытовая техника для кухни новинки\n",
    "Для кухни "
   ]
  },
  {
   "cell_type": "code",
   "execution_count": null,
   "metadata": {},
   "outputs": [],
   "source": []
  },
  {
   "cell_type": "code",
   "execution_count": null,
   "metadata": {},
   "outputs": [],
   "source": []
  }
 ],
 "metadata": {
  "kernelspec": {
   "display_name": "Python 3",
   "language": "python",
   "name": "python3"
  },
  "language_info": {
   "codemirror_mode": {
    "name": "ipython",
    "version": 3
   },
   "file_extension": ".py",
   "mimetype": "text/x-python",
   "name": "python",
   "nbconvert_exporter": "python",
   "pygments_lexer": "ipython3",
   "version": "3.7.0"
  }
 },
 "nbformat": 4,
 "nbformat_minor": 2
}
